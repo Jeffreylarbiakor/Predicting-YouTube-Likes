{
 "cells": [
  {
   "cell_type": "code",
   "execution_count": null,
   "metadata": {
    "colab": {
     "base_uri": "https://localhost:8080/",
     "height": 72,
     "resources": {
      "http://localhost:8080/nbextensions/google.colab/files.js": {
       "data": "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",
       "headers": [
        [
         "content-type",
         "application/javascript"
        ]
       ],
       "ok": true,
       "status": 200,
       "status_text": "" 
      }
     }
    },
    "id": "ErHLuwkxcajL",
    "outputId": "4b9cb2ee-bd9f-4b65-8490-c77f892589b5"
   },
   "outputs": [
    {
     "data": {
      "text/html": [
       "\n",
       "     <input type=\"file\" id=\"files-be3488d2-790e-4bab-8b14-66431b2e4ae4\" name=\"files[]\" multiple disabled\n",
       "        style=\"border:none\" />\n",
       "     <output id=\"result-be3488d2-790e-4bab-8b14-66431b2e4ae4\">\n",
       "      Upload widget is only available when the cell has been executed in the\n",
       "      current browser session. Please rerun this cell to enable.\n",
       "      </output>\n",
       "      <script src=\"/nbextensions/google.colab/files.js\"></script> "
      ],
      "text/plain": [
       "<IPython.core.display.HTML object>"
      ]
     },
     "metadata": {
      "tags": []
     },
     "output_type": "display_data"
    },
    {
     "name": "stdout",
     "output_type": "stream",
     "text": [
      "Saving hacklive2_dataset_complete.zip to hacklive2_dataset_complete.zip\n"
     ]
    }
   ],
   "source": [
    "from google.colab import files\n",
    "files.upload()\n"
   ]
  },
  {
   "cell_type": "code",
   "execution_count": null,
   "metadata": {
    "colab": {
     "base_uri": "https://localhost:8080/",
     "height": 34
    },
    "id": "hZeG6cy4dMvC",
    "outputId": "16f5d960-a184-4a87-8d1e-816f55e7013e"
   },
   "outputs": [
    {
     "name": "stdout",
     "output_type": "stream",
     "text": [
      "replace sample_submission_cxCGjdN.csv? [y]es, [n]o, [A]ll, [N]one, [r]ename: A\n"
     ]
    }
   ],
   "source": [
    "!unzip -q hacklive2_dataset_complete.zip\n",
    "!pip install -q --upgrade seaborn"
   ]
  },
  {
   "cell_type": "code",
   "execution_count": null,
   "metadata": {
    "id": "xeK7plr3cfAM"
   },
   "outputs": [],
   "source": [
    "import numpy as np\n",
    "import pandas as pd\n",
    "import matplotlib.pyplot as plt\n",
    "%matplotlib inline\n",
    "plt.style.use('seaborn-whitegrid')\n",
    "\n",
    "import seaborn as sns\n",
    "from sklearn.model_selection import train_test_split, StratifiedKFold\n",
    "from sklearn.metrics import accuracy_score, f1_score\n",
    "from sklearn.model_selection import KFold\n",
    "\n",
    "from sklearn.tree import DecisionTreeRegressor\n",
    "from sklearn.ensemble import RandomForestRegressor\n",
    "from sklearn.preprocessing import StandardScaler\n",
    "\n",
    "from sklearn.linear_model import LinearRegression, ElasticNet\n",
    "\n",
    "from lightgbm import LGBMRegressor\n",
    "from catboost import CatBoostRegressor\n",
    "from xgboost import XGBRegressor\n",
    "\n",
    "from IPython.core.interactiveshell import InteractiveShell\n",
    "InteractiveShell.ast_node_interactivity = \"all\"\n",
    "\n",
    "import warnings\n",
    "warnings.simplefilter('ignore')"
   ]
  },
  {
   "cell_type": "code",
   "execution_count": null,
   "metadata": {
    "id": "97D6_CVwc3Mt"
   },
   "outputs": [],
   "source": [
    "ss = pd.read_csv('sample_submission_cxCGjdN.csv')\n",
    "train = pd.read_csv('train.csv')\n",
    "test = pd.read_csv('test.csv')"
   ]
  },
  {
   "cell_type": "code",
   "execution_count": null,
   "metadata": {
    "id": "W-UGqOi-ddbp"
   },
   "outputs": [],
   "source": [
    "ID_COL, TARGET_COL = 'video_id', 'likes'\n",
    "\n",
    "num_cols = ['views', 'dislikes', 'comment_count']\n",
    "cat_cols = ['category_id', 'country_code']\n",
    "text_cols = ['title', 'channel_title', 'tags', 'description']\n",
    "date_cols = ['publish_date']"
   ]
  },
  {
   "cell_type": "code",
   "execution_count": null,
   "metadata": {
    "id": "Y4G3wgjZqbvx"
   },
   "outputs": [],
   "source": [
    "def download_preds(preds_test, file_name = 'hacklive_sub.csv'):\n",
    "\n",
    "  ## 1. Setting the target column with our obtained predictions\n",
    "  ss[TARGET_COL] = preds_test\n",
    "\n",
    "  ## 2. Saving our predictions to a csv file\n",
    "\n",
    "  ss.to_csv(file_name, index = False)\n",
    "\n",
    "  ## 3. Downloading and submitting the csv file\n",
    "  from google.colab import files\n",
    "  files.download(file_name)"
   ]
  },
  {
   "cell_type": "markdown",
   "metadata": {
    "id": "tiTCYZJRpOZC"
   },
   "source": [
    "**Steps to Make a Baseline Regression Model**\n",
    "\n",
    "1. Concatenate/Join the train and test Datasets. All kinds of processing must be performed on both train and test datasets together.\n",
    "\n",
    "2. Convert all Categorical Variables to numbers. We will be use OneHot Encoding for this. \n",
    "\n",
    "3. Fill Null Values. This can be followed by other data processing and feature engineering steps, but we will go into it later.\n",
    "\n",
    "4. Split the dataset back into train and test datasets.\n",
    "\n",
    "5. Split the train set into train and validation sets.\n",
    "\n",
    "6. Fit a regression Model on train, check its results on validation set.\n",
    "\n",
    "7. Predict for the test set.\n",
    "\n",
    "8.  Save the submission as a csv file and submit the model on AV."
   ]
  },
  {
   "cell_type": "markdown",
   "metadata": {
    "id": "ynwnZQ2-pR_j"
   },
   "source": [
    "**1. Concating/Joining train and test datasets.**\n"
   ]
  },
  {
   "cell_type": "code",
   "execution_count": null,
   "metadata": {
    "colab": {
     "base_uri": "https://localhost:8080/",
     "height": 34
    },
    "id": "wwMcVYKAU_Jc",
    "outputId": "573324cb-48f8-4165-addf-6c4a3bc5369a"
   },
   "outputs": [
    {
     "data": {
      "text/plain": [
       "((26061, 12), (11170, 11))"
      ]
     },
     "execution_count": 110,
     "metadata": {
      "tags": []
     },
     "output_type": "execute_result"
    }
   ],
   "source": [
    "train.shape, test.shape"
   ]
  },
  {
   "cell_type": "code",
   "execution_count": null,
   "metadata": {
    "colab": {
     "base_uri": "https://localhost:8080/",
     "height": 34
    },
    "id": "rKWTNBY4pWlm",
    "outputId": "3cc20754-bc6a-430a-a795-0dda3485209b"
   },
   "outputs": [
    {
     "data": {
      "text/plain": [
       "(37231, 12)"
      ]
     },
     "execution_count": 111,
     "metadata": {
      "tags": []
     },
     "output_type": "execute_result"
    }
   ],
   "source": [
    "df = pd.concat([train, test], axis=0).reset_index(drop = True)\n",
    "df.shape"
   ]
  },
  {
   "cell_type": "code",
   "execution_count": null,
   "metadata": {
    "colab": {
     "base_uri": "https://localhost:8080/",
     "height": 557
    },
    "id": "c3U7P_5hVItP",
    "outputId": "992e9e74-8965-49ab-ccc8-ece0033bb71d"
   },
   "outputs": [
    {
     "data": {
      "text/html": [
       "<div>\n",
       "<style scoped>\n",
       "    .dataframe tbody tr th:only-of-type {\n",
       "        vertical-align: middle;\n",
       "    }\n",
       "\n",
       "    .dataframe tbody tr th {\n",
       "        vertical-align: top;\n",
       "    }\n",
       "\n",
       "    .dataframe thead th {\n",
       "        text-align: right;\n",
       "    }\n",
       "</style>\n",
       "<table border=\"1\" class=\"dataframe\">\n",
       "  <thead>\n",
       "    <tr style=\"text-align: right;\">\n",
       "      <th></th>\n",
       "      <th>video_id</th>\n",
       "      <th>title</th>\n",
       "      <th>channel_title</th>\n",
       "      <th>category_id</th>\n",
       "      <th>publish_date</th>\n",
       "      <th>tags</th>\n",
       "      <th>views</th>\n",
       "      <th>dislikes</th>\n",
       "      <th>comment_count</th>\n",
       "      <th>description</th>\n",
       "      <th>country_code</th>\n",
       "      <th>likes</th>\n",
       "    </tr>\n",
       "  </thead>\n",
       "  <tbody>\n",
       "    <tr>\n",
       "      <th>0</th>\n",
       "      <td>53364</td>\n",
       "      <td>Alif Allah Aur Insaan Episode 34 HUM TV Drama ...</td>\n",
       "      <td>HUM TV</td>\n",
       "      <td>24.0</td>\n",
       "      <td>2017-12-12</td>\n",
       "      <td>HUM|\"TV\"|\"Alif Allah Aur Insaan\"|\"Episode 34\"|...</td>\n",
       "      <td>351430.0</td>\n",
       "      <td>298.0</td>\n",
       "      <td>900.0</td>\n",
       "      <td>Alif Allah Aur Insaan Episode 34 Full - 12 Dec...</td>\n",
       "      <td>CA</td>\n",
       "      <td>2351.0</td>\n",
       "    </tr>\n",
       "    <tr>\n",
       "      <th>1</th>\n",
       "      <td>51040</td>\n",
       "      <td>It's Showtime Miss Q &amp; A: Bela gets jealous of...</td>\n",
       "      <td>ABS-CBN Entertainment</td>\n",
       "      <td>24.0</td>\n",
       "      <td>2018-03-08</td>\n",
       "      <td>ABS-CBN Entertainment|\"ABS-CBN\"|\"ABS-CBN Onlin...</td>\n",
       "      <td>461508.0</td>\n",
       "      <td>74.0</td>\n",
       "      <td>314.0</td>\n",
       "      <td>Vice Ganda notices Bela Padilla's sudden chang...</td>\n",
       "      <td>CA</td>\n",
       "      <td>3264.0</td>\n",
       "    </tr>\n",
       "    <tr>\n",
       "      <th>2</th>\n",
       "      <td>1856</td>\n",
       "      <td>ದರ್ಶನ್ ಗೆ ಬಾರಿ ಅವಮಾನ ಮಾಡಿದ ಶಿವಣ್ಣ ನಾಯಕಿ \\n  ಕ್...</td>\n",
       "      <td>SANDALWOOD REVIEWS</td>\n",
       "      <td>24.0</td>\n",
       "      <td>2018-03-26</td>\n",
       "      <td>challenging star darshan latest news|\"challeng...</td>\n",
       "      <td>40205.0</td>\n",
       "      <td>150.0</td>\n",
       "      <td>100.0</td>\n",
       "      <td>ದರ್ಶನ್ ಗೆ ಬಾರಿ ಅವಮಾನ ಮಾಡಿದ ಶಿವಣ್ಣ ನಾಯಕಿ    ಕ್ಲ...</td>\n",
       "      <td>IN</td>\n",
       "      <td>580.0</td>\n",
       "    </tr>\n",
       "    <tr>\n",
       "      <th>3</th>\n",
       "      <td>22618</td>\n",
       "      <td>Havana - swing cover | dodie feat. FLASHBACK</td>\n",
       "      <td>doddleoddle</td>\n",
       "      <td>10.0</td>\n",
       "      <td>2018-02-21</td>\n",
       "      <td>havana|\"cover\"|\"a capella\"|\"swing\"|\"dodie\"|\"fl...</td>\n",
       "      <td>509726.0</td>\n",
       "      <td>847.0</td>\n",
       "      <td>4536.0</td>\n",
       "      <td>Hi hi hi! here's our vid on FLASHBACK's channe...</td>\n",
       "      <td>GB</td>\n",
       "      <td>82773.0</td>\n",
       "    </tr>\n",
       "    <tr>\n",
       "      <th>4</th>\n",
       "      <td>74074</td>\n",
       "      <td>MUMMY NE NI KEHTA - 2  FT. 102 NOT OUT| DUDE S...</td>\n",
       "      <td>Dude Seriously</td>\n",
       "      <td>23.0</td>\n",
       "      <td>2018-05-10</td>\n",
       "      <td>dude|\"seriously\"|\"friends\"|\"fun\"|\"gujarati\"|\"h...</td>\n",
       "      <td>74311.0</td>\n",
       "      <td>69.0</td>\n",
       "      <td>161.0</td>\n",
       "      <td>BOOK YOUR TICKETS HERE:  https://goo.gl/QxdSyg...</td>\n",
       "      <td>IN</td>\n",
       "      <td>3557.0</td>\n",
       "    </tr>\n",
       "  </tbody>\n",
       "</table>\n",
       "</div>"
      ],
      "text/plain": [
       "   video_id  ...    likes\n",
       "0     53364  ...   2351.0\n",
       "1     51040  ...   3264.0\n",
       "2      1856  ...    580.0\n",
       "3     22618  ...  82773.0\n",
       "4     74074  ...   3557.0\n",
       "\n",
       "[5 rows x 12 columns]"
      ]
     },
     "execution_count": 12,
     "metadata": {
      "tags": []
     },
     "output_type": "execute_result"
    }
   ],
   "source": [
    "df.head()"
   ]
  },
  {
   "cell_type": "markdown",
   "metadata": {
    "id": "ffu_OMaLpaVd"
   },
   "source": [
    "\n",
    "**2. Encoding categorical columns.**\n",
    "\n",
    "There are multiple ways to encoded categorical variables. For the sake of simplicity, we will be using One-Hot Encoding."
   ]
  },
  {
   "cell_type": "code",
   "execution_count": null,
   "metadata": {
    "colab": {
     "base_uri": "https://localhost:8080/",
     "height": 140
    },
    "id": "rXTw1Cc-NMD-",
    "outputId": "8a67b3b4-c802-4055-aa21-317896da0af4"
   },
   "outputs": [
    {
     "data": {
      "text/html": [
       "<div>\n",
       "<style scoped>\n",
       "    .dataframe tbody tr th:only-of-type {\n",
       "        vertical-align: middle;\n",
       "    }\n",
       "\n",
       "    .dataframe tbody tr th {\n",
       "        vertical-align: top;\n",
       "    }\n",
       "\n",
       "    .dataframe thead th {\n",
       "        text-align: right;\n",
       "    }\n",
       "</style>\n",
       "<table border=\"1\" class=\"dataframe\">\n",
       "  <thead>\n",
       "    <tr style=\"text-align: right;\">\n",
       "      <th></th>\n",
       "      <th>A</th>\n",
       "      <th>M</th>\n",
       "      <th>O</th>\n",
       "    </tr>\n",
       "  </thead>\n",
       "  <tbody>\n",
       "    <tr>\n",
       "      <th>0</th>\n",
       "      <td>1</td>\n",
       "      <td>0</td>\n",
       "      <td>0</td>\n",
       "    </tr>\n",
       "    <tr>\n",
       "      <th>1</th>\n",
       "      <td>0</td>\n",
       "      <td>0</td>\n",
       "      <td>1</td>\n",
       "    </tr>\n",
       "    <tr>\n",
       "      <th>2</th>\n",
       "      <td>0</td>\n",
       "      <td>1</td>\n",
       "      <td>0</td>\n",
       "    </tr>\n",
       "  </tbody>\n",
       "</table>\n",
       "</div>"
      ],
      "text/plain": [
       "   A  M  O\n",
       "0  1  0  0\n",
       "1  0  0  1\n",
       "2  0  1  0"
      ]
     },
     "execution_count": 112,
     "metadata": {
      "tags": []
     },
     "output_type": "execute_result"
    }
   ],
   "source": [
    "pd.get_dummies(pd.Series(['A', 'O', 'M']))"
   ]
  },
  {
   "cell_type": "code",
   "execution_count": null,
   "metadata": {
    "id": "MvyJaSJEpbTv"
   },
   "outputs": [],
   "source": [
    "df = pd.get_dummies(df, columns = cat_cols)"
   ]
  },
  {
   "cell_type": "code",
   "execution_count": null,
   "metadata": {
    "colab": {
     "base_uri": "https://localhost:8080/",
     "height": 331
    },
    "id": "hissLgoYNbFV",
    "outputId": "432de29d-de21-4c9c-df85-589ffa075e35"
   },
   "outputs": [
    {
     "data": {
      "text/html": [
       "<div>\n",
       "<style scoped>\n",
       "    .dataframe tbody tr th:only-of-type {\n",
       "        vertical-align: middle;\n",
       "    }\n",
       "\n",
       "    .dataframe tbody tr th {\n",
       "        vertical-align: top;\n",
       "    }\n",
       "\n",
       "    .dataframe thead th {\n",
       "        text-align: right;\n",
       "    }\n",
       "</style>\n",
       "<table border=\"1\" class=\"dataframe\">\n",
       "  <thead>\n",
       "    <tr style=\"text-align: right;\">\n",
       "      <th></th>\n",
       "      <th>video_id</th>\n",
       "      <th>title</th>\n",
       "      <th>channel_title</th>\n",
       "      <th>publish_date</th>\n",
       "      <th>tags</th>\n",
       "      <th>views</th>\n",
       "      <th>dislikes</th>\n",
       "      <th>comment_count</th>\n",
       "      <th>description</th>\n",
       "      <th>likes</th>\n",
       "      <th>category_id_1.0</th>\n",
       "      <th>category_id_2.0</th>\n",
       "      <th>category_id_10.0</th>\n",
       "      <th>category_id_15.0</th>\n",
       "      <th>category_id_17.0</th>\n",
       "      <th>category_id_19.0</th>\n",
       "      <th>category_id_20.0</th>\n",
       "      <th>category_id_22.0</th>\n",
       "      <th>category_id_23.0</th>\n",
       "      <th>category_id_24.0</th>\n",
       "      <th>category_id_25.0</th>\n",
       "      <th>category_id_26.0</th>\n",
       "      <th>category_id_27.0</th>\n",
       "      <th>category_id_28.0</th>\n",
       "      <th>category_id_29.0</th>\n",
       "      <th>category_id_30.0</th>\n",
       "      <th>category_id_43.0</th>\n",
       "      <th>country_code_CA</th>\n",
       "      <th>country_code_GB</th>\n",
       "      <th>country_code_IN</th>\n",
       "      <th>country_code_US</th>\n",
       "    </tr>\n",
       "  </thead>\n",
       "  <tbody>\n",
       "    <tr>\n",
       "      <th>0</th>\n",
       "      <td>53364</td>\n",
       "      <td>Alif Allah Aur Insaan Episode 34 HUM TV Drama ...</td>\n",
       "      <td>HUM TV</td>\n",
       "      <td>2017-12-12</td>\n",
       "      <td>HUM|\"TV\"|\"Alif Allah Aur Insaan\"|\"Episode 34\"|...</td>\n",
       "      <td>351430.0</td>\n",
       "      <td>298.0</td>\n",
       "      <td>900.0</td>\n",
       "      <td>Alif Allah Aur Insaan Episode 34 Full - 12 Dec...</td>\n",
       "      <td>2351.0</td>\n",
       "      <td>0</td>\n",
       "      <td>0</td>\n",
       "      <td>0</td>\n",
       "      <td>0</td>\n",
       "      <td>0</td>\n",
       "      <td>0</td>\n",
       "      <td>0</td>\n",
       "      <td>0</td>\n",
       "      <td>0</td>\n",
       "      <td>1</td>\n",
       "      <td>0</td>\n",
       "      <td>0</td>\n",
       "      <td>0</td>\n",
       "      <td>0</td>\n",
       "      <td>0</td>\n",
       "      <td>0</td>\n",
       "      <td>0</td>\n",
       "      <td>1</td>\n",
       "      <td>0</td>\n",
       "      <td>0</td>\n",
       "      <td>0</td>\n",
       "    </tr>\n",
       "    <tr>\n",
       "      <th>1</th>\n",
       "      <td>51040</td>\n",
       "      <td>It's Showtime Miss Q &amp; A: Bela gets jealous of...</td>\n",
       "      <td>ABS-CBN Entertainment</td>\n",
       "      <td>2018-03-08</td>\n",
       "      <td>ABS-CBN Entertainment|\"ABS-CBN\"|\"ABS-CBN Onlin...</td>\n",
       "      <td>461508.0</td>\n",
       "      <td>74.0</td>\n",
       "      <td>314.0</td>\n",
       "      <td>Vice Ganda notices Bela Padilla's sudden chang...</td>\n",
       "      <td>3264.0</td>\n",
       "      <td>0</td>\n",
       "      <td>0</td>\n",
       "      <td>0</td>\n",
       "      <td>0</td>\n",
       "      <td>0</td>\n",
       "      <td>0</td>\n",
       "      <td>0</td>\n",
       "      <td>0</td>\n",
       "      <td>0</td>\n",
       "      <td>1</td>\n",
       "      <td>0</td>\n",
       "      <td>0</td>\n",
       "      <td>0</td>\n",
       "      <td>0</td>\n",
       "      <td>0</td>\n",
       "      <td>0</td>\n",
       "      <td>0</td>\n",
       "      <td>1</td>\n",
       "      <td>0</td>\n",
       "      <td>0</td>\n",
       "      <td>0</td>\n",
       "    </tr>\n",
       "  </tbody>\n",
       "</table>\n",
       "</div>"
      ],
      "text/plain": [
       "   video_id  ... country_code_US\n",
       "0     53364  ...               0\n",
       "1     51040  ...               0\n",
       "\n",
       "[2 rows x 31 columns]"
      ]
     },
     "execution_count": 114,
     "metadata": {
      "tags": []
     },
     "output_type": "execute_result"
    }
   ],
   "source": [
    "df.head(2)"
   ]
  },
  {
   "cell_type": "markdown",
   "metadata": {
    "id": "IdR78RyApu2V"
   },
   "source": [
    "**3. Filling Null Values**\n",
    "\n",
    "As seen earlier in our EDA, our dataset contains null values. There could be multiple ways to fill our Null Values, but for now we will fill it with a large negative random number say -999"
   ]
  },
  {
   "cell_type": "code",
   "execution_count": null,
   "metadata": {
    "colab": {
     "base_uri": "https://localhost:8080/",
     "height": 34
    },
    "id": "1pNCJ3D0pw1v",
    "outputId": "25ec09d6-c0df-4fa2-ce22-1e58b300c120"
   },
   "outputs": [
    {
     "data": {
      "text/plain": [
       "0"
      ]
     },
     "execution_count": 14,
     "metadata": {
      "tags": []
     },
     "output_type": "execute_result"
    }
   ],
   "source": [
    "df = df.fillna(-999)\n",
    "df.isnull().sum().sum()"
   ]
  },
  {
   "cell_type": "code",
   "execution_count": null,
   "metadata": {
    "id": "lKTxlP-Qe_zK"
   },
   "outputs": [],
   "source": [
    "df[num_cols + ['likes']] = df[num_cols + ['likes']].apply(lambda x: np.log1p(x))"
   ]
  },
  {
   "cell_type": "code",
   "execution_count": null,
   "metadata": {
    "colab": {
     "base_uri": "https://localhost:8080/",
     "height": 226
    },
    "id": "bU107K_TNx9Y",
    "outputId": "d39d9c47-ab70-44b7-be5d-e504e15d7561"
   },
   "outputs": [
    {
     "data": {
      "text/plain": [
       "0         7.763021\n",
       "1         8.091015\n",
       "2         6.364751\n",
       "3        11.323869\n",
       "4         8.176954\n",
       "           ...    \n",
       "37226          NaN\n",
       "37227          NaN\n",
       "37228          NaN\n",
       "37229          NaN\n",
       "37230          NaN\n",
       "Name: likes, Length: 37231, dtype: float64"
      ]
     },
     "execution_count": 116,
     "metadata": {
      "tags": []
     },
     "output_type": "execute_result"
    }
   ],
   "source": [
    "df['likes']"
   ]
  },
  {
   "cell_type": "markdown",
   "metadata": {
    "id": "P5pNqBQopyFm"
   },
   "source": [
    "**4. Split the processed dataset back into train and test datasets.**\n",
    "\n",
    "The first train.shape[0] of df are rows that belong to train and the rest are those that belong to test"
   ]
  },
  {
   "cell_type": "code",
   "execution_count": null,
   "metadata": {
    "id": "CL-1-uYapz_s"
   },
   "outputs": [],
   "source": [
    "train_proc, test_proc = df[:train.shape[0]], df[train.shape[0]:].reset_index(drop = True)\n",
    "features = [c for c in train_proc.columns if c not in [ID_COL, TARGET_COL]]"
   ]
  },
  {
   "cell_type": "markdown",
   "metadata": {
    "id": "_URxADdVp1yr"
   },
   "source": [
    "**5. Split the train set into train and validation sets.**\n",
    "\n",
    "We will use 80-20 split with 80% of the rows belonging to training data. Stratified Sampling is necessary, since the dataset is highly imbalanced. Stratified sampling ensures that the minority class is distributed proportionally among the two classes."
   ]
  },
  {
   "cell_type": "code",
   "execution_count": null,
   "metadata": {
    "id": "lALwWUTjp3vB"
   },
   "outputs": [],
   "source": [
    "trn, val = train_test_split(train_proc, test_size=0.2, random_state = 1)\n",
    "\n",
    "###### Input to our model will be the features\n",
    "X_trn, X_val = trn[features], val[features]\n",
    "\n",
    "###### Output of our model will be the TARGET_COL\n",
    "y_trn, y_val = trn[TARGET_COL], val[TARGET_COL]\n",
    "\n",
    "##### Features for the test data that we will be predicting\n",
    "X_test = test_proc[features]"
   ]
  },
  {
   "cell_type": "markdown",
   "metadata": {
    "id": "1nIEVaN-p5k_"
   },
   "source": [
    "**6. Fit a regression Model on train, check its results on validation set.**"
   ]
  },
  {
   "cell_type": "code",
   "execution_count": null,
   "metadata": {
    "id": "WjGvgU6XgNV6"
   },
   "outputs": [],
   "source": [
    "\n",
    "from sklearn.metrics import mean_squared_error, mean_squared_log_error\n",
    "\n",
    "def rmsle(y_true, y_pred):\n",
    "  return np.sqrt(mean_squared_log_error(y_true, y_pred))\n",
    "\n",
    "def av_metric(y_true, y_pred):\n",
    "  return 1000 * np.sqrt(mean_squared_error(y_true, y_pred))"
   ]
  },
  {
   "cell_type": "markdown",
   "metadata": {
    "id": "f556A41efxx_"
   },
   "source": [
    "**Only Numerical Columns**"
   ]
  },
  {
   "cell_type": "code",
   "execution_count": null,
   "metadata": {
    "colab": {
     "base_uri": "https://localhost:8080/",
     "height": 34
    },
    "id": "Vzz2zg5xfwsD",
    "outputId": "a8a26627-9de5-486b-b8de-a6f5d3032da0"
   },
   "outputs": [
    {
     "name": "stdout",
     "output_type": "stream",
     "text": [
      "AV metric score is: 949.5701548787257\n"
     ]
    }
   ],
   "source": [
    "clf = LinearRegression()\n",
    "\n",
    "_ = clf.fit(X_trn[num_cols], y_trn)\n",
    "\n",
    "preds_val = clf.predict(X_val[num_cols])\n",
    "\n",
    "av_metric_score = av_metric(y_val, preds_val)\n",
    "\n",
    "print(f'AV metric score is: {av_metric_score}')"
   ]
  },
  {
   "cell_type": "code",
   "execution_count": null,
   "metadata": {
    "colab": {
     "base_uri": "https://localhost:8080/",
     "height": 17
    },
    "id": "RqJW484BO7c6",
    "outputId": "99a729f1-52c4-49dc-b623-41905afbc049"
   },
   "outputs": [
    {
     "data": {
      "application/javascript": [
       "\n",
       "    async function download(id, filename, size) {\n",
       "      if (!google.colab.kernel.accessAllowed) {\n",
       "        return;\n",
       "      }\n",
       "      const div = document.createElement('div');\n",
       "      const label = document.createElement('label');\n",
       "      label.textContent = `Downloading \"${filename}\": `;\n",
       "      div.appendChild(label);\n",
       "      const progress = document.createElement('progress');\n",
       "      progress.max = size;\n",
       "      div.appendChild(progress);\n",
       "      document.body.appendChild(div);\n",
       "\n",
       "      const buffers = [];\n",
       "      let downloaded = 0;\n",
       "\n",
       "      const channel = await google.colab.kernel.comms.open(id);\n",
       "      // Send a message to notify the kernel that we're ready.\n",
       "      channel.send({})\n",
       "\n",
       "      for await (const message of channel.messages) {\n",
       "        // Send a message to notify the kernel that we're ready.\n",
       "        channel.send({})\n",
       "        if (message.buffers) {\n",
       "          for (const buffer of message.buffers) {\n",
       "            buffers.push(buffer);\n",
       "            downloaded += buffer.byteLength;\n",
       "            progress.value = downloaded;\n",
       "          }\n",
       "        }\n",
       "      }\n",
       "      const blob = new Blob(buffers, {type: 'application/binary'});\n",
       "      const a = document.createElement('a');\n",
       "      a.href = window.URL.createObjectURL(blob);\n",
       "      a.download = filename;\n",
       "      div.appendChild(a);\n",
       "      a.click();\n",
       "      div.remove();\n",
       "    }\n",
       "  "
      ],
      "text/plain": [
       "<IPython.core.display.Javascript object>"
      ]
     },
     "metadata": {
      "tags": []
     },
     "output_type": "display_data"
    },
    {
     "data": {
      "application/javascript": [
       "download(\"download_e81ed3ce-346d-44f4-b77e-eec3c34f0dcc\", \"lr.csv\", 270749)"
      ],
      "text/plain": [
       "<IPython.core.display.Javascript object>"
      ]
     },
     "metadata": {
      "tags": []
     },
     "output_type": "display_data"
    }
   ],
   "source": [
    "preds_test = clf.predict(X_test[num_cols])\n",
    "\n",
    "preds_test = np.expm1(preds_test)\n",
    "\n",
    "download_preds(preds_test, 'lr.csv')"
   ]
  },
  {
   "cell_type": "code",
   "execution_count": null,
   "metadata": {
    "colab": {
     "base_uri": "https://localhost:8080/",
     "height": 415
    },
    "id": "jpo_1zXRPGfd",
    "outputId": "f6f4b2d6-b047-4496-8c08-dd3f5eea0de9"
   },
   "outputs": [
    {
     "data": {
      "text/html": [
       "<div>\n",
       "<style scoped>\n",
       "    .dataframe tbody tr th:only-of-type {\n",
       "        vertical-align: middle;\n",
       "    }\n",
       "\n",
       "    .dataframe tbody tr th {\n",
       "        vertical-align: top;\n",
       "    }\n",
       "\n",
       "    .dataframe thead th {\n",
       "        text-align: right;\n",
       "    }\n",
       "</style>\n",
       "<table border=\"1\" class=\"dataframe\">\n",
       "  <thead>\n",
       "    <tr style=\"text-align: right;\">\n",
       "      <th></th>\n",
       "      <th>video_id</th>\n",
       "      <th>likes</th>\n",
       "    </tr>\n",
       "  </thead>\n",
       "  <tbody>\n",
       "    <tr>\n",
       "      <th>0</th>\n",
       "      <td>87185</td>\n",
       "      <td>699.336920</td>\n",
       "    </tr>\n",
       "    <tr>\n",
       "      <th>1</th>\n",
       "      <td>9431</td>\n",
       "      <td>2703.969243</td>\n",
       "    </tr>\n",
       "    <tr>\n",
       "      <th>2</th>\n",
       "      <td>40599</td>\n",
       "      <td>61.167703</td>\n",
       "    </tr>\n",
       "    <tr>\n",
       "      <th>3</th>\n",
       "      <td>494</td>\n",
       "      <td>2068.652873</td>\n",
       "    </tr>\n",
       "    <tr>\n",
       "      <th>4</th>\n",
       "      <td>73942</td>\n",
       "      <td>1616.879332</td>\n",
       "    </tr>\n",
       "    <tr>\n",
       "      <th>...</th>\n",
       "      <td>...</td>\n",
       "      <td>...</td>\n",
       "    </tr>\n",
       "    <tr>\n",
       "      <th>11165</th>\n",
       "      <td>19415</td>\n",
       "      <td>2124.039869</td>\n",
       "    </tr>\n",
       "    <tr>\n",
       "      <th>11166</th>\n",
       "      <td>25168</td>\n",
       "      <td>3706.544106</td>\n",
       "    </tr>\n",
       "    <tr>\n",
       "      <th>11167</th>\n",
       "      <td>80293</td>\n",
       "      <td>5354.955513</td>\n",
       "    </tr>\n",
       "    <tr>\n",
       "      <th>11168</th>\n",
       "      <td>80880</td>\n",
       "      <td>20543.033487</td>\n",
       "    </tr>\n",
       "    <tr>\n",
       "      <th>11169</th>\n",
       "      <td>6514</td>\n",
       "      <td>4509.509380</td>\n",
       "    </tr>\n",
       "  </tbody>\n",
       "</table>\n",
       "<p>11170 rows × 2 columns</p>\n",
       "</div>"
      ],
      "text/plain": [
       "       video_id         likes\n",
       "0         87185    699.336920\n",
       "1          9431   2703.969243\n",
       "2         40599     61.167703\n",
       "3           494   2068.652873\n",
       "4         73942   1616.879332\n",
       "...         ...           ...\n",
       "11165     19415   2124.039869\n",
       "11166     25168   3706.544106\n",
       "11167     80293   5354.955513\n",
       "11168     80880  20543.033487\n",
       "11169      6514   4509.509380\n",
       "\n",
       "[11170 rows x 2 columns]"
      ]
     },
     "execution_count": 123,
     "metadata": {
      "tags": []
     },
     "output_type": "execute_result"
    }
   ],
   "source": [
    "pd.read_csv('lr.csv')"
   ]
  },
  {
   "cell_type": "markdown",
   "metadata": {
    "id": "OWty5_N6gl6O"
   },
   "source": [
    "**Numerical Columns + Categorical Columns**"
   ]
  },
  {
   "cell_type": "code",
   "execution_count": null,
   "metadata": {
    "colab": {
     "base_uri": "https://localhost:8080/",
     "height": 191
    },
    "id": "Bfs_XM9ghCFD",
    "outputId": "f2ed7d60-da06-42be-ee67-76644bc00c45"
   },
   "outputs": [
    {
     "data": {
      "text/plain": [
       "Index(['title', 'channel_title', 'publish_date', 'tags', 'views', 'dislikes',\n",
       "       'comment_count', 'description', 'category_id_1.0', 'category_id_2.0',\n",
       "       'category_id_10.0', 'category_id_15.0', 'category_id_17.0',\n",
       "       'category_id_19.0', 'category_id_20.0', 'category_id_22.0',\n",
       "       'category_id_23.0', 'category_id_24.0', 'category_id_25.0',\n",
       "       'category_id_26.0', 'category_id_27.0', 'category_id_28.0',\n",
       "       'category_id_29.0', 'category_id_30.0', 'category_id_43.0',\n",
       "       'country_code_CA', 'country_code_GB', 'country_code_IN',\n",
       "       'country_code_US'],\n",
       "      dtype='object')"
      ]
     },
     "execution_count": 124,
     "metadata": {
      "tags": []
     },
     "output_type": "execute_result"
    }
   ],
   "source": [
    "X_trn.columns"
   ]
  },
  {
   "cell_type": "code",
   "execution_count": null,
   "metadata": {
    "id": "nZxDwkBKhDkA"
   },
   "outputs": [],
   "source": [
    "features = [c for c in X_trn.columns if c not in [ID_COL, TARGET_COL]]\n",
    "cat_num_cols = [c for c in features if c not in text_cols + date_cols]"
   ]
  },
  {
   "cell_type": "code",
   "execution_count": null,
   "metadata": {
    "colab": {
     "base_uri": "https://localhost:8080/",
     "height": 34
    },
    "id": "cbOp4X5ifstU",
    "outputId": "eb1eca91-ab30-4ed2-b707-fbba00eb3c38"
   },
   "outputs": [
    {
     "name": "stdout",
     "output_type": "stream",
     "text": [
      "AV metric score is: 873.0627392234118\n"
     ]
    }
   ],
   "source": [
    "clf = LinearRegression()\n",
    "\n",
    "_ = clf.fit(X_trn[cat_num_cols], y_trn)\n",
    "\n",
    "preds_val = clf.predict(X_val[cat_num_cols])\n",
    "\n",
    "av_metric_score = av_metric(y_val, preds_val)\n",
    "\n",
    "print(f'AV metric score is: {av_metric_score}')"
   ]
  },
  {
   "cell_type": "code",
   "execution_count": null,
   "metadata": {
    "colab": {
     "base_uri": "https://localhost:8080/",
     "height": 17
    },
    "id": "W08QHjSjJthL",
    "outputId": "f878dd28-c908-40b9-c3e3-e3be5964c0c2"
   },
   "outputs": [
    {
     "data": {
      "application/javascript": [
       "\n",
       "    async function download(id, filename, size) {\n",
       "      if (!google.colab.kernel.accessAllowed) {\n",
       "        return;\n",
       "      }\n",
       "      const div = document.createElement('div');\n",
       "      const label = document.createElement('label');\n",
       "      label.textContent = `Downloading \"${filename}\": `;\n",
       "      div.appendChild(label);\n",
       "      const progress = document.createElement('progress');\n",
       "      progress.max = size;\n",
       "      div.appendChild(progress);\n",
       "      document.body.appendChild(div);\n",
       "\n",
       "      const buffers = [];\n",
       "      let downloaded = 0;\n",
       "\n",
       "      const channel = await google.colab.kernel.comms.open(id);\n",
       "      // Send a message to notify the kernel that we're ready.\n",
       "      channel.send({})\n",
       "\n",
       "      for await (const message of channel.messages) {\n",
       "        // Send a message to notify the kernel that we're ready.\n",
       "        channel.send({})\n",
       "        if (message.buffers) {\n",
       "          for (const buffer of message.buffers) {\n",
       "            buffers.push(buffer);\n",
       "            downloaded += buffer.byteLength;\n",
       "            progress.value = downloaded;\n",
       "          }\n",
       "        }\n",
       "      }\n",
       "      const blob = new Blob(buffers, {type: 'application/binary'});\n",
       "      const a = document.createElement('a');\n",
       "      a.href = window.URL.createObjectURL(blob);\n",
       "      a.download = filename;\n",
       "      div.appendChild(a);\n",
       "      a.click();\n",
       "      div.remove();\n",
       "    }\n",
       "  "
      ],
      "text/plain": [
       "<IPython.core.display.Javascript object>"
      ]
     },
     "metadata": {
      "tags": []
     },
     "output_type": "display_data"
    },
    {
     "data": {
      "application/javascript": [
       "download(\"download_4219f053-eb28-4900-beb9-610ab328dd61\", \"lr_num_cat.csv\", 270687)"
      ],
      "text/plain": [
       "<IPython.core.display.Javascript object>"
      ]
     },
     "metadata": {
      "tags": []
     },
     "output_type": "display_data"
    }
   ],
   "source": [
    "preds_test = clf.predict(X_test[cat_num_cols])\n",
    "\n",
    "preds_test = np.expm1(preds_test)\n",
    "\n",
    "download_preds(preds_test, 'lr_num_cat.csv')"
   ]
  },
  {
   "cell_type": "code",
   "execution_count": null,
   "metadata": {
    "colab": {
     "base_uri": "https://localhost:8080/",
     "height": 415
    },
    "id": "eGTYrk0EJ_OG",
    "outputId": "ae387549-9737-4933-ac0c-f3d42f84cabc"
   },
   "outputs": [
    {
     "data": {
      "text/html": [
       "<div>\n",
       "<style scoped>\n",
       "    .dataframe tbody tr th:only-of-type {\n",
       "        vertical-align: middle;\n",
       "    }\n",
       "\n",
       "    .dataframe tbody tr th {\n",
       "        vertical-align: top;\n",
       "    }\n",
       "\n",
       "    .dataframe thead th {\n",
       "        text-align: right;\n",
       "    }\n",
       "</style>\n",
       "<table border=\"1\" class=\"dataframe\">\n",
       "  <thead>\n",
       "    <tr style=\"text-align: right;\">\n",
       "      <th></th>\n",
       "      <th>video_id</th>\n",
       "      <th>likes</th>\n",
       "    </tr>\n",
       "  </thead>\n",
       "  <tbody>\n",
       "    <tr>\n",
       "      <th>0</th>\n",
       "      <td>87185</td>\n",
       "      <td>619.274464</td>\n",
       "    </tr>\n",
       "    <tr>\n",
       "      <th>1</th>\n",
       "      <td>9431</td>\n",
       "      <td>2248.410381</td>\n",
       "    </tr>\n",
       "    <tr>\n",
       "      <th>2</th>\n",
       "      <td>40599</td>\n",
       "      <td>59.060247</td>\n",
       "    </tr>\n",
       "    <tr>\n",
       "      <th>3</th>\n",
       "      <td>494</td>\n",
       "      <td>3895.071896</td>\n",
       "    </tr>\n",
       "    <tr>\n",
       "      <th>4</th>\n",
       "      <td>73942</td>\n",
       "      <td>1438.234155</td>\n",
       "    </tr>\n",
       "    <tr>\n",
       "      <th>...</th>\n",
       "      <td>...</td>\n",
       "      <td>...</td>\n",
       "    </tr>\n",
       "    <tr>\n",
       "      <th>11165</th>\n",
       "      <td>19415</td>\n",
       "      <td>1878.938060</td>\n",
       "    </tr>\n",
       "    <tr>\n",
       "      <th>11166</th>\n",
       "      <td>25168</td>\n",
       "      <td>3850.642023</td>\n",
       "    </tr>\n",
       "    <tr>\n",
       "      <th>11167</th>\n",
       "      <td>80293</td>\n",
       "      <td>3957.385411</td>\n",
       "    </tr>\n",
       "    <tr>\n",
       "      <th>11168</th>\n",
       "      <td>80880</td>\n",
       "      <td>10859.721258</td>\n",
       "    </tr>\n",
       "    <tr>\n",
       "      <th>11169</th>\n",
       "      <td>6514</td>\n",
       "      <td>4071.970879</td>\n",
       "    </tr>\n",
       "  </tbody>\n",
       "</table>\n",
       "<p>11170 rows × 2 columns</p>\n",
       "</div>"
      ],
      "text/plain": [
       "       video_id         likes\n",
       "0         87185    619.274464\n",
       "1          9431   2248.410381\n",
       "2         40599     59.060247\n",
       "3           494   3895.071896\n",
       "4         73942   1438.234155\n",
       "...         ...           ...\n",
       "11165     19415   1878.938060\n",
       "11166     25168   3850.642023\n",
       "11167     80293   3957.385411\n",
       "11168     80880  10859.721258\n",
       "11169      6514   4071.970879\n",
       "\n",
       "[11170 rows x 2 columns]"
      ]
     },
     "execution_count": 128,
     "metadata": {
      "tags": []
     },
     "output_type": "execute_result"
    }
   ],
   "source": [
    "pd.read_csv('lr_num_cat.csv')"
   ]
  },
  {
   "cell_type": "code",
   "execution_count": null,
   "metadata": {
    "colab": {
     "base_uri": "https://localhost:8080/",
     "height": 34
    },
    "id": "AxGYx-X4jN3U",
    "outputId": "58e18bcd-0659-4b27-bd3e-1729858e62a8"
   },
   "outputs": [
    {
     "name": "stdout",
     "output_type": "stream",
     "text": [
      "AV metric score is: 933.7445026402412\n"
     ]
    }
   ],
   "source": [
    "clf = DecisionTreeRegressor(random_state=2)\n",
    "\n",
    "_ = clf.fit(X_trn[cat_num_cols], y_trn)\n",
    "\n",
    "preds_val = clf.predict(X_val[cat_num_cols])\n",
    "\n",
    "av_metric_score = av_metric(y_val, preds_val)\n",
    "\n",
    "print(f'AV metric score is: {av_metric_score}')"
   ]
  },
  {
   "cell_type": "markdown",
   "metadata": {
    "id": "HFZ6ntFsxRzf"
   },
   "source": [
    "# **Hyperparameter Tuning**\n",
    "\n",
    "In our decision tree model earlier, we did not change any of the parameters that were input to our model. However hyper-parameters and their values vary from dataset to dataset, and their optimal values have a large impact on the performance of our model.\n",
    "\n",
    "To perform hyperparameter-tuning we specify a list of hyper-parameters to tune and their possible values.\n",
    "\n",
    "For example:\n",
    "```\n",
    "max_depth: [6, 9, 12, 15]\n",
    "learning_rate: [0.0001, 0.005, 0.01, 0.05]\n",
    "```\n",
    "\n",
    "etc."
   ]
  },
  {
   "cell_type": "markdown",
   "metadata": {
    "id": "pfYCDeHLxeJ-"
   },
   "source": [
    "## **1. Grid Search**\n",
    "\n",
    "In grid search we try all possible combinations from the values of hyperparameters provided, to find the optimal hyper-parameter combination. However as the number of hyperparameters and their possible values grows, doing a grid search becomes infeasible.\n",
    "\n",
    "Consider there are 5 hyperparameters to tune, and each of them 5 have different possible values.\n",
    "\n",
    "Then total possible combinations of hyperparameters will be:\n",
    "\n",
    "5 x 5 x 5 x 5 x 5 = 3125.\n",
    "\n",
    "So you will have to wait for your model to run 3125 times, before getting the optimal set of hyperparameters.\n",
    "\n",
    "If you still think you want to run it these many times, you are most welcome :)"
   ]
  },
  {
   "cell_type": "markdown",
   "metadata": {
    "id": "ZV78ROf-pV1P"
   },
   "source": [
    "\n",
    "# **2. Random Search**\n",
    "\n",
    "In random search we will run our model only a fixed number of times, say 10, and among these 10 runs we will return the best hyper-parameter combination. Yes, you are right, this may not be the optimal hyper-parameter combination. But, it saves much more time, so we will go for random search."
   ]
  },
  {
   "cell_type": "code",
   "execution_count": null,
   "metadata": {
    "colab": {
     "base_uri": "https://localhost:8080/",
     "height": 86
    },
    "id": "DI78pBrRjs4R",
    "outputId": "dccb33c0-b957-4844-d6b0-3175a2a81ca9"
   },
   "outputs": [
    {
     "data": {
      "text/plain": [
       "{'max_depth': 12,\n",
       " 'max_features': 0.8,\n",
       " 'max_leaf_nodes': 128,\n",
       " 'min_samples_split': 2}"
      ]
     },
     "execution_count": 130,
     "metadata": {
      "tags": []
     },
     "output_type": "execute_result"
    }
   ],
   "source": [
    "\n",
    "\n",
    "from sklearn.model_selection import RandomizedSearchCV\n",
    "\n",
    "hyperparam_combs = {\n",
    "    'max_depth': [4, 6, 8, 10, 12],\n",
    "    'min_samples_split': [2, 10, 20, 30, 40],\n",
    "    'max_features': [0.2, 0.4, 0.6, 0.8, 1],\n",
    "    'max_leaf_nodes': [8, 16, 32, 64, 128],\n",
    "}\n",
    "\n",
    "clf = RandomizedSearchCV(DecisionTreeRegressor(),\n",
    "                         hyperparam_combs,\n",
    "                         scoring='neg_root_mean_squared_error',\n",
    "                         random_state=1,\n",
    "                         n_iter=20)\n",
    "\n",
    "search = clf.fit(train_proc[cat_num_cols], train_proc[TARGET_COL])\n",
    "\n",
    "search.best_params_"
   ]
  },
  {
   "cell_type": "code",
   "execution_count": null,
   "metadata": {
    "colab": {
     "base_uri": "https://localhost:8080/",
     "height": 34
    },
    "id": "adHGolSmkfBm",
    "outputId": "46ef65ad-241b-4449-bb6d-5005b4000303"
   },
   "outputs": [
    {
     "name": "stdout",
     "output_type": "stream",
     "text": [
      "AV metric score is: 766.018775496316\n"
     ]
    }
   ],
   "source": [
    "best_params = {'max_depth': 12,\n",
    " 'max_features': 0.8,\n",
    " 'max_leaf_nodes': 128,\n",
    " 'random_state': 1,\n",
    " 'min_samples_split': 2}\n",
    "\n",
    "clf = DecisionTreeRegressor(**best_params)\n",
    "\n",
    "_ = clf.fit(X_trn[cat_num_cols], y_trn)\n",
    "\n",
    "preds_val = clf.predict(X_val[cat_num_cols])\n",
    "\n",
    "av_metric_score = av_metric(y_val, preds_val)\n",
    "\n",
    "print(f'AV metric score is: {av_metric_score}')"
   ]
  },
  {
   "cell_type": "code",
   "execution_count": null,
   "metadata": {
    "colab": {
     "base_uri": "https://localhost:8080/",
     "height": 17
    },
    "id": "ANHZukhURuaQ",
    "outputId": "29fff5ee-fb12-4d8c-ac23-37793ebdfb37"
   },
   "outputs": [
    {
     "data": {
      "application/javascript": [
       "\n",
       "    async function download(id, filename, size) {\n",
       "      if (!google.colab.kernel.accessAllowed) {\n",
       "        return;\n",
       "      }\n",
       "      const div = document.createElement('div');\n",
       "      const label = document.createElement('label');\n",
       "      label.textContent = `Downloading \"${filename}\": `;\n",
       "      div.appendChild(label);\n",
       "      const progress = document.createElement('progress');\n",
       "      progress.max = size;\n",
       "      div.appendChild(progress);\n",
       "      document.body.appendChild(div);\n",
       "\n",
       "      const buffers = [];\n",
       "      let downloaded = 0;\n",
       "\n",
       "      const channel = await google.colab.kernel.comms.open(id);\n",
       "      // Send a message to notify the kernel that we're ready.\n",
       "      channel.send({})\n",
       "\n",
       "      for await (const message of channel.messages) {\n",
       "        // Send a message to notify the kernel that we're ready.\n",
       "        channel.send({})\n",
       "        if (message.buffers) {\n",
       "          for (const buffer of message.buffers) {\n",
       "            buffers.push(buffer);\n",
       "            downloaded += buffer.byteLength;\n",
       "            progress.value = downloaded;\n",
       "          }\n",
       "        }\n",
       "      }\n",
       "      const blob = new Blob(buffers, {type: 'application/binary'});\n",
       "      const a = document.createElement('a');\n",
       "      a.href = window.URL.createObjectURL(blob);\n",
       "      a.download = filename;\n",
       "      div.appendChild(a);\n",
       "      a.click();\n",
       "      div.remove();\n",
       "    }\n",
       "  "
      ],
      "text/plain": [
       "<IPython.core.display.Javascript object>"
      ]
     },
     "metadata": {
      "tags": []
     },
     "output_type": "display_data"
    },
    {
     "data": {
      "application/javascript": [
       "download(\"download_eaddd508-1965-41a2-9230-bf7d5afb15aa\", \"dt_num_cat.csv\", 271582)"
      ],
      "text/plain": [
       "<IPython.core.display.Javascript object>"
      ]
     },
     "metadata": {
      "tags": []
     },
     "output_type": "display_data"
    }
   ],
   "source": [
    "preds_test = clf.predict(X_test[cat_num_cols])\n",
    "\n",
    "preds_test = np.expm1(preds_test)\n",
    "\n",
    "download_preds(preds_test, 'dt_num_cat.csv')"
   ]
  },
  {
   "cell_type": "code",
   "execution_count": null,
   "metadata": {
    "colab": {
     "base_uri": "https://localhost:8080/",
     "height": 415
    },
    "id": "5lM6IPdtSQD_",
    "outputId": "cc14cccd-f129-4281-8dd7-4519b8373bbd"
   },
   "outputs": [
    {
     "data": {
      "text/html": [
       "<div>\n",
       "<style scoped>\n",
       "    .dataframe tbody tr th:only-of-type {\n",
       "        vertical-align: middle;\n",
       "    }\n",
       "\n",
       "    .dataframe tbody tr th {\n",
       "        vertical-align: top;\n",
       "    }\n",
       "\n",
       "    .dataframe thead th {\n",
       "        text-align: right;\n",
       "    }\n",
       "</style>\n",
       "<table border=\"1\" class=\"dataframe\">\n",
       "  <thead>\n",
       "    <tr style=\"text-align: right;\">\n",
       "      <th></th>\n",
       "      <th>video_id</th>\n",
       "      <th>likes</th>\n",
       "    </tr>\n",
       "  </thead>\n",
       "  <tbody>\n",
       "    <tr>\n",
       "      <th>0</th>\n",
       "      <td>87185</td>\n",
       "      <td>568.562640</td>\n",
       "    </tr>\n",
       "    <tr>\n",
       "      <th>1</th>\n",
       "      <td>9431</td>\n",
       "      <td>1838.380902</td>\n",
       "    </tr>\n",
       "    <tr>\n",
       "      <th>2</th>\n",
       "      <td>40599</td>\n",
       "      <td>93.315782</td>\n",
       "    </tr>\n",
       "    <tr>\n",
       "      <th>3</th>\n",
       "      <td>494</td>\n",
       "      <td>4189.844435</td>\n",
       "    </tr>\n",
       "    <tr>\n",
       "      <th>4</th>\n",
       "      <td>73942</td>\n",
       "      <td>1388.870653</td>\n",
       "    </tr>\n",
       "    <tr>\n",
       "      <th>...</th>\n",
       "      <td>...</td>\n",
       "      <td>...</td>\n",
       "    </tr>\n",
       "    <tr>\n",
       "      <th>11165</th>\n",
       "      <td>19415</td>\n",
       "      <td>1620.553722</td>\n",
       "    </tr>\n",
       "    <tr>\n",
       "      <th>11166</th>\n",
       "      <td>25168</td>\n",
       "      <td>5752.247223</td>\n",
       "    </tr>\n",
       "    <tr>\n",
       "      <th>11167</th>\n",
       "      <td>80293</td>\n",
       "      <td>5752.247223</td>\n",
       "    </tr>\n",
       "    <tr>\n",
       "      <th>11168</th>\n",
       "      <td>80880</td>\n",
       "      <td>16723.248206</td>\n",
       "    </tr>\n",
       "    <tr>\n",
       "      <th>11169</th>\n",
       "      <td>6514</td>\n",
       "      <td>5752.247223</td>\n",
       "    </tr>\n",
       "  </tbody>\n",
       "</table>\n",
       "<p>11170 rows × 2 columns</p>\n",
       "</div>"
      ],
      "text/plain": [
       "       video_id         likes\n",
       "0         87185    568.562640\n",
       "1          9431   1838.380902\n",
       "2         40599     93.315782\n",
       "3           494   4189.844435\n",
       "4         73942   1388.870653\n",
       "...         ...           ...\n",
       "11165     19415   1620.553722\n",
       "11166     25168   5752.247223\n",
       "11167     80293   5752.247223\n",
       "11168     80880  16723.248206\n",
       "11169      6514   5752.247223\n",
       "\n",
       "[11170 rows x 2 columns]"
      ]
     },
     "execution_count": 135,
     "metadata": {
      "tags": []
     },
     "output_type": "execute_result"
    }
   ],
   "source": [
    "pd.read_csv('dt_num_cat.csv')"
   ]
  },
  {
   "cell_type": "markdown",
   "metadata": {
    "id": "rUfLUZaY4t4Q"
   },
   "source": [
    "# **Validation Strategy.**\n",
    "\n",
    "**Problems with simple train_test_split validation**\n",
    "\n",
    "* We are not using complete 100 % of the dataset for training. More data implies more performance, if the data quality is good.\n",
    "\n",
    "* We are not using complete 100 % of the dataset for validation. Our validation now is biased towards the validation set we have got through train_test_split. What if the test set is different from the validation set ?\n"
   ]
  },
  {
   "cell_type": "markdown",
   "metadata": {
    "id": "Ovx1ULbo5ayK"
   },
   "source": [
    "## **K-Fold Validation**\n",
    "\n"
   ]
  },
  {
   "cell_type": "markdown",
   "metadata": {
    "id": "pfVPUUEs52DM"
   },
   "source": [
    "K Fold validation splits the dataset into K-parts or K-splits.\n",
    "\n",
    "Suppose we are performing a 5-fold validation. Thus we split the training dataset into 5 parts. Each of these will contain 20 % of the dataset.\n",
    "\n",
    "\n",
    "![Untitled Diagram (3).jpg](data:image/jpeg;base64,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)"
   ]
  },
  {
   "cell_type": "markdown",
   "metadata": {
    "id": "xyJHezYm_TKP"
   },
   "source": [
    "Now for each of these parts, we take them as validation one by one and rest of the parts for training. The unshaded or white box, represents the part among A, B, C, D, and E, that we take for validation. Rest are used for training in that particular fold.\n",
    "Then we make two predictions (shown in the right hand side of the diagram):\n",
    "\n",
    "**1. Predictions for the validation set:** This is also known as out-of-fold prediction.\n",
    "\n",
    "**2. Predictions for the test set:** This is the dataset for which we need to submit our predictions to AV.\n",
    "\n",
    "Finally if we combine the predictions for each of these folds we get OOFs or Out-of-Folds predictions. This is the prediction for the entire dataset. We can now see the performance our classifier on the entire training set.\n",
    "\n",
    "Also we take the mean of the test predictions for each fold, and get our final test_predictions. We then need to round it to 0 or 1, since our metric demands we submit a discrete output, ie. no probabilities. "
   ]
  },
  {
   "cell_type": "markdown",
   "metadata": {
    "id": "LuiKVRlYD9lN"
   },
   "source": [
    "![Untitled Diagram (4).jpg](data:image/jpeg;base64,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)"
   ]
  },
  {
   "cell_type": "markdown",
   "metadata": {
    "id": "sDqmmzWH7yDz"
   },
   "source": [
    "## **Stratified K-Fold.**\n",
    "\n",
    "One obvious problem with normal KFold, is that each in each fold the distribution of samples in the validation set, will be not be same. This is a big problem with imbalanced datasets. \n",
    "\n",
    "In our above example its possible that in any of the splits we could have could have a validation set having all samples with less number of likes\n",
    "\n",
    "To overcome this problem we will use Stratified-KFold Validation. StratifiedKFold ensures that each of the splits have same proportion of examples of each type\n",
    "\n"
   ]
  },
  {
   "cell_type": "markdown",
   "metadata": {
    "id": "CyaRIG2lMXYx"
   },
   "source": [
    "![StratifiedKFold_Only.jpg](data:image/jpeg;base64,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)"
   ]
  },
  {
   "cell_type": "markdown",
   "metadata": {
    "id": "O2pz4LK5N2yT"
   },
   "source": [
    "On a side note seeing so many arrows, reminds of Neural Networks."
   ]
  },
  {
   "cell_type": "markdown",
   "metadata": {
    "id": "Z3vLCFXzMhRx"
   },
   "source": [
    "Lets make our Decision Tree Model with Stratified KFold Validation"
   ]
  },
  {
   "cell_type": "markdown",
   "metadata": {
    "id": "1nBO0xPKpUCI"
   },
   "source": [
    "**Function to Run StratifiedKFold**"
   ]
  },
  {
   "cell_type": "code",
   "execution_count": null,
   "metadata": {
    "colab": {
     "base_uri": "https://localhost:8080/",
     "height": 34
    },
    "id": "50eHcBEd6wQN",
    "outputId": "a481ae87-728f-4eb0-b0b4-4514ddb45aaf"
   },
   "outputs": [
    {
     "data": {
      "text/plain": [
       "array([0, 0, 1, 1, 2, 2, 3, 3, 4, 4])"
      ]
     },
     "execution_count": 137,
     "metadata": {
      "tags": []
     },
     "output_type": "execute_result"
    }
   ],
   "source": [
    "pd.qcut(np.arange(10), 5, labels = False, duplicates='drop')"
   ]
  },
  {
   "cell_type": "code",
   "execution_count": null,
   "metadata": {
    "id": "4J7qwXeHeTGI"
   },
   "outputs": [],
   "source": [
    "from sklearn.model_selection import StratifiedKFold"
   ]
  },
  {
   "cell_type": "code",
   "execution_count": null,
   "metadata": {
    "id": "gOdiBDxU4tcb"
   },
   "outputs": [],
   "source": [
    "def run_clf_kfold(clf, train, test, features):\n",
    "\n",
    "  N_SPLITS = 5\n",
    "\n",
    "  oofs = np.zeros(len(train))\n",
    "  preds = np.zeros((len(test)))\n",
    "\n",
    "  target = train[TARGET_COL]\n",
    "\n",
    "  folds = StratifiedKFold(n_splits = N_SPLITS)\n",
    "  stratified_target = pd.qcut(train[TARGET_COL], 10, labels = False, duplicates='drop')\n",
    "\n",
    "  for fold_, (trn_idx, val_idx) in enumerate(folds.split(train, stratified_target)):\n",
    "    print(f'\\n------------- Fold {fold_ + 1} -------------')\n",
    "\n",
    "    ############# Get train, validation and test sets along with targets ################\n",
    "  \n",
    "    ### Training Set\n",
    "    X_trn, y_trn = train[features].iloc[trn_idx], target.iloc[trn_idx]\n",
    "\n",
    "    ### Validation Set\n",
    "    X_val, y_val = train[features].iloc[val_idx], target.iloc[val_idx]\n",
    "\n",
    "    ### Test Set\n",
    "    X_test = test[features]\n",
    "\n",
    "    ############# Scaling Data ################\n",
    "    scaler = StandardScaler()\n",
    "    _ = scaler.fit(X_trn)\n",
    "\n",
    "    X_trn = scaler.transform(X_trn)\n",
    "    X_val = scaler.transform(X_val)\n",
    "    X_test = scaler.transform(X_test)\n",
    "\n",
    "\n",
    "    ############# Fitting and Predicting ################\n",
    "\n",
    "    _ = clf.fit(X_trn, y_trn)\n",
    "\n",
    "    ### Instead of directly predicting the classes we will obtain the probability of positive class.\n",
    "    preds_val = clf.predict(X_val)\n",
    "    preds_test = clf.predict(X_test)\n",
    "\n",
    "    fold_score = av_metric(y_val, preds_val)\n",
    "    print(f'\\nAV metric score for validation set is {fold_score}')\n",
    "\n",
    "    oofs[val_idx] = preds_val\n",
    "    preds += preds_test / N_SPLITS\n",
    "\n",
    "\n",
    "  oofs_score = av_metric(target, oofs)\n",
    "  print(f'\\n\\nAV metric for oofs is {oofs_score}')\n",
    "\n",
    "  return oofs, preds"
   ]
  },
  {
   "cell_type": "markdown",
   "metadata": {
    "id": "3uGqrNqopZPx"
   },
   "source": [
    "**KFold on Decision Tree**"
   ]
  },
  {
   "cell_type": "code",
   "execution_count": null,
   "metadata": {
    "colab": {
     "base_uri": "https://localhost:8080/",
     "height": 418
    },
    "id": "LurQ688clcdW",
    "outputId": "3a7b4e5d-64d0-412f-ac49-73f05f7eeec7"
   },
   "outputs": [
    {
     "name": "stdout",
     "output_type": "stream",
     "text": [
      "\n",
      "------------- Fold 1 -------------\n",
      "\n",
      "AV metric score for validation set is 772.8277838320226\n",
      "\n",
      "------------- Fold 2 -------------\n",
      "\n",
      "AV metric score for validation set is 768.0567612828382\n",
      "\n",
      "------------- Fold 3 -------------\n",
      "\n",
      "AV metric score for validation set is 754.0996782005626\n",
      "\n",
      "------------- Fold 4 -------------\n",
      "\n",
      "AV metric score for validation set is 765.8166071386306\n",
      "\n",
      "------------- Fold 5 -------------\n",
      "\n",
      "AV metric score for validation set is 763.5381985833818\n",
      "\n",
      "\n",
      "AV metric for oofs is 764.8932336098103\n"
     ]
    }
   ],
   "source": [
    "dt_params = {'max_depth': 12,\n",
    " 'max_features': 0.8,\n",
    " 'max_leaf_nodes': 128,\n",
    " 'min_samples_split': 2}\n",
    "\n",
    "clf = DecisionTreeRegressor(**dt_params)\n",
    "        \n",
    "\n",
    "dt_oofs, dt_preds = run_clf_kfold(clf, train_proc, test_proc, cat_num_cols)"
   ]
  },
  {
   "cell_type": "markdown",
   "metadata": {
    "id": "oLtEGJhX2NP-"
   },
   "source": [
    "**Submitting on the Leaderboard**"
   ]
  },
  {
   "cell_type": "code",
   "execution_count": null,
   "metadata": {
    "colab": {
     "base_uri": "https://localhost:8080/",
     "height": 17
    },
    "id": "cwRHIB6gugbg",
    "outputId": "4890a6a2-ebd7-4bea-f88c-3b999d8c557b"
   },
   "outputs": [
    {
     "data": {
      "application/javascript": [
       "\n",
       "    async function download(id, filename, size) {\n",
       "      if (!google.colab.kernel.accessAllowed) {\n",
       "        return;\n",
       "      }\n",
       "      const div = document.createElement('div');\n",
       "      const label = document.createElement('label');\n",
       "      label.textContent = `Downloading \"${filename}\": `;\n",
       "      div.appendChild(label);\n",
       "      const progress = document.createElement('progress');\n",
       "      progress.max = size;\n",
       "      div.appendChild(progress);\n",
       "      document.body.appendChild(div);\n",
       "\n",
       "      const buffers = [];\n",
       "      let downloaded = 0;\n",
       "\n",
       "      const channel = await google.colab.kernel.comms.open(id);\n",
       "      // Send a message to notify the kernel that we're ready.\n",
       "      channel.send({})\n",
       "\n",
       "      for await (const message of channel.messages) {\n",
       "        // Send a message to notify the kernel that we're ready.\n",
       "        channel.send({})\n",
       "        if (message.buffers) {\n",
       "          for (const buffer of message.buffers) {\n",
       "            buffers.push(buffer);\n",
       "            downloaded += buffer.byteLength;\n",
       "            progress.value = downloaded;\n",
       "          }\n",
       "        }\n",
       "      }\n",
       "      const blob = new Blob(buffers, {type: 'application/binary'});\n",
       "      const a = document.createElement('a');\n",
       "      a.href = window.URL.createObjectURL(blob);\n",
       "      a.download = filename;\n",
       "      div.appendChild(a);\n",
       "      a.click();\n",
       "      div.remove();\n",
       "    }\n",
       "  "
      ],
      "text/plain": [
       "<IPython.core.display.Javascript object>"
      ]
     },
     "metadata": {
      "tags": []
     },
     "output_type": "display_data"
    },
    {
     "data": {
      "application/javascript": [
       "download(\"download_bf45e5e5-a28a-4997-b7fd-05039f141b7b\", \"hacklive_dt_5_folds.csv\", 270707)"
      ],
      "text/plain": [
       "<IPython.core.display.Javascript object>"
      ]
     },
     "metadata": {
      "tags": []
     },
     "output_type": "display_data"
    }
   ],
   "source": [
    "dt_preds_t = np.expm1(dt_preds)\n",
    "download_preds(dt_preds_t, file_name = 'hacklive_dt_5_folds.csv')"
   ]
  },
  {
   "cell_type": "markdown",
   "metadata": {
    "id": "e60_DgYIvX62"
   },
   "source": [
    "# **Gradient Boosting**\n",
    "\n",
    "Gradient boosting is a machine learning technique for regression and classification problems, which produces a prediction model in the form of an ensemble of weak prediction models, typically decision trees. It builds the model in a stage-wise fashion like other boosting methods do, and it generalizes them by allowing optimization of an arbitrary differentiable loss function.\n",
    "\n",
    "https://en.wikipedia.org/wiki/Gradient_boosting\n",
    "\n",
    "https://www.analyticsvidhya.com/blog/2020/02/4-boosting-algorithms-machine-learning/\n",
    "\n",
    "Most Popular Variants of GradientBoosting\n",
    "----------------------------\n",
    "\n",
    "1. LightGBM\n",
    "\n",
    "2. XGBoost\n",
    "\n",
    "3. CatBoost"
   ]
  },
  {
   "cell_type": "markdown",
   "metadata": {
    "id": "9BWth6KqzoPV"
   },
   "source": [
    " ## **LightGBM**\n",
    "\n",
    "LightGBM is a gradient boosting framework that uses tree based learning algorithms. It is designed to be distributed and efficient with the following advantages:\n",
    "\n",
    "* Faster training speed and higher efficiency.\n",
    "\n",
    "* Lower memory usage.\n",
    "\n",
    "* Better accuracy.\n",
    "\n",
    "* Support of parallel and GPU learning.\n",
    "\n",
    "* Capable of handling large-scale data.\n",
    "\n",
    "https://lightgbm.readthedocs.io/en/latest/"
   ]
  },
  {
   "cell_type": "code",
   "execution_count": null,
   "metadata": {
    "id": "a-95loGCgbyM"
   },
   "outputs": [],
   "source": [
    "from lightgbm import LGBMRegressor"
   ]
  },
  {
   "cell_type": "code",
   "execution_count": null,
   "metadata": {
    "colab": {
     "base_uri": "https://localhost:8080/",
     "height": 418
    },
    "id": "Abf6cj4fq4ZM",
    "outputId": "549b315f-f7cb-40b8-a038-a86d9e62b42b"
   },
   "outputs": [
    {
     "name": "stdout",
     "output_type": "stream",
     "text": [
      "\n",
      "------------- Fold 1 -------------\n",
      "\n",
      "AV metric score for validation set is 674.7737515393275\n",
      "\n",
      "------------- Fold 2 -------------\n",
      "\n",
      "AV metric score for validation set is 678.3212622895253\n",
      "\n",
      "------------- Fold 3 -------------\n",
      "\n",
      "AV metric score for validation set is 669.5119539218649\n",
      "\n",
      "------------- Fold 4 -------------\n",
      "\n",
      "AV metric score for validation set is 665.6236530707358\n",
      "\n",
      "------------- Fold 5 -------------\n",
      "\n",
      "AV metric score for validation set is 671.8950668383243\n",
      "\n",
      "\n",
      "AV metric for oofs is 672.0393057033824\n"
     ]
    }
   ],
   "source": [
    "clf = LGBMRegressor()\n",
    "lgb_oofs, lgb_preds = run_clf_kfold(clf, train_proc, test_proc, cat_num_cols)"
   ]
  },
  {
   "cell_type": "markdown",
   "metadata": {
    "id": "n2yrxO418pv0"
   },
   "source": [
    "**Submitting on the Leaderboard**"
   ]
  },
  {
   "cell_type": "code",
   "execution_count": null,
   "metadata": {
    "colab": {
     "base_uri": "https://localhost:8080/",
     "height": 17
    },
    "id": "LcGgOR-B8pv5",
    "outputId": "043257fa-f09a-41cb-fa67-8f6095f98da6"
   },
   "outputs": [
    {
     "data": {
      "application/javascript": [
       "\n",
       "    async function download(id, filename, size) {\n",
       "      if (!google.colab.kernel.accessAllowed) {\n",
       "        return;\n",
       "      }\n",
       "      const div = document.createElement('div');\n",
       "      const label = document.createElement('label');\n",
       "      label.textContent = `Downloading \"${filename}\": `;\n",
       "      div.appendChild(label);\n",
       "      const progress = document.createElement('progress');\n",
       "      progress.max = size;\n",
       "      div.appendChild(progress);\n",
       "      document.body.appendChild(div);\n",
       "\n",
       "      const buffers = [];\n",
       "      let downloaded = 0;\n",
       "\n",
       "      const channel = await google.colab.kernel.comms.open(id);\n",
       "      // Send a message to notify the kernel that we're ready.\n",
       "      channel.send({})\n",
       "\n",
       "      for await (const message of channel.messages) {\n",
       "        // Send a message to notify the kernel that we're ready.\n",
       "        channel.send({})\n",
       "        if (message.buffers) {\n",
       "          for (const buffer of message.buffers) {\n",
       "            buffers.push(buffer);\n",
       "            downloaded += buffer.byteLength;\n",
       "            progress.value = downloaded;\n",
       "          }\n",
       "        }\n",
       "      }\n",
       "      const blob = new Blob(buffers, {type: 'application/binary'});\n",
       "      const a = document.createElement('a');\n",
       "      a.href = window.URL.createObjectURL(blob);\n",
       "      a.download = filename;\n",
       "      div.appendChild(a);\n",
       "      a.click();\n",
       "      div.remove();\n",
       "    }\n",
       "  "
      ],
      "text/plain": [
       "<IPython.core.display.Javascript object>"
      ]
     },
     "metadata": {
      "tags": []
     },
     "output_type": "display_data"
    },
    {
     "data": {
      "application/javascript": [
       "download(\"download_417f56b3-1712-4f0a-b743-2eb1f31060d3\", \"hacklive_lgb_5_folds.csv\", 270937)"
      ],
      "text/plain": [
       "<IPython.core.display.Javascript object>"
      ]
     },
     "metadata": {
      "tags": []
     },
     "output_type": "display_data"
    }
   ],
   "source": [
    "lgb_preds_t = np.expm1(lgb_preds)\n",
    "download_preds(lgb_preds_t, file_name = 'hacklive_lgb_5_folds.csv')"
   ]
  },
  {
   "cell_type": "markdown",
   "metadata": {
    "id": "K8zkhlV4xeF0"
   },
   "source": [
    "### **Tuning LightGBM**\n",
    "\n",
    "* Early Stopping: Stopping the model training, when the model starts to overfit\n",
    "  * How do we know if model is overfitting ?\n",
    "* HyperParameter Optimization.\n",
    "  * Is random search the best way to go ?"
   ]
  },
  {
   "cell_type": "markdown",
   "metadata": {
    "id": "9DloGAfAqixR"
   },
   "source": [
    "**Simple Function to Run Gradient Boosting**\n",
    "\n",
    "Let's make a simple function to call gradient boosting and get our oofs and predictions. Rather than copying and pasting the same code again and again/"
   ]
  },
  {
   "cell_type": "code",
   "execution_count": null,
   "metadata": {
    "id": "6kpppxN39l4d"
   },
   "outputs": [],
   "source": [
    "def run_gradient_boosting(clf, fit_params, train, test, features):\n",
    "  N_SPLITS = 5\n",
    "  oofs = np.zeros(len(train_proc))\n",
    "  preds = np.zeros((len(test_proc)))\n",
    "\n",
    "  target = train[TARGET_COL]\n",
    "\n",
    "  folds = StratifiedKFold(n_splits = N_SPLITS)\n",
    "  stratified_target = pd.qcut(train[TARGET_COL], 10, labels = False, duplicates='drop')\n",
    "\n",
    "  feature_importances = pd.DataFrame()\n",
    "\n",
    "  for fold_, (trn_idx, val_idx) in enumerate(folds.split(train, stratified_target)):\n",
    "    print(f'\\n------------- Fold {fold_ + 1} -------------')\n",
    "\n",
    "    ### Training Set\n",
    "    X_trn, y_trn = train[features].iloc[trn_idx], target.iloc[trn_idx]\n",
    "\n",
    "    ### Validation Set\n",
    "    X_val, y_val = train[features].iloc[val_idx], target.iloc[val_idx]\n",
    "\n",
    "    ### Test Set\n",
    "    X_test = test[features]\n",
    "\n",
    "    scaler = StandardScaler()\n",
    "    _ = scaler.fit(X_trn)\n",
    "\n",
    "    X_trn = scaler.transform(X_trn)\n",
    "    X_val = scaler.transform(X_val)\n",
    "    X_test = scaler.transform(X_test)\n",
    "    \n",
    "    _ = clf.fit(X_trn, y_trn, eval_set = [(X_val, y_val)], **fit_params)\n",
    "\n",
    "    fold_importance = pd.DataFrame({'fold': fold_ + 1, 'feature': features, 'importance': clf.feature_importances_})\n",
    "    feature_importances = pd.concat([feature_importances, fold_importance], axis=0)\n",
    "\n",
    "    ### Instead of directly predicting the classes we will obtain the probability of positive class.\n",
    "    preds_val = clf.predict(X_val)\n",
    "    preds_test = clf.predict(X_test)\n",
    "\n",
    "    fold_score = av_metric(y_val, preds_val)\n",
    "    print(f'\\nAV metric score for validation set is {fold_score}')\n",
    "\n",
    "    oofs[val_idx] = preds_val\n",
    "    preds += preds_test / N_SPLITS\n",
    "\n",
    "\n",
    "  oofs_score = av_metric(target, oofs)\n",
    "  print(f'\\n\\nAV metric for oofs is {oofs_score}')\n",
    "\n",
    "  feature_importances = feature_importances.reset_index(drop = True)\n",
    "  fi = feature_importances.groupby('feature')['importance'].mean().sort_values(ascending = False)[:20][::-1]\n",
    "  fi.plot(kind = 'barh', figsize=(12, 6))\n",
    "\n",
    "  return oofs, preds, fi"
   ]
  },
  {
   "cell_type": "markdown",
   "metadata": {
    "id": "Dj6t6uSTqpWQ"
   },
   "source": [
    "**Manual Tuning. Choosing Hyperparameters to Tune**"
   ]
  },
  {
   "cell_type": "code",
   "execution_count": null,
   "metadata": {
    "colab": {
     "base_uri": "https://localhost:8080/",
     "height": 1000
    },
    "id": "ZRbCsJYwxdqb",
    "outputId": "bb8f6894-8205-4b4d-e1d4-0ad4dc9ead2a"
   },
   "outputs": [
    {
     "name": "stdout",
     "output_type": "stream",
     "text": [
      "\n",
      "------------- Fold 1 -------------\n",
      "Training until validation scores don't improve for 100 rounds.\n",
      "[100]\tvalid_0's rmse: 0.688058\n",
      "[200]\tvalid_0's rmse: 0.673056\n",
      "[300]\tvalid_0's rmse: 0.668448\n",
      "[400]\tvalid_0's rmse: 0.666901\n",
      "[500]\tvalid_0's rmse: 0.666187\n",
      "[600]\tvalid_0's rmse: 0.666155\n",
      "[700]\tvalid_0's rmse: 0.665891\n",
      "[800]\tvalid_0's rmse: 0.666161\n",
      "Early stopping, best iteration is:\n",
      "[733]\tvalid_0's rmse: 0.665611\n",
      "\n",
      "AV metric score for validation set is 665.6109435506439\n",
      "\n",
      "------------- Fold 2 -------------\n",
      "Training until validation scores don't improve for 100 rounds.\n",
      "[100]\tvalid_0's rmse: 0.689594\n",
      "[200]\tvalid_0's rmse: 0.676902\n",
      "[300]\tvalid_0's rmse: 0.673678\n",
      "[400]\tvalid_0's rmse: 0.672131\n",
      "[500]\tvalid_0's rmse: 0.672627\n",
      "Early stopping, best iteration is:\n",
      "[406]\tvalid_0's rmse: 0.672039\n",
      "\n",
      "AV metric score for validation set is 672.0387821770701\n",
      "\n",
      "------------- Fold 3 -------------\n",
      "Training until validation scores don't improve for 100 rounds.\n",
      "[100]\tvalid_0's rmse: 0.684084\n",
      "[200]\tvalid_0's rmse: 0.670498\n",
      "[300]\tvalid_0's rmse: 0.667426\n",
      "[400]\tvalid_0's rmse: 0.666549\n",
      "[500]\tvalid_0's rmse: 0.666337\n",
      "[600]\tvalid_0's rmse: 0.66575\n",
      "Early stopping, best iteration is:\n",
      "[576]\tvalid_0's rmse: 0.665617\n",
      "\n",
      "AV metric score for validation set is 665.6172684949846\n",
      "\n",
      "------------- Fold 4 -------------\n",
      "Training until validation scores don't improve for 100 rounds.\n",
      "[100]\tvalid_0's rmse: 0.678885\n",
      "[200]\tvalid_0's rmse: 0.666246\n",
      "[300]\tvalid_0's rmse: 0.661694\n",
      "[400]\tvalid_0's rmse: 0.660505\n",
      "[500]\tvalid_0's rmse: 0.660212\n",
      "[600]\tvalid_0's rmse: 0.660423\n",
      "Early stopping, best iteration is:\n",
      "[541]\tvalid_0's rmse: 0.659901\n",
      "\n",
      "AV metric score for validation set is 659.9007691602422\n",
      "\n",
      "------------- Fold 5 -------------\n",
      "Training until validation scores don't improve for 100 rounds.\n",
      "[100]\tvalid_0's rmse: 0.68468\n",
      "[200]\tvalid_0's rmse: 0.672682\n",
      "[300]\tvalid_0's rmse: 0.669641\n",
      "[400]\tvalid_0's rmse: 0.668778\n",
      "[500]\tvalid_0's rmse: 0.668161\n",
      "[600]\tvalid_0's rmse: 0.668524\n",
      "Early stopping, best iteration is:\n",
      "[513]\tvalid_0's rmse: 0.668029\n",
      "\n",
      "AV metric score for validation set is 668.0293791708145\n",
      "\n",
      "\n",
      "AV metric for oofs is 666.2510809053289\n"
     ]
    },
    {
     "data": {
      "image/png": "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\n",
      "text/plain": [
       "<Figure size 864x432 with 1 Axes>"
      ]
     },
     "metadata": {
      "tags": []
     },
     "output_type": "display_data"
    }
   ],
   "source": [
    "clf = LGBMRegressor(n_estimators = 1000,\n",
    "                        learning_rate = 0.05,\n",
    "                        colsample_bytree = 0.76,\n",
    "                        metric = 'None',\n",
    "                        )\n",
    "fit_params = {'verbose': 100, 'early_stopping_rounds': 100, 'eval_metric': 'rmse'}\n",
    "\n",
    "lgb_oofs, lgb_preds, fi = run_gradient_boosting(clf, fit_params, train_proc, test_proc, cat_num_cols)"
   ]
  },
  {
   "cell_type": "markdown",
   "metadata": {
    "id": "B7JQZ_CuCXZ7"
   },
   "source": [
    "**Submitting on the Leaderboard**"
   ]
  },
  {
   "cell_type": "code",
   "execution_count": null,
   "metadata": {
    "colab": {
     "base_uri": "https://localhost:8080/",
     "height": 17
    },
    "id": "s6CXOFtuCXZ9",
    "outputId": "38e779b1-e3e5-4382-fbfd-a15afc239f7d"
   },
   "outputs": [
    {
     "data": {
      "application/javascript": [
       "\n",
       "    async function download(id, filename, size) {\n",
       "      if (!google.colab.kernel.accessAllowed) {\n",
       "        return;\n",
       "      }\n",
       "      const div = document.createElement('div');\n",
       "      const label = document.createElement('label');\n",
       "      label.textContent = `Downloading \"${filename}\": `;\n",
       "      div.appendChild(label);\n",
       "      const progress = document.createElement('progress');\n",
       "      progress.max = size;\n",
       "      div.appendChild(progress);\n",
       "      document.body.appendChild(div);\n",
       "\n",
       "      const buffers = [];\n",
       "      let downloaded = 0;\n",
       "\n",
       "      const channel = await google.colab.kernel.comms.open(id);\n",
       "      // Send a message to notify the kernel that we're ready.\n",
       "      channel.send({})\n",
       "\n",
       "      for await (const message of channel.messages) {\n",
       "        // Send a message to notify the kernel that we're ready.\n",
       "        channel.send({})\n",
       "        if (message.buffers) {\n",
       "          for (const buffer of message.buffers) {\n",
       "            buffers.push(buffer);\n",
       "            downloaded += buffer.byteLength;\n",
       "            progress.value = downloaded;\n",
       "          }\n",
       "        }\n",
       "      }\n",
       "      const blob = new Blob(buffers, {type: 'application/binary'});\n",
       "      const a = document.createElement('a');\n",
       "      a.href = window.URL.createObjectURL(blob);\n",
       "      a.download = filename;\n",
       "      div.appendChild(a);\n",
       "      a.click();\n",
       "      div.remove();\n",
       "    }\n",
       "  "
      ],
      "text/plain": [
       "<IPython.core.display.Javascript object>"
      ]
     },
     "metadata": {
      "tags": []
     },
     "output_type": "display_data"
    },
    {
     "data": {
      "application/javascript": [
       "download(\"download_11152e4c-8390-40c4-8a85-9fd62d97bcf7\", \"hacklive_lgb_5_folds_tuned.csv\", 270898)"
      ],
      "text/plain": [
       "<IPython.core.display.Javascript object>"
      ]
     },
     "metadata": {
      "tags": []
     },
     "output_type": "display_data"
    }
   ],
   "source": [
    "lgb_preds_t = np.expm1(lgb_preds)\n",
    "download_preds(lgb_preds_t, file_name = 'hacklive_lgb_5_folds_tuned.csv')"
   ]
  },
  {
   "cell_type": "markdown",
   "metadata": {
    "id": "2MLqmluS4vY5"
   },
   "source": [
    "**Tuning Learning Rate**"
   ]
  },
  {
   "cell_type": "code",
   "execution_count": null,
   "metadata": {
    "colab": {
     "base_uri": "https://localhost:8080/",
     "height": 1000
    },
    "id": "oQI6jQcACoba",
    "outputId": "ad3ddec8-7d6b-4d03-dfff-4441679586c4"
   },
   "outputs": [
    {
     "name": "stdout",
     "output_type": "stream",
     "text": [
      "\n",
      "------------- Fold 1 -------------\n",
      "Training until validation scores don't improve for 200 rounds.\n",
      "[300]\tvalid_0's rmse: 0.721861\n",
      "[600]\tvalid_0's rmse: 0.684465\n",
      "[900]\tvalid_0's rmse: 0.675775\n",
      "[1200]\tvalid_0's rmse: 0.671939\n",
      "[1500]\tvalid_0's rmse: 0.669667\n",
      "[1800]\tvalid_0's rmse: 0.668281\n",
      "[2100]\tvalid_0's rmse: 0.667301\n",
      "[2400]\tvalid_0's rmse: 0.66692\n",
      "[2700]\tvalid_0's rmse: 0.666468\n",
      "[3000]\tvalid_0's rmse: 0.666088\n",
      "[3300]\tvalid_0's rmse: 0.665889\n",
      "Early stopping, best iteration is:\n",
      "[3258]\tvalid_0's rmse: 0.66583\n",
      "\n",
      "AV metric score for validation set is 665.8296103716714\n",
      "\n",
      "------------- Fold 2 -------------\n",
      "Training until validation scores don't improve for 200 rounds.\n",
      "[300]\tvalid_0's rmse: 0.721827\n",
      "[600]\tvalid_0's rmse: 0.687805\n",
      "[900]\tvalid_0's rmse: 0.680174\n",
      "[1200]\tvalid_0's rmse: 0.676595\n",
      "[1500]\tvalid_0's rmse: 0.674976\n",
      "[1800]\tvalid_0's rmse: 0.673857\n",
      "[2100]\tvalid_0's rmse: 0.673691\n",
      "Early stopping, best iteration is:\n",
      "[2034]\tvalid_0's rmse: 0.67356\n",
      "\n",
      "AV metric score for validation set is 673.5595131647339\n",
      "\n",
      "------------- Fold 3 -------------\n",
      "Training until validation scores don't improve for 200 rounds.\n",
      "[300]\tvalid_0's rmse: 0.717337\n",
      "[600]\tvalid_0's rmse: 0.679581\n",
      "[900]\tvalid_0's rmse: 0.671809\n",
      "[1200]\tvalid_0's rmse: 0.668628\n",
      "[1500]\tvalid_0's rmse: 0.667199\n",
      "[1800]\tvalid_0's rmse: 0.666652\n",
      "[2100]\tvalid_0's rmse: 0.66639\n",
      "[2400]\tvalid_0's rmse: 0.666178\n",
      "Early stopping, best iteration is:\n",
      "[2467]\tvalid_0's rmse: 0.666158\n",
      "\n",
      "AV metric score for validation set is 666.1582072915304\n",
      "\n",
      "------------- Fold 4 -------------\n",
      "Training until validation scores don't improve for 200 rounds.\n",
      "[300]\tvalid_0's rmse: 0.710966\n",
      "[600]\tvalid_0's rmse: 0.674958\n",
      "[900]\tvalid_0's rmse: 0.667302\n",
      "[1200]\tvalid_0's rmse: 0.664036\n",
      "[1500]\tvalid_0's rmse: 0.661703\n",
      "[1800]\tvalid_0's rmse: 0.66064\n",
      "[2100]\tvalid_0's rmse: 0.65998\n",
      "[2400]\tvalid_0's rmse: 0.659477\n",
      "[2700]\tvalid_0's rmse: 0.659349\n",
      "Early stopping, best iteration is:\n",
      "[2771]\tvalid_0's rmse: 0.659268\n",
      "\n",
      "AV metric score for validation set is 659.2682763309061\n",
      "\n",
      "------------- Fold 5 -------------\n",
      "Training until validation scores don't improve for 200 rounds.\n",
      "[300]\tvalid_0's rmse: 0.715471\n",
      "[600]\tvalid_0's rmse: 0.679723\n",
      "[900]\tvalid_0's rmse: 0.673595\n",
      "[1200]\tvalid_0's rmse: 0.67125\n",
      "[1500]\tvalid_0's rmse: 0.669781\n",
      "[1800]\tvalid_0's rmse: 0.668865\n",
      "[2100]\tvalid_0's rmse: 0.668234\n",
      "[2400]\tvalid_0's rmse: 0.667704\n",
      "[2700]\tvalid_0's rmse: 0.667298\n",
      "[3000]\tvalid_0's rmse: 0.66679\n",
      "[3300]\tvalid_0's rmse: 0.666818\n",
      "Early stopping, best iteration is:\n",
      "[3131]\tvalid_0's rmse: 0.666603\n",
      "\n",
      "AV metric score for validation set is 666.6025207220915\n",
      "\n",
      "\n",
      "AV metric for oofs is 666.2989878134357\n"
     ]
    },
    {
     "data": {
      "image/png": "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\n",
      "text/plain": [
       "<Figure size 864x432 with 1 Axes>"
      ]
     },
     "metadata": {
      "tags": []
     },
     "output_type": "display_data"
    }
   ],
   "source": [
    "clf = LGBMRegressor(n_estimators = 5000,\n",
    "                        learning_rate = 0.01,\n",
    "                        colsample_bytree = 0.76,\n",
    "                        metric = 'None',\n",
    "                        )\n",
    "fit_params = {'verbose': 300, 'early_stopping_rounds': 200, 'eval_metric': 'rmse'}\n",
    "\n",
    "lgb_oofs, lgb_preds, fi = run_gradient_boosting(clf, fit_params, train_proc, test_proc, cat_num_cols)"
   ]
  },
  {
   "cell_type": "markdown",
   "metadata": {
    "id": "hlUCdz9nC-df"
   },
   "source": [
    "**Submitting on the Leaderboard**"
   ]
  },
  {
   "cell_type": "code",
   "execution_count": null,
   "metadata": {
    "colab": {
     "base_uri": "https://localhost:8080/",
     "height": 17
    },
    "id": "a2GidZPqC-dg",
    "outputId": "5c8fccb1-3f58-45ce-fdf7-cf57346a8b93"
   },
   "outputs": [
    {
     "data": {
      "application/javascript": [
       "\n",
       "    async function download(id, filename, size) {\n",
       "      if (!google.colab.kernel.accessAllowed) {\n",
       "        return;\n",
       "      }\n",
       "      const div = document.createElement('div');\n",
       "      const label = document.createElement('label');\n",
       "      label.textContent = `Downloading \"${filename}\": `;\n",
       "      div.appendChild(label);\n",
       "      const progress = document.createElement('progress');\n",
       "      progress.max = size;\n",
       "      div.appendChild(progress);\n",
       "      document.body.appendChild(div);\n",
       "\n",
       "      const buffers = [];\n",
       "      let downloaded = 0;\n",
       "\n",
       "      const channel = await google.colab.kernel.comms.open(id);\n",
       "      // Send a message to notify the kernel that we're ready.\n",
       "      channel.send({})\n",
       "\n",
       "      for await (const message of channel.messages) {\n",
       "        // Send a message to notify the kernel that we're ready.\n",
       "        channel.send({})\n",
       "        if (message.buffers) {\n",
       "          for (const buffer of message.buffers) {\n",
       "            buffers.push(buffer);\n",
       "            downloaded += buffer.byteLength;\n",
       "            progress.value = downloaded;\n",
       "          }\n",
       "        }\n",
       "      }\n",
       "      const blob = new Blob(buffers, {type: 'application/binary'});\n",
       "      const a = document.createElement('a');\n",
       "      a.href = window.URL.createObjectURL(blob);\n",
       "      a.download = filename;\n",
       "      div.appendChild(a);\n",
       "      a.click();\n",
       "      div.remove();\n",
       "    }\n",
       "  "
      ],
      "text/plain": [
       "<IPython.core.display.Javascript object>"
      ]
     },
     "metadata": {
      "tags": []
     },
     "output_type": "display_data"
    },
    {
     "data": {
      "application/javascript": [
       "download(\"download_c55211f9-bfae-495e-9a4b-92223078f56d\", \"hacklive_lgb_5_folds_tuned.csv\", 270971)"
      ],
      "text/plain": [
       "<IPython.core.display.Javascript object>"
      ]
     },
     "metadata": {
      "tags": []
     },
     "output_type": "display_data"
    }
   ],
   "source": [
    "lgb_preds_t = np.expm1(lgb_preds)\n",
    "download_preds(lgb_preds_t, file_name = 'hacklive_lgb_5_folds_tuned.csv')"
   ]
  },
  {
   "cell_type": "markdown",
   "metadata": {
    "id": "XbD-_MWJq92Y"
   },
   "source": [
    "## **CatBoost**\n",
    "\n",
    "CatBoost is a high-performance open source library for gradient boosting on decision trees.\n",
    "\n",
    "Features\n",
    "\n",
    "* Great quality without parameter tuning: Reduce time spent on parameter tuning, because CatBoost provides great results with default parameters\n",
    "\n",
    "* Categorical features support: Improve your training results with CatBoost that allows you to use non-numeric factors, instead of having to pre-process your data or spend time and effort turning it to numbers.\n",
    "\n",
    "* Fast and scalable GPU version: Train your model on a fast implementation of gradient-boosting algorithm for GPU. Use a multi-card configuration for large datasets.\n",
    "\n",
    "* Improved accuracy: Reduce overfitting when constructing your models with a novel gradient-boosting scheme.\n",
    "\n",
    "* Fast prediction: Apply your trained model quickly and efficiently even to latency-critical tasks using CatBoost's model applier\n",
    "\n",
    "https://catboost.ai/"
   ]
  },
  {
   "cell_type": "code",
   "execution_count": null,
   "metadata": {
    "colab": {
     "base_uri": "https://localhost:8080/",
     "height": 1000
    },
    "id": "WBzsJF_y_0F-",
    "outputId": "de37c0c8-a27a-4140-c500-909c6e8c17e4"
   },
   "outputs": [
    {
     "name": "stdout",
     "output_type": "stream",
     "text": [
      "\n",
      "------------- Fold 1 -------------\n",
      "0:\tlearn: 1.9161623\ttest: 1.9077476\tbest: 1.9077476 (0)\ttotal: 11.1ms\tremaining: 33.2s\n",
      "200:\tlearn: 0.8395688\ttest: 0.8496237\tbest: 0.8496237 (200)\ttotal: 900ms\tremaining: 12.5s\n",
      "400:\tlearn: 0.7310593\ttest: 0.7459856\tbest: 0.7459856 (400)\ttotal: 1.76s\tremaining: 11.4s\n",
      "600:\tlearn: 0.7071283\ttest: 0.7225519\tbest: 0.7225519 (600)\ttotal: 2.66s\tremaining: 10.6s\n",
      "800:\tlearn: 0.6931874\ttest: 0.7085013\tbest: 0.7085013 (800)\ttotal: 3.5s\tremaining: 9.61s\n",
      "1000:\tlearn: 0.6828767\ttest: 0.6984767\tbest: 0.6984767 (1000)\ttotal: 4.35s\tremaining: 8.68s\n",
      "1200:\tlearn: 0.6741208\ttest: 0.6901979\tbest: 0.6901979 (1200)\ttotal: 5.18s\tremaining: 7.76s\n",
      "1400:\tlearn: 0.6664207\ttest: 0.6833039\tbest: 0.6833039 (1400)\ttotal: 6.04s\tremaining: 6.89s\n",
      "1600:\tlearn: 0.6604077\ttest: 0.6785152\tbest: 0.6785152 (1600)\ttotal: 6.89s\tremaining: 6.02s\n",
      "1800:\tlearn: 0.6554195\ttest: 0.6750037\tbest: 0.6750022 (1798)\ttotal: 7.75s\tremaining: 5.16s\n",
      "2000:\tlearn: 0.6510266\ttest: 0.6720600\tbest: 0.6720600 (2000)\ttotal: 8.63s\tremaining: 4.31s\n",
      "2200:\tlearn: 0.6472998\ttest: 0.6698285\tbest: 0.6698285 (2200)\ttotal: 9.48s\tremaining: 3.44s\n",
      "2400:\tlearn: 0.6437144\ttest: 0.6677292\tbest: 0.6677292 (2400)\ttotal: 10.3s\tremaining: 2.58s\n",
      "2600:\tlearn: 0.6407440\ttest: 0.6662027\tbest: 0.6662027 (2600)\ttotal: 11.2s\tremaining: 1.72s\n",
      "2800:\tlearn: 0.6377706\ttest: 0.6646979\tbest: 0.6646979 (2800)\ttotal: 12s\tremaining: 856ms\n",
      "2999:\tlearn: 0.6351824\ttest: 0.6635549\tbest: 0.6635549 (2999)\ttotal: 12.9s\tremaining: 0us\n",
      "\n",
      "bestTest = 0.6635549235\n",
      "bestIteration = 2999\n",
      "\n",
      "\n",
      "AV metric score for validation set is 663.5549291970533\n",
      "\n",
      "------------- Fold 2 -------------\n",
      "0:\tlearn: 1.9102145\ttest: 1.9279119\tbest: 1.9279119 (0)\ttotal: 5.64ms\tremaining: 16.9s\n",
      "200:\tlearn: 0.8420830\ttest: 0.8531764\tbest: 0.8531764 (200)\ttotal: 848ms\tremaining: 11.8s\n",
      "400:\tlearn: 0.7323036\ttest: 0.7432106\tbest: 0.7432106 (400)\ttotal: 1.7s\tremaining: 11s\n",
      "600:\tlearn: 0.7065721\ttest: 0.7198568\tbest: 0.7198568 (600)\ttotal: 2.56s\tremaining: 10.2s\n",
      "800:\tlearn: 0.6919000\ttest: 0.7074705\tbest: 0.7074705 (800)\ttotal: 3.41s\tremaining: 9.37s\n",
      "1000:\tlearn: 0.6806796\ttest: 0.6988214\tbest: 0.6988214 (1000)\ttotal: 4.26s\tremaining: 8.51s\n",
      "1200:\tlearn: 0.6710566\ttest: 0.6917759\tbest: 0.6917759 (1200)\ttotal: 5.13s\tremaining: 7.68s\n",
      "1400:\tlearn: 0.6632734\ttest: 0.6863852\tbest: 0.6863852 (1400)\ttotal: 5.97s\tremaining: 6.82s\n",
      "1600:\tlearn: 0.6571608\ttest: 0.6827061\tbest: 0.6827061 (1600)\ttotal: 6.82s\tremaining: 5.96s\n",
      "1800:\tlearn: 0.6517308\ttest: 0.6796638\tbest: 0.6796638 (1800)\ttotal: 7.67s\tremaining: 5.1s\n",
      "2000:\tlearn: 0.6470431\ttest: 0.6774109\tbest: 0.6774109 (2000)\ttotal: 8.56s\tremaining: 4.27s\n",
      "2200:\tlearn: 0.6432165\ttest: 0.6757123\tbest: 0.6757123 (2200)\ttotal: 9.41s\tremaining: 3.42s\n",
      "2400:\tlearn: 0.6395814\ttest: 0.6742337\tbest: 0.6742337 (2400)\ttotal: 10.3s\tremaining: 2.56s\n",
      "2600:\tlearn: 0.6363545\ttest: 0.6730176\tbest: 0.6730176 (2600)\ttotal: 11.2s\tremaining: 1.72s\n",
      "2800:\tlearn: 0.6333779\ttest: 0.6719525\tbest: 0.6719525 (2800)\ttotal: 12s\tremaining: 856ms\n",
      "2999:\tlearn: 0.6306638\ttest: 0.6709549\tbest: 0.6709549 (2999)\ttotal: 12.9s\tremaining: 0us\n",
      "\n",
      "bestTest = 0.6709548934\n",
      "bestIteration = 2999\n",
      "\n",
      "\n",
      "AV metric score for validation set is 670.9548966273591\n",
      "\n",
      "------------- Fold 3 -------------\n",
      "0:\tlearn: 1.9174119\ttest: 1.9024446\tbest: 1.9024446 (0)\ttotal: 6.47ms\tremaining: 19.4s\n",
      "200:\tlearn: 0.8413623\ttest: 0.8407082\tbest: 0.8407082 (200)\ttotal: 858ms\tremaining: 11.9s\n",
      "400:\tlearn: 0.7329084\ttest: 0.7355512\tbest: 0.7355512 (400)\ttotal: 1.72s\tremaining: 11.2s\n",
      "600:\tlearn: 0.7075750\ttest: 0.7125674\tbest: 0.7125674 (600)\ttotal: 2.56s\tremaining: 10.2s\n",
      "800:\tlearn: 0.6930811\ttest: 0.7000954\tbest: 0.7000954 (800)\ttotal: 3.41s\tremaining: 9.37s\n",
      "1000:\tlearn: 0.6828643\ttest: 0.6916706\tbest: 0.6916706 (1000)\ttotal: 4.27s\tremaining: 8.53s\n",
      "1200:\tlearn: 0.6734292\ttest: 0.6845233\tbest: 0.6845233 (1200)\ttotal: 5.13s\tremaining: 7.68s\n",
      "1400:\tlearn: 0.6655906\ttest: 0.6791123\tbest: 0.6791123 (1400)\ttotal: 5.98s\tremaining: 6.82s\n",
      "1600:\tlearn: 0.6593441\ttest: 0.6751888\tbest: 0.6751888 (1600)\ttotal: 6.83s\tremaining: 5.96s\n",
      "1800:\tlearn: 0.6541614\ttest: 0.6723404\tbest: 0.6723404 (1800)\ttotal: 7.68s\tremaining: 5.11s\n",
      "2000:\tlearn: 0.6496541\ttest: 0.6701184\tbest: 0.6701184 (2000)\ttotal: 8.62s\tremaining: 4.3s\n",
      "2200:\tlearn: 0.6454838\ttest: 0.6680138\tbest: 0.6680138 (2200)\ttotal: 9.47s\tremaining: 3.44s\n",
      "2400:\tlearn: 0.6420727\ttest: 0.6665008\tbest: 0.6665008 (2400)\ttotal: 10.3s\tremaining: 2.57s\n",
      "2600:\tlearn: 0.6389001\ttest: 0.6653767\tbest: 0.6653767 (2600)\ttotal: 11.2s\tremaining: 1.72s\n",
      "2800:\tlearn: 0.6360436\ttest: 0.6644582\tbest: 0.6644582 (2800)\ttotal: 12.1s\tremaining: 858ms\n",
      "2999:\tlearn: 0.6333470\ttest: 0.6636626\tbest: 0.6636611 (2998)\ttotal: 12.9s\tremaining: 0us\n",
      "\n",
      "bestTest = 0.6636611253\n",
      "bestIteration = 2998\n",
      "\n",
      "Shrink model to first 2999 iterations.\n",
      "\n",
      "AV metric score for validation set is 663.6611273354283\n",
      "\n",
      "------------- Fold 4 -------------\n",
      "0:\tlearn: 1.9148456\ttest: 1.9132496\tbest: 1.9132496 (0)\ttotal: 4.62ms\tremaining: 13.9s\n",
      "200:\tlearn: 0.8431977\ttest: 0.8412562\tbest: 0.8412562 (200)\ttotal: 862ms\tremaining: 12s\n",
      "400:\tlearn: 0.7337310\ttest: 0.7331794\tbest: 0.7331794 (400)\ttotal: 1.72s\tremaining: 11.2s\n",
      "600:\tlearn: 0.7090460\ttest: 0.7097344\tbest: 0.7097344 (600)\ttotal: 2.56s\tremaining: 10.2s\n",
      "800:\tlearn: 0.6947106\ttest: 0.6971549\tbest: 0.6971549 (800)\ttotal: 3.4s\tremaining: 9.35s\n",
      "1000:\tlearn: 0.6838026\ttest: 0.6884343\tbest: 0.6884343 (1000)\ttotal: 4.25s\tremaining: 8.49s\n",
      "1200:\tlearn: 0.6744362\ttest: 0.6816071\tbest: 0.6816071 (1200)\ttotal: 5.1s\tremaining: 7.63s\n",
      "1400:\tlearn: 0.6663815\ttest: 0.6761546\tbest: 0.6761546 (1400)\ttotal: 6.01s\tremaining: 6.86s\n",
      "1600:\tlearn: 0.6600768\ttest: 0.6723614\tbest: 0.6723614 (1600)\ttotal: 6.88s\tremaining: 6.01s\n",
      "1800:\tlearn: 0.6546965\ttest: 0.6691065\tbest: 0.6691065 (1800)\ttotal: 7.74s\tremaining: 5.15s\n",
      "2000:\tlearn: 0.6500713\ttest: 0.6667331\tbest: 0.6667331 (2000)\ttotal: 8.63s\tremaining: 4.31s\n",
      "2200:\tlearn: 0.6460904\ttest: 0.6646946\tbest: 0.6646946 (2200)\ttotal: 9.5s\tremaining: 3.45s\n",
      "2400:\tlearn: 0.6425891\ttest: 0.6630004\tbest: 0.6630004 (2400)\ttotal: 10.3s\tremaining: 2.58s\n",
      "2600:\tlearn: 0.6395186\ttest: 0.6618048\tbest: 0.6618048 (2600)\ttotal: 11.2s\tremaining: 1.72s\n",
      "2800:\tlearn: 0.6367622\ttest: 0.6605738\tbest: 0.6605738 (2800)\ttotal: 12.1s\tremaining: 858ms\n",
      "2999:\tlearn: 0.6341184\ttest: 0.6596705\tbest: 0.6596705 (2999)\ttotal: 12.9s\tremaining: 0us\n",
      "\n",
      "bestTest = 0.6596704874\n",
      "bestIteration = 2999\n",
      "\n",
      "\n",
      "AV metric score for validation set is 659.6704917786057\n",
      "\n",
      "------------- Fold 5 -------------\n",
      "0:\tlearn: 1.9129559\ttest: 1.9205938\tbest: 1.9205938 (0)\ttotal: 4.59ms\tremaining: 13.8s\n",
      "200:\tlearn: 0.8411112\ttest: 0.8465135\tbest: 0.8465135 (200)\ttotal: 861ms\tremaining: 12s\n",
      "400:\tlearn: 0.7318725\ttest: 0.7387401\tbest: 0.7387401 (400)\ttotal: 1.73s\tremaining: 11.2s\n",
      "600:\tlearn: 0.7067608\ttest: 0.7158236\tbest: 0.7158236 (600)\ttotal: 2.64s\tremaining: 10.5s\n",
      "800:\tlearn: 0.6920012\ttest: 0.7031806\tbest: 0.7031806 (800)\ttotal: 3.49s\tremaining: 9.57s\n",
      "1000:\tlearn: 0.6812983\ttest: 0.6946471\tbest: 0.6946471 (1000)\ttotal: 4.34s\tremaining: 8.66s\n",
      "1200:\tlearn: 0.6721317\ttest: 0.6875761\tbest: 0.6875761 (1200)\ttotal: 5.19s\tremaining: 7.77s\n",
      "1400:\tlearn: 0.6647845\ttest: 0.6824983\tbest: 0.6824983 (1400)\ttotal: 6.05s\tremaining: 6.9s\n",
      "1600:\tlearn: 0.6586835\ttest: 0.6787441\tbest: 0.6787441 (1600)\ttotal: 6.91s\tremaining: 6.03s\n",
      "1800:\tlearn: 0.6537257\ttest: 0.6760045\tbest: 0.6760045 (1800)\ttotal: 7.76s\tremaining: 5.16s\n",
      "2000:\tlearn: 0.6493984\ttest: 0.6737584\tbest: 0.6737584 (2000)\ttotal: 8.62s\tremaining: 4.3s\n",
      "2200:\tlearn: 0.6456967\ttest: 0.6719438\tbest: 0.6719438 (2200)\ttotal: 9.48s\tremaining: 3.44s\n",
      "2400:\tlearn: 0.6422959\ttest: 0.6705308\tbest: 0.6705308 (2400)\ttotal: 10.3s\tremaining: 2.58s\n",
      "2600:\tlearn: 0.6392454\ttest: 0.6693295\tbest: 0.6693295 (2600)\ttotal: 11.2s\tremaining: 1.72s\n",
      "2800:\tlearn: 0.6363476\ttest: 0.6683361\tbest: 0.6683361 (2800)\ttotal: 12.1s\tremaining: 857ms\n",
      "2999:\tlearn: 0.6336030\ttest: 0.6673032\tbest: 0.6673032 (2999)\ttotal: 13s\tremaining: 0us\n",
      "\n",
      "bestTest = 0.6673031753\n",
      "bestIteration = 2999\n",
      "\n",
      "\n",
      "AV metric score for validation set is 667.3031740566428\n",
      "\n",
      "\n",
      "AV metric for oofs is 665.039850627486\n"
     ]
    },
    {
     "data": {
      "image/png": "iVBORw0KGgoAAAANSUhEUgAAAw0AAAFiCAYAAAC03DRGAAAABHNCSVQICAgIfAhkiAAAAAlwSFlzAAALEgAACxIB0t1+/AAAADh0RVh0U29mdHdhcmUAbWF0cGxvdGxpYiB2ZXJzaW9uMy4yLjIsIGh0dHA6Ly9tYXRwbG90bGliLm9yZy+WH4yJAAAgAElEQVR4nOzde1xVZd7//9feHDyBKKIUpRM6NqEgHlK0zHooNsWhxu5RLIFKa+4ajZlw7hHrazp4wLTGGVCZOwcVgTw8xBN4YjAbZ1IJQU0UTTCLwANIKCnEBvfvD3/tOwbYeNiC1vv5j+xrrWtdn7X8/LE++7rWXgaz2WxGRERERESkCcbWDkBERERERO5sKhpERERERMQqFQ0iIiIiImKVigYREREREbFKRYOIiIiIiFilokFERERERKyyb+0ApHk5OTmtHYKIiIiI/AQMGjSo0XYVDXeJpv4DRa5Xfn4+Xl5erR2G3OWUR2ILyiOxBeWR7Vn7olrLk0RERERExCoVDSIiIiIiYpWWJzVix44dPPXUU3fUuA9EbW3haOTH6VRrByA/CsojsQXlkdjCjyuPTs8PbO0QmqSZhv9QU1PDypUrfzLjioiIiIg0p1VnGkwmE1FRURQXF9OmTRvmzZvH4sWLKSoqoqamhoiICIYPH46/vz/jxo1jx44d/OxnP6Nv376Wv99//32ioqJwdXXl6NGjlJeX8+qrr7Jhwwa++eYbkpOTad++PTNmzKCoqIja2loiIiIYNmwYYWFhPPLII+zfv59vvvmGv/3tbyxbtowTJ04wa9YsZs2a1Wjcx44d409/+hMGg4EBAwYwbdo0Tpw4QXR0NEajkQ4dOjB//nxOnDhBSkoKsbGxAPj5+ZGVlXXT44qIiIiItIZWnWnYtGkTbm5urFmzhnHjxrFx40YcHR1JTk4mLi6O2bNnA3D16lX69OlDamoqubm53Hfffaxfv56cnBwuXboEgL29PYmJiTz44IMcPHiQlStX8uCDD5KVlUVaWhpdu3YlKSmJJUuWMG/ePEsMTk5OJCYmMmLECDIyMpg0aRKenp5Wb9znzJnDn/70J9asWcOFCxcoLi5m7ty5/PGPfyQpKYnBgwezatUqq+d+M+OKiIiIiLSGVp1pOHr0KMOGDQMgMDCQOXPm4OfnB4C7uzuOjo5UVFQA0K9fPwwGA126dKFPnz4AuLq6UllZadkO0K1bN3r27AmAm5sblZWVHDp0iJycHHJzcwH47rvvqKmpAeDhhx8G4J577rGM1ZwvvviChx56CIAFCxYAUFhYiK+vL3BtRmHx4sWWc2nMzYwrIiIiIj9e+fn5rR1Ck1q1aLCzs+Pq1av12sxms+XvmpoajEajZd8f9vvP/a1td3Bw4LXXXiMoKKjRGBob25rvY2qKyWTCaDRiMBjqtdfW1t7SuCIiIiLy49Xa7524Y9/T4OPjw/79+wHYvXs3nTp1IisrC4AzZ85gNBrp2LHjLY/j6+vLrl27ALhw4QJ//vOfm9zXaDRSV1dn9Xi9evXi8OHDALz11lsUFhbSu3dvDh48CEB2djbe3t44OTlx/vx5AI4fP87ly5dvaVwRERERkdbQqkVDQEAAVVVVhIaGkpiYyJgxY6irqyMsLIw333yT6Ohom4zz9NNP0759e8aPH89rr71m9e3KXbt2xWQyERER0eQ+b7/9NvPnz+f555/HxcWFXr168f/+3//jz3/+M+Hh4Rw5coTw8HAeeughy7ibN2/mvvvuu6VxRURERERag8GstTF3vJycHKuFjsj1yM/Pb/VpT7n7KY/EFpRHYgvKI9uzds+pl7s1oaSkhGnTpjVoHzx4sGYDREREROQnRUVDEzw8PEhKSmrtMEREREREWp3eCC0iIiIiIlapaBAREREREatUNIiIiIiIiFUqGkRERERExCoVDSIiIiIiYpWKBhERERERsUo/udqMy5cvExwcjK+vLzExMbRt27bBPlFRUfzyl7/Ezs6Or7/+mhEjRhAREcGGDRtsFscDUVttdiz5KTvV2gHIj8KPN49Ozw9s7RBERO5IKhqu06JFi5rdZ8SIEQB8/fXXtzscEREREZEWo6KhEd9++y1vvPEG3333neVV2iNHjiQtLY2DBw/yl7/8hbZt29KlSxfee+89S78NGzZw8uRJJkyYYGn75z//SXJyMn/7299Ys2YNaWlpGI1G/P39mThxIseOHeNPf/oTjo6OODo6smjRIjp27Nji5ywiIiIi0hQ909CIzZs307t3bz788EO8vLzqbUtOTiYqKork5GQCAwOpqKho8jhffvkl8fHx/PnPf6akpIQdO3awevVqUlJSyMjIoKSkhA0bNvD888+TlJTEK6+8Qmlp6e0+PRERERGRG6KZhkYUFhYyePBgAIYMGVJv21NPPcXMmTMJDg4mMDCQrl27NnqMqqoqJk+ezLvvvouzszP/+te/+PLLLwkPDweuPStRXFzMqFGjmDVrFqdPnyYgIIBevXrd3pMTEZEm5efnt3YIPwnV1dW61nLLlEctS0VDI8xmM0bjtUmYq1ev1tv2q1/9iscee4zMzExef/11/vrXvzZ6jLNnz/LMM8/w4YcfMnfuXBwcHHjiiSeIjo5usO/69evZvXs3UVFR/PGPf2To0KG2PykREWnWf84uy+2Rn5+vay23THlkezk5OU1u0/KkRnh6epKXlwdAVlZWvW1LlizB3t6ekJAQAgICKCwsbPIYs2bN4quvvuLf//43ffv2JSsri6qqKsxmM3PmzKG6uprk5GQqKip45plnePHFF1Uxi4iIiMgdRzMNjfjVr37F5MmTefHFFy0PQn/Pw8ODl19+mY4dO9KxY0defvllPvroo0aPYzAYmDt3Lq+99hrr1q0jPDycCRMmYGdnh7+/P23btqVHjx787ne/w9nZGUdHR2JiYlriFEVERERErpvBbDabWzsIsS4nJ6dB8SJyozSNK7agPBJbUB6JLSiPbM/aPaeWJ4mIiIiIiFUqGkRERERExCoVDSIiIiIiYpWKBhERERERsUpFg4iIiIiIWKWiQURERERErFLRICIiIiIiVunlbrdoz549fP3117zwwgu3dZwHorbe1uPLT8Wp1g7gR+f0/MDWDkFEROS2U9Fwi0aMGNHaIYiIiIiI3FZannSDxowZQ0lJCQDFxcX4+fnx7rvvApCSksL48eN54YUXWL58OVVVVTzzzDMAnDt3Di8vL8rLywF45plnqKysZNKkSYSFhRESEsLRo0db56RERERERKxQ0XCD/P392b17NwC7du3i5ZdfBqCoqIgdO3awevVqUlJSyMjI4JtvvsHJyYlLly6Rm5vLww8/zKFDhygvL6dz587s27cPd3d3kpKSeO+997hw4UJrnpqIiIiISKO0POkGPfnkk8yfP58JEyawa9cuAgICuHjxIkeOHOHLL78kPDwcgMuXL1NcXMzDDz/M4cOHyc3N5cUXX+TQoUNcvXqVwYMH079/f/7yl7/wzjvv8OSTT2qpk8hdKD8/v7VDaFHV1dU/uXMW21MeiS0oj1qWioYb1Lt3b86fP8+ZM2eorKzEwcEBAAcHB5544gmio6Pr7f/dd99x6NAhvvzyS6ZPn05qaiq1tbWMHDmSbt26sXnzZrKysli9ejWHDh1iypQprXFaInKTvLy8WjuEFpWfn/+TO2exPeWR2ILyyPZycnKa3KblSTfhiSeeYNGiRYwcOdLS1rdvX7KysqiqqsJsNjNnzhyqq6sZMGAAOTk5tGnTBqPRiMFg4NixY/Tr14+9e/eyd+9ehg8fzowZM8jLy2vFsxIRERERaZxmGm7C6NGjGT9+PFu2bOGzzz4DwMPDg/DwcCZMmICdnR3+/v60bdsWgKqqKoYNGwZcm6k4cuQIjo6O9OjRg//5n//h73//OwaDgYiIiFY7JxERERGRphjMZrO5tYMQ63Jychg0aFBrhyF3OU3jii0oj8QWlEdiC8oj27N2z6nlSSIiIiIiYpWKBhERERERsUpFg4iIiIiIWKWiQURERERErFLRICIiIiIiVqloEBERERERq1Q0iIiIiIiIVXfUy92ys7Pp2bMnXbp0abUYNmzYgLOzM6NHj67X7ufnR1ZWVpP9tm3bxvLlyzEajQwbNow333yTDRs28Ne//pUePXoA8Mgjj/D666/X67dlyxYSExMxGo2MGzeOsWPHNnr8B6K23uKZ3Z1Ozw9s7RBEREREfvLuqKIhNTWViRMntmrR8Nxzz91wn6qqKt577z22bNlChw4dGDduHMHBwQAEBAQwbdq0RvtduXKFJUuWsH79ehwcHPj1r3/N6NGj6dSp0y2dg4iIiIiILbVI0WAymYiKiqK4uJg2bdowb948oqOjuXLlCtXV1cyYMYPKykoyMzM5efIkcXFx5OXlsXz5cuzt7fH29iYqKorKykoiIiKorq7m8ccfZ926dXz00UdkZWWxaNEi7O3tcXd3JyYmhvT0dPbs2cP58+fp2bMnvr6+lm/xAwICSElJoXPnzg1ijYuLo3PnzowfP56pU6dy9uxZfHx8rJ5fu3bt2LJlC05OTgB06tSJioqKZq/L4cOH8fHxwdnZGYCBAweSm5vLyJEjb/QSi4iIiIjcNi3yTMOmTZtwc3NjzZo1jBs3jszMTMaOHUtSUhKRkZEsW7aMRx99FC8vL2JiYnBxcSE+Pp5Vq1aRnJzMmTNnyMnJYdOmTfTq1YvVq1dbbrQBZs6cyaJFi0hOTsbFxYW0tDQAzpw5Q0pKCuHh4Wzfvh2AgoICunfv3mjB8EOffPIJtbW1rF27luDg4GaLgO8LhhMnTlBcXIyvry8An376KZMmTeLFF1/k2LFj9fqUlZXh6upq+ezq6kppael1XlURERERkZbRIjMNR48eZdiwYQAEBgZSWVlJdHQ0CQkJ1NTU0L59+3r7FxQUUFJSwqRJkwCorKykpKSEwsJChgwZAsCoUaNISEigoqICg8HAvffeC1x79iA7O5s+ffrg4+ODwWDgwQcf5NKlS5SXl7Nr1y7L0iFrCgoKGDBgAAC+vr60bdu22T6nT5/mD3/4A++//z4ODg74+vri6urKE088wcGDB5k2bZqloGmM2Wxudoyfmvz8/NYO4Uejurpa11NumfJIbEF5JLagPGpZLVI02NnZcfXqVcvnxMRE3N3dWbhwIUeOHGHBggX19ndwcMDb25uEhIR67QcOHMBovDY5YjAYLP/+8GbbZDJZtjk4OFjag4KCyMjIYN++fcTHxzcbs9lstowF1Iu/MWfPnmXy5MksWLAALy8vAHr16kWvXr0AGDBgAOXl5dTV1WFnZwdAt27dKCsrsxzj/Pnz9O/fv9nYfkq+v5Zy6/Lz83U95ZYpj8QWlEdiC8oj28vJyWlyW4ssT/Lx8WH//v0A7N69m/j4eMsvCmVmZmIymYBrBUBdXR2enp4UFhZy4cIFAGJjYzl37hw9evQgLy8PgD179gDg4uKCwWCgpKQEuLYcyNvbu0EMQUFBbNiwga5du9KuXbtmY/b09LSMlZubS01NjdX93377bWbNmkXfvn0tbcuWLSM9PR2Azz//HFdXV0vBANdmMI4cOcKlS5e4fPkyubm5PPzww83GJiIiIiLSklpkpiEgIIC9e/cSGhqKvb09K1asYObMmezYsYMJEyaQnp5OamoqQ4YMISIigqVLl/LWW2/x6quv4ujoSJ8+fejWrRtjxozht7/9LWFhYTzyyCOWmYDZs2czdepU7O3t6d69O4GBgWzZsqVeDG5ubrRv356goKDrinnEiBGkpqYSGhrKQw89hLu7e5P7fvHFFxw4cIDY2FhL20svvURwcDD/8z//w5o1a6itrWXu3LkAfPDBBwwePJgBAwYwdepUJk2ahMFgYPLkyfWe1RARERERuRMYzHfRQvri4mJOnTrFY489xsGDB4mLi2P58uXX1be8vJxXXnmF9evX11t2dDfIyclh0KBBrR2G3OU0jSu2oDwSW1AeiS0oj2zP2j3nHfWehuY4OzuzcuVKlixZAlxbEnQ9MjMziY2NZfr06ZaCYcqUKVy8eLHefk5OTlafd1i7dq1ludEPRUZGWh6aFhERERH5sbmrioaOHTs2eDj6evj7++Pv71+vbfHixTd8nJCQEEJCQm64n4iIiIjI3ezuWqcjIiIiIiItTkWDiIiIiIhYpaJBRERERESsUtEgIiIiIiJWqWgQERERERGr7qpfT/opeyBqa4uPeXp+YIuPKSIiIiJ3nrt6piE7O5sLFy60+Li7d+8mKirqhvtFRUWxe/duAEaOHElSUpJl29dff31TxxQRERERud3u6qIhNTW1VYoGW+jSpQvr1q3j22+/be1QRERERESsarHlSSaTiaioKIqLi2nTpg3z5s1j8eLFFBUVUVNTQ0REBMOHD2fkyJGkpaXRoUMH3n33XXr37g1ce611eXk5X3zxBZMmTcLDw4PMzExOnjxJXFwcL730En369GHw4MFs3bqVDz/8EID4+Hg6dOhAeHh4o3EtW7aMnTt3YjQaiYyMZOjQoSQmJrJt2zYARo0axW9+8xtOnDjBtGnTcHFxoUePHpb+KSkppKWlYTQa8ff3Z+LEidd1Pdq2bcuvfvUrEhIS+N3vfncrl1ZERERE5LZqsZmGTZs24ebmxpo1axg3bhwbN27E0dGR5ORk4uLimD17ttX+n3/+OYsXL2bJkiUkJyfz6KOP4uXlRUxMDB4eHhQVFTF58mQmTJhATU0NZ8+eBeDjjz8mICCg0WOePn2anTt3sm7dOhYuXEhaWhpFRUVs3LiRlJQUUlJS2L59O1999RVLly5lypQpJCYmYjReu2xFRUXs2LGD1atXk5KSQkZGBiUlJdd9TUJCQti9ezelpaXX3UdEREREpKW12EzD0aNHGTZsGACBgYHMmTMHPz8/ANzd3XF0dKSioqLJ/v3798fOzo577rmHysrKBtvbtWtnmZV45pln2L59OwEBATg5OeHm5tboMY8dO4avry9Go5Gf/exnzJ07l4yMDHx9fbG3v3ZpBg4cyPHjxyksLGTgwIEA+Pn5sWfPHo4cOcKXX35pmcW4fPkyxcXFeHh4XNc1sbe357//+7+Ji4vjN7/5zXX1aUn5+fmtHYLYUHV1tf5P5ZYpj8QWlEdiC8qjltViRYOdnR1Xr16t12Y2my1/19TUWL7B/57JZLL8/f1NfFMcHBwsfwcFBfHGG2/Qrl07goKCbigmg8FQLy6TyYTRaMRsNmMwGAAsfRwcHHjiiSeIjo62Gps1Tz/9NImJiZw+ffqmj3G7eHl5tXYIYkP5+fn6P5VbpjwSW1AeiS0oj2wvJyenyW0ttjzJx8eH/fv3A9d+fahTp05kZWUBcObMGYxGIx07dsTJyYnS0lLq6uo4fPiw1WMaDAbq6uoatLu6uuLi4sLmzZsZPXp0k/379u1Lbm4utbW1lJWVMXnyZLy8vDh06BC1tbXU1tZy+PBhvLy88PT0JC8vD8ASd9++fcnKyqKqqgqz2cycOXOorq6+4Wvz5ptv8uc///mG+4mIiIiItIQWm2kICAhg7969hIaGYm9vz9y5c1m6dClhYWGYTCbLt/WhoaG89tpreHp68vOf/9zqMYcMGUJERARLly5tsO2Xv/wlu3fvxsnJqcn+999/P88++yyhoaGYzWbefPNN7r//fkJCQixtY8eO5b777uP1119n+vTprFq1iu7du2MymfDw8CA8PJwJEyZgZ2eHv78/bdu2veFr4+fn1+QSKhERERGR1mYw/3Atzo/ItGnTGDNmDEOHDm3tUG5ZTk4OgwYNau0w5C6naVyxBeWR2ILySGxBeWR71u45f3RvhP7uu+8ICwvDx8fHUjCsXbuW9PT0BvtGRkYyYMAAm47/2WefsXDhwgbtTz/9NC+88IJNxxIRERERaQk/uqKhTZs2rFu3rl5bSEgIISEhLTJ+v3796r3pWURERETkbndXvxFaRERERERuPxUNIiIiIiJilYoGERERERGxSkWDiIiIiIhYpaJBRERERESsuqN+PSk7O5uePXvSpUuXVothw4YNODs7N3iTtJ+fn+VN0I25ePEikZGRdOjQgdjYWABMJhNRUVGUlJRgZ2dHTEwM3bt3r9dvy5YtJCYmYjQaGTduHGPHjm30+A9Ebb3FM7s+p+cHtsg4IiIiInL3uKNmGlJTU7lw4UKrxvDcc881KBiux8yZMxu8DCM9PZ2OHTuyevVqXnvtNd5///16269cucKSJUtYuXIlSUlJJCYmUlFRcUvxi4iIiIjYWovMNHz/jXtxcTFt2rRh3rx5REdHc+XKFaqrq5kxYwaVlZVkZmZy8uRJ4uLiyMvLY/ny5djb2+Pt7U1UVBSVlZVERERQXV3N448/zrp16/joo4/Iyspi0aJF2Nvb4+7uTkxMDOnp6ezZs4fz58/Ts2dPfH19Ld/iBwQEkJKSQufOnRvEGhcXR+fOnRk/fjxTp07l7Nmz+Pj4NHuOc+bM4ejRoxw/ftzStm/fPn71q18B8Mgjj/DWW2/V63P48GF8fHxwdnYGYODAgeTm5jJy5MibvtYiIiIiIrbWIjMNmzZtws3NjTVr1jBu3DgyMzMZO3YsSUlJREZGsmzZMh599FG8vLyIiYnBxcWF+Ph4Vq1aRXJyMmfOnCEnJ4dNmzbRq1cvVq9ebbnRhmvf8i9atIjk5GRcXFxIS0sD4MyZM6SkpBAeHs727dsBKCgooHv37o0WDD/0ySefUFtby9q1awkODm52BsDJyalBW1lZGa6urgAYjUYMBgM1NTWNbgdwdXWltLS0maspIiIiItKyWmSm4ejRowwbNgyAwMBAKisriY6OJiEhgZqaGtq3b19v/4KCAkpKSpg0aRIAlZWVlJSUUFhYyJAhQwAYNWoUCQkJVFRUYDAYuPfee4Frzx5kZ2fTp08ffHx8MBgMPPjgg1y6dIny8nJ27dpFcHBwszEXFBQwYMAAAHx9fWnbtu0tXwez2XxL21tCfn5+a4cgt0l1dbX+f+WWKY/EFpRHYgvKo5bVIkWDnZ0dV69etXxOTEzE3d2dhQsXcuTIERYsWFBvfwcHB7y9vUlISKjXfuDAAYzGa5MjBoPB8u8Pb7ZNJpNlm4ODg6U9KCiIjIwM9u3bR3x8fLMxm81my1hAvfivV7du3SgtLeWhhx7CZDJhNptxdHSst72srMzy+fz58/Tv3/+Gx7ElLy+vVh1fbp/8/Hz9/8otUx6JLSiPxBaUR7aXk5PT5LYWWZ7k4+PD/v37Adi9ezfx8fH06NEDgMzMTEwmE3CtAKirq8PT05PCwkLLQ9GxsbGcO3eOHj16kJeXB8CePXsAcHFxwWAwUFJSAsCnn36Kt7d3gxiCgoLYsGEDXbt2pV27ds3G7OnpaRkrNze33rKi6/Xoo4+yY8cOy3n7+fnV2+7r68uRI0e4dOkSly9fJjc3l4cffviGxxERERERuZ1apGgICAigqqqK0NBQEhMTWbFiBStWrGDixIn069eP0tJSUlNTGTJkCBEREXz99de89dZbvPrqq4wfP56Kigq6devGmDFjOHDgAGFhYZSVlVlmAmbPns3UqVMJCwujtraWwMCGPxvq5uZG+/btCQoKuq6YR4wYQXV1NaGhoWzbtg13d/cm962rqyMsLIx58+bx6aefEhYWxr59+wgICODq1as8//zzpKSkMHXqVAA++OADDh48SNu2bZk6dSqTJk3i5ZdfZvLkyfWe1RARERERuRMYzHfCQvrrVFxczKlTp3jsscc4ePAgcXFxLF++/Lr6lpeX88orr7B+/fp6y47uBjk5OQ1+zlXkRmkaV2xBeSS2oDwSW1Ae2Z61e8476uVuzXF2dmblypUsWbIEgLfffvu6+mVmZhIbG8v06dMtBcOUKVO4ePFivf2cnJysPu+wdu1a0tPTG7RHRkZaHpoWEREREfmxuauKho4dOzZ4OPp6+Pv74+/vX69t8eLFN3yckJAQQkJCbrifiIiIiMjd7O5apyMiIiIiIi1ORYOIiIiIiFilokFERERERKxS0SAiIiIiIlapaBAREREREavuqF9Pys7OpmfPnnTp0qXVYtiwYQPOzs6MHj26Xrufnx9ZWVlN9rt48SKRkZF06NCB2NhYAOLj49m7dy8AV69epaysjJ07d9br9/e//50dO3ZgMBiYMmUKjz/+eKPHfyBq662clsXp+Q1ffCciIiIiYs0dVTSkpqYyceLEVi0annvuuZvqN3PmTAYNGsTx48ctba+//jqvv/46ABs3buTChQv1+hQVFbFt2zbWrFnDt99+ywsvvMDw4cOxs7O7+RMQEREREbGxFikaTCYTUVFRFBcX06ZNG+bNm0d0dDRXrlyhurqaGTNmUFlZSWZmJidPniQuLo68vDyWL1+Ovb093t7eREVFUVlZSUREBNXV1Tz++OOsW7eOjz76iKysLBYtWoS9vT3u7u7ExMSQnp7Onj17OH/+PD179sTX15exY8cCEBAQQEpKCp07d24Qa1xcHJ07d2b8+PFMnTqVs2fP4uPj0+w5zpkzh6NHj9YrGr5XW1vL6tWrWbVqVb32rKwsHnvsMRwdHXF1deW+++6joKCAX/ziFzd5pUVEREREbK9FnmnYtGkTbm5urFmzhnHjxpGZmcnYsWNJSkoiMjKSZcuW8eijj+Ll5UVMTAwuLi7Ex8ezatUqkpOTOXPmDDk5OWzatIlevXqxevVqnJ2dLcefOXMmixYtIjk5GRcXF9LS0gA4c+YMKSkphIeHs337dgAKCgro3r17owXDD33yySfU1taydu1agoODqaiosLq/k5NTk9syMjIYPnw4bdu2rddeVlaGq6ur5bOrqyulpaVWxxERERERaWktMtNw9OhRhg0bBkBgYCCVlZVER0eTkJBATU0N7du3r7d/QUEBJSUlTJo0CYDKykpKSkooLCxkyJAhAIwaNYqEhAQqKiowGAzce++9wLVnD7Kzs+nTpw8+Pj4YDAYefPBBLl26RHl5Obt27SI4OLjZmAsKChgwYAAAvr6+DW74b0Rqaip/+tOfmt3PbDbf9BjXKz8//7aPIXem6upq/f/LLVMeiS0oj8QWlEctq0WKBjs7O0PEbPsAACAASURBVK5evWr5nJiYiLu7OwsXLuTIkSMsWLCg3v4ODg54e3uTkJBQr/3AgQMYjdcmRwwGg+XfH95sm0wmyzYHBwdLe1BQEBkZGezbt4/4+PhmYzabzZaxgHrx34grV65w9uxZ7r///gbbunXrxhdffGH5fO7cObp163ZT41wvLy+v23p8uXPl5+fr/19umfJIbEF5JLagPLK9nJycJre1yPIkHx8f9u/fD8Du3buJj4+nR48eAGRmZmIymYBrBUBdXR2enp4UFhZaHhyOjY3l3Llz9OjRg7y8PAD27NkDgIuLCwaDgZKSEgA+/fRTvL29G8QQFBTEhg0b6Nq1K+3atWs2Zk9PT8tYubm51NTU3NS5Hz9+nJ49eza6bejQoXz88cfU1NRw7tw5zp8/z89//vObGkdERERE5HZpkaIhICCAqqoqQkNDSUxMZMWKFaxYsYKJEyfSr18/SktLSU1NZciQIURERPD111/z1ltv8eqrrzJ+/HgqKiro1q0bY8aM4cCBA4SFhVFWVmaZCZg9ezZTp04lLCyM2tpaAgMb/qyom5sb7du3Jygo6LpiHjFiBNXV1YSGhrJt2zbc3d2b3Leuro6wsDDmzZvHp59+SlhYGPv27QOgtLS03nMLAHPnzqWoqAgPDw/GjRtHaGgoERERzJo1q97shoiIiIjIncBgbomF9DZSXFzMqVOneOyxxzh48CBxcXEsX778uvqWl5fzyiuvsH79+rvuxjwnJ4dBgwa1dhhyl9M0rtiC8khsQXkktqA8sj1r95x31HsamuPs7MzKlStZsmQJAG+//fZ19cvMzCQ2Npbp06dbCoYpU6Zw8eLFevs5OTlZfd5h7dq1pKenN2iPjIy0PDQtIiIiIvJjc1cVDR07dmzwcPT18Pf3x9/fv17b4sWLb/g4ISEhhISE3HA/EREREZG72d21TkdERERERFqcigYREREREbFKRYOIiIiIiFilokFERERERKxS0SAiIiIiIlbdVb+e9FP2QNRWmxzn9PyGL74TEREREbHmrpppyM7O5sKFCy0+7u7du4mKirqpvgkJCYwZM4bnn3+e8ePHk5WVVW/7O++8w7PPPmuLMEVEREREbou7qmhITU1tlaLhZqWlpZGdnc3atWtZvXo1MTEx/PGPf7S8VM5kMvHRRx9RWVlJYWFhK0crIiIiItK427Y8yWQyERUVRXFxMW3atGHevHksXryYoqIiampqiIiIYPjw4YwcOZK0tDQ6dOjAu+++S+/evYFrr7EuLy/niy++YNKkSXh4eJCZmcnJkyeJi4vjpZdeok+fPgwePJitW7fy4YcfAhAfH0+HDh0IDw9vNK5ly5axc+dOjEYjkZGRDB06lMTERLZt2wbAqFGj+M1vfsOJEyeYNm0aLi4u9OjRw9I/JSWFtLQ0jEYj/v7+TJw4sclrkJSUxLx583B0dATA09OTtLQ0OnbsCMC//vUv+vTpg5eXF1u3biUiIuLWL7yIiIiIiI3dtqJh06ZNuLm58f7777N161Y2btyIo6MjycnJnDt3jvDwcHbu3Nlk/88//5w1a9Zw+vRpIiMj2bx5M15eXsyYMQMPDw+KiopYsmQJvXv3ZuPGjZw9e5Z77rmHjz/+mCVLljR6zNOnT7Nz507WrVtHUVERH3zwAffddx8bN25k/fr1AIwdO5annnqKpUuXMmXKFPz9/Zk5cyYARUVF7Nixg9WrVwPw/PPP89RTT+Hh4dHoeMXFxfTq1ate2/cFA0B6ejoBAQH06dOHN954o0WKhvz8/Ns+htyZqqur9f8vt0x5JLagPBJbUB61rNtWNBw9epRhw4YBEBgYyJw5c/Dz8wPA3d0dR0dHKioqmuzfv39/7OzsuOeee6isrGywvV27dpZZiWeeeYbt27cTEBCAk5MTbm5ujR7z2LFj+Pr6YjQa+dnPfsbcuXPJyMjA19cXe/trl2LgwIEcP36cwsJCBg4cCICfnx979uzhyJEjfPnll5ZZjMuXL1NcXNxk0WA2mzGbzRgMhgbbrly5wieffEJ0dDROTk44Ojpy9OhR+vbt2+Q1sQUvL6/beny5c+Xn5+v/X26Z8khsQXkktqA8sr2cnJwmt922osHOzo6rV6/WazObzZa/a2pqMBrrP1JhMpn+LzB766E5ODhY/g4KCuKNN96gXbt2BAUF3VBMBoOhXlwmkwmj0VjvZv/7Pg4ODjzxxBNER0dbje173bt359ixY3h7e1vajh8/Tq9evcjMzKSuro4JEyYA8M0337B169bbXjSIiIiIiNyo2/YgtI+PD/v37weu/fpQp06dLL8cdObMGYxGIx07dsTJyYnS0lLq6uo4fPiw1WMaDAbq6uoatLu6uuLi4sLmzZsZPXp0k/379u1Lbm4utbW1lJWVMXnyZLy8vDh06BC1tbXU1tZy+PBhvLy88PT0JC8vD8ASd9++fcnKyqKqqgqz2cycOXOorq5ucrwXX3yRd999lytXrgBw6tQpfv/733Pp0iXS09NZsGABmzdvZvPmzaxZs4YdO3bUK2BERERERO4Et22mISAggL179xIaGoq9vT1z585l6dKlhIWFYTKZLN/Wh4aG8tprr+Hp6cnPf/5zq8ccMmQIERERLF26tMG2X/7yl+zevRsnJ6cm+99///08++yzhIaGYjabefPNN7n//vsJCQmxtI0dO5b77ruP119/nenTp7Nq1Sq6d++OyWTCw8OD8PBwJkyYgJ2dHf7+/rRt29bqNbh8+TIhISF07NiRNm3a8Je//AWj0ciJEycYMWJEvdi6d+9Obm4ugwYNau7yioiIiIi0GIP5R/LV9rRp0xgzZgxDhw5t7VBsLicnR4WE3DKt/RRbUB6JLSiPxBaUR7Zn7Z7zrn8j9HfffUdYWBg+Pj6WgmHt2rWkp6c32DcyMpIBAwbYdPzPPvuMhQsXNmh/+umneeGFF2w6loiIiIhIa7jri4Y2bdqwbt26em0hISGEhIS0yPj9+vUjKSmpRcYSEREREWkNd9UboUVEREREpOWpaBAREREREatUNIiIiIiIiFUqGkRERERExCoVDSIiIiIiYtUd9etJ2dnZ9OzZky5durRaDBs2bMDZ2bnBm6X9/Pwsb4ZuzLZt21i+fDlGo5Fhw4bx5ptvWraVlZXx9NNPs3jxYvz8/Or127JlC4mJiRiNRsaNG8fYsWMbPf4DUVtv6nxOzw+8qX4iIiIiIt+7o4qG1NRUJk6c2KpFw3PPPXfDfaqqqnjvvffYsmULHTp0YNy4cQQHB1vecL1gwQK6d+/eoN+VK1dYsmQJ69evx8HBgV//+teMHj2aTp063fJ5iIiIiIjYSosUDSaTiaioKIqLi2nTpg3z5s0jOjqaK1euUF1dzYwZM6isrCQzM5OTJ08SFxdHXl4ey5cvx97eHm9vb6KioqisrCQiIoLq6moef/xx1q1bx0cffURWVhaLFi3C3t4ed3d3YmJiSE9PZ8+ePZw/f56ePXvi6+tr+RY/ICCAlJQUOnfu3CDWuLg4OnfuzPjx45k6dSpnz57Fx8fH6vm1a9eOLVu24OTkBECnTp2oqKgAYN++fXTo0IEHH3ywQb/Dhw/j4+ODs7MzAAMHDiQ3N5eRI0fe0vUWEREREbGlFnmmYdOmTbi5ubFmzRrGjRtHZmYmY8eOJSkpicjISJYtW8ajjz6Kl5cXMTExuLi4EB8fz6pVq0hOTubMmTPk5OSwadMmevXqxerVqy032gAzZ85k0aJFJCcn4+LiQlpaGgBnzpwhJSWF8PBwtm/fDkBBQQHdu3dvtGD4oU8++YTa2lrWrl1LcHCwpQhoyvcFw4kTJyguLsbX15eamhqWLFlSb6nSD5WVleHq6mr57OrqSmlpafMXVERERESkBbXITMPRo0cZNmwYAIGBgVRWVhIdHU1CQgI1NTW0b9++3v4FBQWUlJQwadIkACorKykpKaGwsJAhQ4YAMGrUKBISEqioqMBgMHDvvfcC1549yM7Opk+fPvj4+GAwGHjwwQe5dOkS5eXl7Nq1i+Dg4GZjLigoYMCAAQD4+vrStm3bZvucPn2aP/zhD7z//vs4ODiwePFixo4dS8eOHa/rOpnN5uva70bk5+fb/Jhyd6qurlY+yC1THoktKI/EFpRHLatFigY7OzuuXr1q+ZyYmIi7uzsLFy7kyJEjLFiwoN7+Dg4OeHt7k5CQUK/9wIEDGI3XJkcMBoPl3x/ebJtMJss2BwcHS3tQUBAZGRns27eP+Pj4ZmM2m82WsYB68Tfm7NmzTJ48mQULFuDl5QXAv//9b65evUpKSgpfffUVn332GX/961/p3bs3AN26daOsrMxyjPPnz9O/f/9mY7sR38cikp+fr3yQW6Y8EltQHoktKI9sLycnp8ltLbI8ycfHh/379wOwe/du4uPj6dGjBwCZmZmYTCbgWgFQV1eHp6cnhYWFXLhwAYDY2FjOnTtHjx49yMvLA2DPnj0AuLi4YDAYKCkpAeDTTz/F29u7QQxBQUFs2LCBrl270q5du2Zj9vT0tIyVm5tLTU2N1f3ffvttZs2aRd++fS1ta9asYd26daxbt44nnniCmTNnWgoGuDaDceTIES5dusTly5fJzc3l4YcfbjY2EREREZGW1CJFQ0BAAFVVVYSGhpKYmMiKFStYsWIFEydOpF+/fpSWlpKamsqQIUOIiIjg66+/5q233uLVV19l/PjxVFRU0K1bN8aMGcOBAwcICwujrKzMMhMwe/Zspk6dSlhYGLW1tQQGNvyZUTc3N9q3b09QUNB1xTxixAiqq6sJDQ1l27ZtuLu7N7nvF198wYEDB4iNjSUsLIywsDB27drV5P4ffPABBw8epG3btkydOpVJkybx8ssvM3ny5HrPaoiIiIiI3AkM5tuxkP42KS4u5tSpUzz22GMcPHiQuLg4li9ffl19y8vLeeWVV1i/fn29ZUd3g5ycHAYNGtTaYchdTtO4YgvKI7EF5ZHYgvLI9qzdc95R72lojrOzMytXrmTJkiXAtSVB1yMzM5PY2FimT59uKRimTJnCxYsX6+3n5ORk9XmHtWvXkp6e3qA9MjLS8tC0iIiIiMiPzV1VNHTs2LHBw9HXw9/fH39//3ptixcvvuHjhISEEBIScsP9RERERETuZnfXOh0REREREWlxKhpERERERMQqFQ0iIiIiImKVigYREREREbGq2aLh22+/5W9/+xtz584FYP/+/Vy6dOm2ByYiIiIiIneGZn89KSoqikceeYSPP/4YuPa+g6lTp7Js2TKbB5OdnU3Pnj3p0qWLzY99vTZs2ICzszOjR4+u1+7n50dWVlaT/bZt28by5csxGo0MGzaMN998kwsXLjBt2jS+++47TCYT06dPx9fXt16/LVu2kJiYiNFoZNy4cYwdO7bR4z8QtfW64j89v+GL7UREREREbkWzMw2XL1/mhRdewMHBAbj2dufq6urbEkxqaioXLly4Lce+Xs8991yDgqE5VVVVvPfee6xcuZK1a9eyd+9eCgoK2LJlC88++yxJSUlERkby17/+tV6/K1eusGTJElauXElSUhKJiYlUVFTY8nRERERERG5ZszMNV69e5auvvsJgMACwZ88erl69ekODmEwmoqKiKC4upk2bNsybN4/o6GiuXLlCdXU1M2bMoLKykszMTE6ePElcXBx5eXksX74ce3t7vL29iYqKorKykoiICKqrq3n88cdZt24dH330EVlZWSxatAh7e3vc3d2JiYkhPT2dPXv2cP78eXr27Imvr6/lW/yAgABSUlLo3Llzg1jj4uLo3Lkz48ePZ+rUqZw9exYfHx+r59euXTu2bNmCk5MTAJ06daKiooKXX37Zss+ZM2dwd3ev1+/w4cP4+Pjg7OwMwMCBA8nNzWXkyJE3dH1FRERERG6nZmca3nnnHd555x3y8vIYPnw4iYmJREdH39AgmzZtws3NjTVr1jBu3DgyMzMZO3as5Rv4ZcuW8eijj+Ll5UVMTAwuLi7Ex8ezatUqkpOTOXPmDDk5OWzatIlevXqxevVqy402wMyZM1m0aBHJycm4uLiQlpYGXLtRT0lJITw8nO3btwNQUFBA9+7dGy0YfuiTTz6htraWtWvXEhwc3OwMwPcFw4kTJyguLrYsQyotLeW//uu/iI+P5/e//329PmVlZbi6ulo+u7q6Ulpaep1XVURERESkZTQ703Do0CFWrlx5S4McPXqUYcOGARAYGEhlZSXR0dEkJCRQU1ND+/bt6+1fUFBASUkJkyZNAqCyspKSkhIKCwsZMmQIAKNGjSIhIYGKigoMBgP33nsvcO3Zg+zsbPr06YOPjw8Gg4EHH3yQS5cuUV5ezq5duwgODm425oKCAgYMGACAr68vbdu2bbbP6dOn+cMf/sD7779vWc7VtWtXUlNT+ec//8n06dNZvnx5k/3NZnOzYzQnPz//lo8hP07V1dXKD7llyiOxBeWR2ILyqGU1WzR88skn9O/fn169et30IHZ2dvWWNCUmJuLu7s7ChQs5cuQICxYsqLe/g4MD3t7eJCQk1Gs/cOAARuO1yZHvl0sZDIZ6N9smk8my7fsbd4CgoCAyMjLYt28f8fHxzcZsNpstYwHNLsk6e/YskydPZsGCBXh5eQHw6aef8otf/AIXFxcef/xx/vjHP9br061bN8rKyiyfz58/T//+/ZuNzZrvxxb5T/n5+coPuWXKI7EF5ZHYgvLI9nJycprc1uzypLy8PIKDgxk0aBBDhw5l6NChllmD6+Xj48P+/fsB2L17N/Hx8fTo0QOAzMxMTCYTcK0AqKurw9PTk8LCQstD0bGxsZw7d44ePXqQl5cHXHu2AsDFxQWDwUBJSQlw7Ubd29u7QQxBQUFs2LCBrl270q5du2Zj9vT0tIyVm5tLTU2N1f3ffvttZs2aRd++fS1tGRkZbNy4Ebi2bOn72ZDv+fr6cuTIES5dusTly5fJzc3l4YcfbjY2EREREZGW1OxMQ0ZGxi0PEhAQwN69ewkNDcXe3p4VK1Ywc+ZMduzYwYQJE0hPTyc1NZUhQ4YQERHB0qVLeeutt3j11VdxdHSkT58+dOvWjTFjxvDb3/6WsLAwHnnkEctMwOzZs5k6dSr29vZ0796dwMBAtmzZUi8GNzc32rdvT1BQ0HXFPGLECFJTUwkNDeWhhx5q8BDzD33xxRccOHCA2NhYS9tLL73Eb3/7W6KiovjHP/5BTU0Ns2bNAuCDDz5g8ODBDBgwgKlTpzJp0iQMBgOTJ0+u96yGiIiIiMidwGBuZiF9WFiYZbnPD61ateq2BdWU4uJiTp06xWOPPcbBgweJi4uz+ozAD5WXl/PKK6+wfv36esuO7gY5OTkMGjSotcOQu5ymccUWlEdiC8ojsQXlke1Zu+dsdqbhnXfesfxdW1tLTk4OlZWVtovuBjg7O7Ny5UqWLFkCXFsSdD0yMzOJjY1l+vTploJhypQpXLx4sd5+Tk5OVp93WLt2Lenp6Q3aIyMjLQ9Ni4iIiIj82DRbNPTu3bveZy8vL8uvGrW0jh07Nng4+nr4+/vj7+9fr23x4sU3fJyQkBBCQkJuuJ+IiIiIyN2s2aIhJSWl3ufS0lLOnz9/2wISEREREZE7S7NFwzfffFPvc6dOnfjggw9uW0AiIiIiInJnabZoMBqN/Pa3v63XNn/+fKKiom5bUCIiIiIicudosmjIyMggPT2dAwcOcOLECUt7bW0tx44dU9EgIiIiIvIT0WTR8OSTT9KnTx9mz57NhAkTLO1Go/GW3g4tIiIiIiJ3F6vLk+6//37+93//l5MnT1JRUQFATU0N4eHhpKWltUiAP5SdnU3Pnj3p0qVLi467e/dudu7cyfz582+474oVK0hLS6Nt27Z89913vPjiizzzzDMAjBw5knvuuQc7OzuuXLnCr3/9a55//vlGj/NA1NbrGu/0/MAbjlFERERExJrrek/DqVOnOHXqFP369SMvL49XXnmlJWJrIDU1lYkTJ7Z40XCz0tLSOHDgAGvWrMHR0ZHS0lImTJhA3759LbM1y5Yto0OHDly5cgV/f3/GjRuHnZ1dK0cuIiIiIvJ/mi0aCgoK+PDDDwkLC+Nvf/sbZ86cYenSpc0e2GQyERUVRXFxMW3atGHevHksXryYoqIiampqiIiIYPjw4YwcOZK0tDQ6dOjAu+++a3kvRE5ODuXl5XzxxRdMmjQJDw8PMjMzOXnyJHFxcbz00kv06dOHwYMHs3XrVj788EMA4uPj6dChA+Hh4Y3GtWzZMnbu3InRaCQyMpKhQ4eSmJjItm3bABg1ahS/+c1vOHHiBNOmTcPFxYUePXpY+qekpJCWlobRaMTf35+JEyc2eQ2SkpJYsGABjo6OAHTt2pWtW7fi4ODQYN+LFy/SuXNnFQwiIiIicsdptmioq6vj22+/BaC8vJx7772X48ePN3vgTZs24ebmxvvvv8/WrVvZuHEjjo6OJCcnc+7cOcLDw9m5c2eT/T///HPWrFnD6dOniYyMZPPmzXh5eTFjxgw8PDwoKipiyZIl9O7dm40bN3L27FnuuecePv74Y8sbo//T6dOn2blzJ+vWraOoqIgPPviA++67j40bN7J+/XoAxo4dy1NPPcXSpUuZMmUK/v7+zJw5E4CioiJ27NjB6tWrAXj++ed56qmn8PDwaHS8kpISHnjggXpt/1kwvPrqqxgMBgoLC5kxY0az11VEREREpKU1WzSEhoayfft2QkNDCQ4Oxt7enkceeaTZAx89epRhw4YBEBgYyJw5c/Dz8wPA3d0dR0dHy3MSjenfvz92dnbcc889VFZWNtjerl07y6zEM888w/bt2wkICMDJyQk3N7dGj3ns2DF8fX0xGo387Gc/Y+7cuWRkZODr64u9/bVLMXDgQI4fP05hYSEDBw4EwM/Pjz179nDkyBG+/PJLyyzG5cuXKS4ubrJoADCbzRgMBv7xj3+watUqLl++zJNPPslrr70G/N/ypG+//ZaXXnqJhx566JYeNM/Pz7/pvvLjVl1drfyQW6Y8EltQHoktKI9aVrNFQ3BwsOXvkSNHcvnyZTp16tTsge3s7Lh69Wq9NrPZbPm7pqYGo9FYb7vJZPq/wOyth/bDb+yDgoJ44403aNeuHUFBQTcUk8FgqBeXyWTCaDRabvYBSx8HBweeeOIJoqOjrcb2vR49epCfn0+fPn0YPXo0o0ePZsOGDZw8ebLBvk5OTgwZMoRDhw7dUtHg5eV1033lxy0/P1/5IbdMeSS2oDwSW1Ae2V5OTk6T24xNbvn/ff7550ycOJGQkBAcHBzYtGkTR48ebXZQHx8f9u/fD1z79aFOnTqRlZUFwJkzZzAajXTs2BEnJydKS0upq6vj8OHDVo9pMBioq6tr0O7q6oqLiwubN29m9OjRTfbv27cvubm51NbWUlZWxuTJk/Hy8uLQoUPU1tZSW1vL4cOH8fLywtPTk7y8PABL3H379iUrK4uqqirMZjNz5syhurq6yfFeeuklYmJiuHLlCnCtUMrOzrY84/BDZrOZI0eO4OnpafUaiIiIiIi0tGZnGmbPns2sWbOYNWsWAMOHD2fGjBmWdf1NCQgIYO/evYSGhmJvb8/cuXNZunQpYWFhmEwmy7f1oaGhvPbaa3h6evLzn//c6jGHDBlCREREow9i//KXv2T37t04OTk12f/+++/n2WefJTQ0FLPZzJtvvsn9999PSEiIpW3s2LHcd999vP7660yfPp1Vq1bRvXt3TCYTHh4ehIeHM2HCBOzs7PD396dt27ZNjvfkk09SVVXFhAkTaNeuHdXV1Tz22GP13rD96quvYmdnR3V1NY8//rhlSZSIiIiIyJ3CYP7h2pxGvPzyy6xYsYKwsDCSkpIAmDBhAikpKS0S4PWaNm0aY8aMYejQoa0dis3l5OQwaNCg1g5D7nKaxhVbUB6JLSiPxBaUR7Zn7Z6z2ZkGZ2dn1q9fT1VVFYcPH+Yf//jHHfWehO+++46wsDB8fHwsBcPatWtJT09vsG9kZCQDBgyw6fifffYZCxcubND+9NNP88ILL9h0LBERERGR1tBk0TB9+nRiYmLo0KEDpaWldO7cmQ8++ABfX9+bejPy7dKmTRvWrVtXry0kJISQkJAWGb9fv36WGRgRERERkR+jJouGwsJCxowZw1dffVXvXQNnz54lIyPD8l4DERERERH5cWuyaPjwww85f/488+fPZ9q0aS0Zk4iIiIiI3EGaLBrs7e3x8PAgNja2JeMREREREZE7TLPvaRARERERkZ82FQ0iIiIiImKVigYREREREbGq2fc0tKTs/6+9+w+r6rrzPf4+cEAhIIII17SQor1OUAgxGqwxaifinSk/esc0gGPAyZU4M1GHuYHMBHWsFhtJNXnoBZWZGlAUqlihXCRq7FFT7kRFfngdscQK0RnLD5XwIKfBU37I/cMn53oGPUg9AWk/r3/sXnutvb/nPN+n2V/WWmdXVTF58uQRfQ9ESUkJnp6eLFq0yKZ99uzZVFZWPnDc4cOHycvLw8nJiTlz5vDmm28CkJubS1lZGUajkQ0bNvDMM8/YjCsrKyM/Px8nJyfi4uKIjY297/W/kfbhoLFffTdq0D4iIiIiIkP1WBUNxcXFLF++fESLhpdffnnIY27fvs17771HWVkZTzzxBHFxccTExNDf38+HH35IcXExly5d4vjx4zZFQ1dXF9u3b+fgwYO4uLjwyiuvsGjRIsaPH+/IjyQiIiIi8kiGpWjo6ekhLS2NpqYmxowZw+bNm0lPT6erqwuLxcL69esxm82YTCYuX75MdnY2dXV15OXlYTQaCQkJIS0tDbPZTHJyMhaLhQULFnDgwAFOnDhBZWUlmZmZGI1G/P39ycjIoLy8nIqKCm7cuMHkyZMJCwuz/hU/MjKSwsJCvL29B8SanZ2Nt7c3S5YsITU1ldbWVkJDQ+1+Pjc3g+g9OQAAIABJREFUN8rKyvDw8ABg/PjxdHR0UFtby3e+8x2MRiPTp09n+vTpNuPOnz9PaGgonp6eADz33HPU1tby0ksvOeJrFxERERFxiGHZ01BaWoqvry/79+8nLi4Ok8lEbGwse/fuJSUlhZ07dzJ37lyCg4PJyMjAy8uLnJwc9uzZQ0FBAS0tLdTU1FBaWsqUKVPYt2+f9UEbYMOGDWRmZlJQUICXlxeHDh0CoKWlhcLCQpYtW8aRI0cAaGhoICAg4L4Fw70++eQTent7KSoqIiYmho6ODrv9vywYLl26RFNTE2FhYTQ1NdHS0kJSUhJ/9Vd/xaeffmozpq2tDR8fH+uxj48PN2/efPgvVkRERERkGAzLTMPFixeZM2cOAFFRUZjNZtLT08nNzaW7uxt3d3eb/g0NDTQ3N5OUlASA2WymubmZxsZGwsPDAVi4cCG5ubl0dHRgMBiYNGkScHfvQVVVFdOmTSM0NBSDwcDUqVPp7Oykvb2d48ePExMTM2jMDQ0NzJgxA4CwsDDGjh076JirV6/y1ltv8f777+Pi4kJ/fz99fX188MEH1NTUsG7dOoqLix84vr+/f9B72FNfX/9I4+UPm8ViUY7II1MeiSMoj8QRlEfDa1iKBmdnZ+7cuWM9zs/Px9/fn61bt3LhwgW2bNli09/FxYWQkBByc3Nt2qurq3Fyujs5YjAYrP/e+7Dd09NjPefi4mJtj46O5tixY5w+fZqcnJxBY+7v77feC7CJ/35aW1tZtWoVW7ZsITg4GABfX18mT56MwWBg1qxZNDU12Yzx8/Ojra3Nenzjxg2effbZQWN7kC/vK3I/9fX1yhF5ZMojcQTlkTiC8sjxampqHnhuWJYnhYaGcubMGQBOnjxJTk4OgYGBAJhMJnp6eoC7BUBfXx9BQUE0Njby+eefA5CVlcX169cJDAykrq4OgIqKCgC8vLwwGAw0NzcDcPbsWUJCQgbEEB0dTUlJCRMnTsTNzW3QmIOCgqz3qq2tpbu7227/devWsXHjRpt9C/Pnz+df//VfAWhsbLTOhnwpLCyMCxcu0NnZyRdffEFtbS2zZs0aNDYRERERkeE0LDMNkZGRnDp1ioSEBIxGI7t27WLDhg0cPXqUV199lfLycoqLiwkPDyc5OZkdO3awdu1aVqxYgaurK9OmTcPPz4/FixezcuVKEhMTeeGFF6wzAZs2bSI1NRWj0UhAQABRUVGUlZXZxODr64u7uzvR0dEPFfP8+fMpLi4mISGBp59+Gn9//wf2vXLlCtXV1WRlZVnbXnvtNRYuXEhFRQXx8fEAfP/73wfgJz/5Cc8//zwzZswgNTWVpKQkDAYDq1atstmrISIiIiLyODD0P+pC+mHU1NTEZ599xrx58zh37hzZ2dnk5eU91Nj29nZef/11Dh48aLPsaDSoqalh5syZIx2GjHKaxhVHUB6JIyiPxBGUR45n75nzsXpPw2A8PT3ZvXs327dvB+4uCXoYJpOJrKws1qxZYy0YVq9eza1bt2z6eXh42N3vUFRURHl5+YD2lJQU66ZpEREREZE/NKOqaBg3btyAzdEPIyIigoiICJu2bdu2Dfk68fHx1qVGIiIiIiJ/LEbXOh0RERERERl2KhpERERERMQuFQ0iIiIiImKXigYREREREbFLRYOIiIiIiNg1qn49qaqqismTJzNhwoRhve/Jkyf56KOPePfdd4c0LjExkfXr1zN16lRr2+zZs6msrKSnp4dNmzbx61//GmdnZ5ydnXn33Xd58skn73utb6R9+MD7XH03akhxiYiIiIgMxaiaaSguLubzzz8f6TAcory8HCcnJ/bv309hYSGLFy/mpz/96UiHJSIiIiIywFc209DT00NaWhpNTU2MGTOGzZs3s23bNq5du0Z3dzfJycm8+OKLvPTSSxw6dIgnnniCH/3oR/zX//pfgbtvpGtvb+fKlSskJSXx5JNPYjKZuHz5MtnZ2bz22mtMmzaN559/ng8//ND6wJ2Tk8MTTzzBsmXL7hvXzp07+eijj3ByciIlJYVvfetb5Ofnc/jwYQAWLlzIX//1X3Pp0iXefvttvLy8CAwMtI4vLCzk0KFDODk5ERERwfLly3+v76ezs5MvvvjCerx48eLf6zoiIiIiIl+1r2ymobS0FF9fX/bv309cXBw///nPcXV1paCggOzsbDZt2mR3/K9//Wu2bdvG9u3bKSgoYO7cuQQHB5ORkcGTTz7JtWvXWLVqFa+++ird3d20trYC8PHHHxMZGXnfa169epWPPvqIAwcOsHXrVg4dOsS1a9f4+c9/TmFhIYWFhRw5coT/+I//YMeOHaxevZr8/HzrW6SvXbvG0aNH2bdvH4WFhRw7dozm5ubf6/v57ne/y+XLl/mzP/szNm/eTHV19e91HRERERGRr9pXNtNw8eJF5syZA0BUVBQ//OEPmT17NgD+/v64urrS0dHxwPHPPvsszs7O/Jf/8l8wm80Dzru5uVlnJb773e9y5MgRIiMj8fDwwNfX977X/NWvfkVYWBhOTk489dRTvPPOOxw7doywsDCMxrtfxXPPPcenn35KY2Mjzz33HHB3H0JFRQUXLlzg3//9362zGF988QVNTU0P3IdwPwaDAQBvb29+/vOfU1NTw7/+67+SmprK9773PZKTkx/6Wl+qr68f8hj542OxWJQr8siUR+IIyiNxBOXR8PrKigZnZ2fu3Llj09bf32/9393d3da/4H+pp6fn/wdmtB+ai4uL9X9HR0fzd3/3d7i5uREdHT2kmAwGg01cPT09ODk50d/fb33A/3KMi4sL3/72t0lPT7cb25e8vb3p7Oy0Hre3tzNx4kTg7uc3Go3MmjWLWbNmERsbS2Ji4u9VNAQHBw95jPzxqa+vV67II1MeiSMoj8QRlEeOV1NT88BzX9nypNDQUM6cOQPc/fWh8ePHU1lZCUBLSwtOTk6MGzcODw8Pbt68SV9fH+fPn7d7TYPBQF9f34B2Hx8fvLy8+N//+3+zaNGiB46fPn06tbW19Pb20tbWxqpVqwgODub//t//S29vL729vZw/f57g4GCCgoKoq6sDsMY9ffp0KisruX37Nv39/fzwhz/EYrE88H5z5syhrKzMevyzn/2M+fPnA7B27VqKi4ut51pbWwkICLD7+UVERERERsJXNtMQGRnJqVOnSEhIwGg08s4777Bjxw4SExPp6emx/rU+ISGBv/3bvyUoKIhvfvObdq8ZHh5OcnIyO3bsGHDuz/7szzh58iQeHh4PHP/1r3+d//7f/zsJCQn09/fz5ptv8vWvf534+HhrW2xsLF/72td44403WLNmDXv27CEgIICenh6efPJJli1bxquvvoqzszMRERGMHTv2gfeLj4/n/fffZ8mSJTg7OzNlyhTWrFkD3C0avv/971NSUoKrqytGo5GNGzc+xDcrIiIiIjK8DP33rs0Zxd5++20WL17Mt771rZEOxeFqamqYOXPmSIcho5ymccURlEfiCMojcQTlkePZe+YcVS93u5/f/e53JCYmEhoaai0YioqKKC8vH9A3JSWFGTNmOPT+//Zv/8bWrVsHtH/nO99h6dKlDr2XiIiIiMhIGPVFw5gxYzhw4IBNW3x8PPHx8cNy/2eeeYa9e/cOy71EREREREbCqHojtIiIiIiIDD8VDSIiIiIiYpeKBhERERERsUtFg4iIiIiI2KWiQURERERE7Hqsfj2pqqqKyZMnM2HChBGLoaSkBE9PzwFvlp49e7b1zdD3c/jwYfLy8nBycmLOnDm8+eab9Pb2sm7dOv7jP/6Dvr4+/vEf/5FZs2bZjCsrKyM/Px8nJyfi4uKIjY297/W/kfbhfduvvhs1xE8oIiIiIjI0j1XRUFxczPLly0e0aHj55ZeHPOb27du89957lJWV8cQTTxAXF0dMTAznz5/Hzc2Nffv2cfnyZdasWcPBgwet47q6uti+fTsHDx7ExcWFV155hUWLFjF+/HhHfiQRERERkUcyLEVDT08PaWlpNDU1MWbMGDZv3kx6ejpdXV1YLBbWr1+P2WzGZDJx+fJlsrOzqaurIy8vD6PRSEhICGlpaZjNZpKTk7FYLCxYsIADBw5w4sQJKisryczMxGg04u/vT0ZGBuXl5VRUVHDjxg0mT55MWFiY9a/4kZGRFBYW4u3tPSDW7OxsvL29WbJkCampqbS2thIaGmr387m5uVFWVoaHhwcA48ePp6Ojg+9+97tER0cD4OPjQ0dHh8248+fPExoaiqenJwDPPfcctbW1vPTSS4/8nYuIiIiIOMqw7GkoLS3F19eX/fv3ExcXh8lkIjY2lr1795KSksLOnTuZO3cuwcHBZGRk4OXlRU5ODnv27KGgoICWlhZqamooLS1lypQp7Nu3z/qgDbBhwwYyMzMpKCjAy8uLQ4cOAdDS0kJhYSHLli3jyJEjADQ0NBAQEHDfguFen3zyCb29vRQVFRETEzPggf8/+7JguHTpEk1NTYSFheHi4sKYMWMAyM/PtxYQX2pra8PHx8d67OPjw82bNx/yWxURERERGR7DMtNw8eJF5syZA0BUVBRms5n09HRyc3Pp7u7G3d3dpn9DQwPNzc0kJSUBYDabaW5uprGxkfDwcAAWLlxIbm4uHR0dGAwGJk2aBNzde1BVVcW0adMIDQ3FYDAwdepUOjs7aW9v5/jx48TExAwac0NDAzNmzAAgLCyMsWPHDjrm6tWrvPXWW7z//vu4uLhY2wsLC7l48SL//M//bHd8f3//oPf4z+rr64c8Rv44WSwW5Ys8MuWROILySBxBeTS8hqVocHZ25s6dO9bj/Px8/P392bp1KxcuXGDLli02/V1cXAgJCSE3N9emvbq6Gienu5MjBoPB+u+9D9s9PT3Wc/c+uEdHR3Ps2DFOnz5NTk7OoDH39/db7wXYxH8/ra2trFq1ii1bthAcHGxt/9nPfsaJEyfYsWOHTTwAfn5+tLW1WY9v3LjBs88+O2hs97r3XiL21NfXK1/kkSmPxBGUR+IIyiPHq6mpeeC5YVmeFBoaypkzZwA4efIkOTk5BAYGAmAymejp6QHuFgB9fX0EBQXR2NjI559/DkBWVhbXr18nMDCQuro6ACoqKgDw8vLCYDDQ3NwMwNmzZwkJCRkQQ3R0NCUlJUycOBE3N7dBYw4KCrLeq7a2lu7ubrv9161bx8aNG5k+fbq17dq1a+zfv59t27ZZlyndKywsjAsXLtDZ2ckXX3xBbW3tgF9XEhEREREZacMy0xAZGcmpU6dISEjAaDSya9cuNmzYwNGjR3n11VcpLy+nuLiY8PBwkpOT2bFjB2vXrmXFihW4uroybdo0/Pz8WLx4MStXriQxMZEXXnjBOhOwadMmUlNTMRqNBAQEEBUVRVlZmU0Mvr6+uLu7D9hX8CDz58+nuLiYhIQEnn76afz9/R/Y98qVK1RXV5OVlWVte+211zh//jwdHR389V//tbU9NzeX3bt38/zzzzNjxgxSU1NJSkrCYDCwatUqm70aIiIiIiKPA0P/77OQfoQ0NTXx2WefMW/ePM6dO0d2djZ5eXkPNba9vZ3XX3+dgwcP2iw7Gg1qamqYOXPmSIcho5ymccURlEfiCMojcQTlkePZe+Z8rN7TMBhPT092797N9u3bgbtLgh6GyWQiKyuLNWvWWAuG1atXc+vWLZt+Hh4edvc7FBUVUV5ePqA9JSXFumlaREREROQPzagqGsaNGzdgc/TDiIiIICIiwqZt27ZtQ75OfHw88fHxQx4nIiIiIjKaja51OiIiIiIiMuxUNIiIiIiIiF0qGkRERERExC4VDSIiIiIiYpeKBhERERERsUtFg4iIiIiI2PVY/eRqVVUVkydPZsKECSMWQ0lJCZ6enixatMimffbs2VRWVj5w3OHDh8nLy8PJyYk5c+bw5ptvkpOTw6lTpwC4c+cObW1tfPTRRzbjPvjgA44ePYrBYGD16tUsWLDgvtf/RtqHA9quvhs11I8nIiIiIjJkj1XRUFxczPLly0e0aHj55ZeHPOb27du89957lJWV8cQTTxAXF0dMTAxvvPEGb7zxBgA///nP+fzzz23GXbt2jcOHD7N//35++9vfsnTpUl588UWcnZ0d8llERERERBxhWIqGnp4e0tLSaGpqYsyYMWzevJn09HS6urqwWCysX78es9mMyWTi8uXLZGdnU1dXR15eHkajkZCQENLS0jCbzSQnJ2OxWFiwYAEHDhzgxIkTVFZWkpmZidFoxN/fn4yMDMrLy6moqODGjRtMnjyZsLAwYmNjAYiMjKSwsBBvb+8BsWZnZ+Pt7c2SJUtITU2ltbWV0NBQu5/Pzc2NsrIyPDw8ABg/fjwdHR3W8729vezbt489e/bYjKusrGTevHm4urri4+PD1772NRoaGviTP/mTR/3KRUREREQcZlj2NJSWluLr68v+/fuJi4vDZDIRGxvL3r17SUlJYefOncydO5fg4GAyMjLw8vIiJyeHPXv2UFBQQEtLCzU1NZSWljJlyhT27duHp6en9fobNmwgMzOTgoICvLy8OHToEAAtLS0UFhaybNkyjhw5AkBDQwMBAQH3LRju9cknn9Db20tRURExMTE2RcD9fFkwXLp0iaamJsLCwqznjh07xosvvsjYsWNtxrS1teHj42M99vHx4ebNmw/xjYqIiIiIDJ9hmWm4ePEic+bMASAqKgqz2Ux6ejq5ubl0d3fj7u5u07+hoYHm5maSkpIAMJvNNDc309jYSHh4OAALFy4kNzeXjo4ODAYDkyZNAu7uPaiqqmLatGmEhoZiMBiYOnUqnZ2dtLe3c/z4cWJiYgaNuaGhgRkzZgAQFhY24IH/fq5evcpbb73F+++/j4uLi7W9uLiYH/zgB4OO7+/vH7TPverr64fUX/64WSwW5Yw8MuWROILySBxBeTS8hqVocHZ25s6dO9bj/Px8/P392bp1KxcuXGDLli02/V1cXAgJCSE3N9emvbq6Gienu5MjBoPB+u+9D9s9PT3Wc/c+uEdHR3Ps2DFOnz5NTk7OoDH39/db7wXYxH8/ra2trFq1ii1bthAcHGxt7+rqorW1la9//esDxvj5+XHlyhXr8fXr1/Hz8xs0ti/dex+RwdTX1ytn5JEpj8QRlEfiCMojx6upqXnguWFZnhQaGsqZM2cAOHnyJDk5OQQGBgJgMpno6ekB7hYAfX19BAUF0djYaN04nJWVxfXr1wkMDKSurg6AiooKALy8vDAYDDQ3NwNw9uxZQkJCBsQQHR1NSUkJEydOxM3NbdCYg4KCrPeqra2lu7vbbv9169axceNGpk+fbtP+6aefMnny5PuO+da3vsXHH39Md3c3169f58aNG3zzm98cNDYRERERkeE0LEVDZGQkt2/fJiEhgfz8fHbt2sWuXbtYvnw5zzzzDDdv3qS4uJjw8HCSk5P5zW9+w9q1a1mxYgVLliyho6MDPz8/Fi9eTHV1NYmJibS1tVlnAjZt2kRqaiqJiYn09vYSFTXwp0h9fX1xd3cnOjr6oWKeP38+FouFhIQEDh8+jL+//wP7XrlyherqarKyskhMTCQxMZHjx48DcPPmTZt9CwDvvPMO165d48knnyQuLo6EhASSk5PZuHGjzeyGiIiIiMjjwNA/1IX0I6ipqYnPPvuMefPmce7cObKzs8nLy3uose3t7bz++uscPHhw1D2Y19TUMHPmzJEOQ0Y5TeOKIyiPxBGUR+IIyiPHs/fM+Vi9p2Ewnp6e7N69m+3btwN3lwQ9DJPJRFZWFmvWrLEWDKtXr+bWrVs2/Tw8POzudygqKqK8vHxAe0pKinXTtIiIiIjIH5pRVTSMGzduwObohxEREUFERIRN27Zt24Z8nfj4eOLj44c8TkRERERkNBtd63RERERERGTYqWgQERERERG7VDSIiIiIiIhdKhpERERERMQuFQ0iIiIiImLXY/XrSVVVVUyePJkJEyaMWAwlJSV4enqyaNEim/bZs2dTWVn5wHGHDx8mLy8PJycn5syZw5tvvklPTw9paWk0Nzfj7OxMRkYGAQEBNuPKysrIz8/HycmJuLg4YmNj73v9b6R9aHN89d2BL7ATEREREfkqPFYzDcXFxXz++ecjGsPLL788oGAYzO3bt3nvvffYvXs3RUVFnDp1ioaGBsrLyxk3bhz79u3jb//2b3n//fdtxnV1dbF9+3Z2797N3r17yc/Pp6Ojw5EfR0RERETkkQ3LTMOXf3FvampizJgxbN68mfT0dLq6urBYLKxfvx6z2YzJZOLy5ctkZ2dTV1dHXl4eRqORkJAQ0tLSMJvNJCcnY7FYWLBgAQcOHODEiRNUVlaSmZmJ0WjE39+fjIwMysvLqaio4MaNG0yePJmwsDDrX/EjIyMpLCzE29t7QKzZ2dl4e3uzZMkSUlNTaW1tJTQ01O7nc3Nzo6ysDA8PDwDGjx9PR0cHp0+f5i/+4i8AeOGFF1i7dq3NuPPnzxMaGoqnpycAzz33HLW1tbz00kuP/J2LiIiIiDjKsMw0lJaW4uvry/79+4mLi8NkMhEbG8vevXtJSUlh586dzJ07l+DgYDIyMvDy8iInJ4c9e/ZQUFBAS0sLNTU1lJaWMmXKFPbt22d90AbYsGEDmZmZFBQU4OXlxaFDhwBoaWmhsLCQZcuWceTIEQAaGhoICAi4b8Fwr08++YTe3l6KioqIiYkZdAbgy4Lh0qVLNDU1ERYWRltbGz4+PgA4OTlhMBjo7u62jrn3PICPjw83b94cwjcrIiIiIvLVG5aZhosXLzJnzhwAoqKiMJvNpKenk5ubS3d3N+7u7jb9GxoaaG5uJikpCQCz2UxzczONjY2Eh4cDsHDhQnJzc+no6MBgMDBp0iTg7t6Dqqoqpk2bRmhoKAaDgalTp9LZ2Ul7ezvHjx8nJiZm0JgbGhqYMWMGAGFhYYwdO3bQMVevXuWtt97i/fffx8XFZcD5/v5+u+MHO3+v+vr6h+4rAmCxWJQ38siUR+IIyiNxBOXR8BqWosHZ2Zk7d+5Yj/Pz8/H392fr1q1cuHCBLVu22PR3cXEhJCSE3Nxcm/bq6mqcnO5OjhgMBuu/9z5s9/T0WM/d++AeHR3NsWPHOH36NDk5OYPG3N/fb70XYBP//bS2trJq1Sq2bNlCcHAwAH5+fty8eZOnn36anp4e+vv7cXV1tY7x8/Ojra3Nenzjxg2effbZQWMDrPcQeVj19fXKG3lkyiNxBOWROILyyPFqamoeeG5YlieFhoZy5swZAE6ePElOTg6BgYEAmEwmenp6gLsFQF9fH0FBQTQ2Nlo3RWdlZXH9+nUCAwOpq6sDoKKiAgAvLy8MBgPNzc0AnD17lpCQkAExREdHU1JSwsSJE3Fzcxs05qCgIOu9amtrbZYV3c+6devYuHEj06dPt7bNnTuXo0ePWj/37NmzbcaEhYVx4cIFOjs7+eKLL6itrWXWrFmDxiYiIiIiMpyGZaYhMjKSU6dOkZCQgNFoZNeuXWzYsIGjR4/y6quvUl5eTnFxMeHh4SQnJ7Njxw7Wrl3LihUrcHV1Zdq0afj5+bF48WJWrlxJYmIiL7zwgnUmYNOmTaSmpmI0GgkICCAqKoqysjKbGHx9fXF3dyc6OvqhYp4/fz7FxcUkJCTw9NNP4+/v/8C+V65cobq6mqysLGvba6+9Zv3cf/mXf4mrqyvvvvsuAD/5yU94/vnnmTFjBqmpqSQlJWEwGFi1apXNXg0RERERkceBoX8oC+lHWFNTE5999hnz5s3j3LlzZGdnk5eX91Bj29vbef311zl48KDNsqPRoKamhpkzZ450GDLKaRpXHEF5JI6gPBJHUB45nr1nzsfq5W6D8fT0ZPfu3Wzfvh24uyToYZhMJrKyslizZo21YFi9ejW3bt2y6efh4WF3v0NRURHl5eUD2lNSUqybpkVERERE/tCMqqJh3LhxAzZHP4yIiAgiIiJs2rZt2zbk68THxxMfHz/kcSIiIiIio9noWqcjIiIiIiLDTkWDiIiIiIjYpaJBRERERETsUtEgIiIiIiJ2qWgQERERERG7Hvuioaqqyvpm6JFSUlLCL37xiwHt//kNz//ZrVu3SEpKIjk5+b7nW1paSExMZOnSpfz93/+93bdOfyPtQ76R9uHQAhcRERERcYDHvmgoLi4e8aLh5ZdfZtGiRUMet2HDBrsvZcvKymLp0qX89Kc/5amnnuLgwYOPEqaIiIiIyFdixN7T0NPTQ1paGk1NTYwZM4bNmzeTnp5OV1cXFouF9evXYzabMZlMXL58mezsbOrq6sjLy8NoNBISEkJaWhpms5nk5GQsFgsLFizgwIEDnDhxgsrKSjIzMzEajfj7+5ORkUF5eTkVFRXcuHGDyZMnExYWRmxsLACRkZEUFhbi7e09INbs7Gy8vb1ZsmQJqamptLa2EhoaOuhn/OEPf8jFixf59NNP73u+srKSH/zgBwD86Z/+KXl5eSxduvQRvlUREREREccbsZmG0tJSfH192b9/P3FxcZhMJmJjY9m7dy8pKSns3LmTuXPnEhwcTEZGBl5eXuTk5LBnzx4KCgpoaWmhpqaG0tJSpkyZwr59+/D09LRef8OGDWRmZlJQUICXlxeHDh0C7i4JKiwsZNmyZRw5cgSAhoYGAgIC7lsw3OuTTz6ht7eXoqIiYmJi6OjosNvfw8PD7vnbt2/j6uoKwIQJE7h58+ag35uIiIiIyHAbsZmGixcvMmfOHACioqIwm82kp6eTm5tLd3c37u7uNv0bGhpobm4mKSkJALPZTHNzM42NjYSHhwOwcOFCcnNz6ejowGAwMGnSJODu3oOqqiqmTZtGaGgoBoOBqVOn0tnZSXt7O8ePHycmJmbQmBsaGpgxYwYAYWFhjB071mHfR39//0P1q6+vd9g95Y+LxWJR/sgjUx6JIyiPxBGUR8NrxIoGZ2dn7ty5Yz3loDv/AAAYx0lEQVTOz8/H39+frVu3cuHCBbZs2WLT38XFhZCQEHJzc23aq6urcXK6O2FiMBis/977EN7T02M95+LiYm2Pjo7m2LFjnD59mpycnEFj7u/vt94LsIn/9+Hu7o7FYmHs2LFcv34dPz+/QccEBwc/0j3lj1d9fb3yRx6Z8kgcQXkkjqA8cryampoHnhux5UmhoaGcOXMGgJMnT5KTk0NgYCAAJpOJnp4e4G4B0NfXR1BQEI2NjdZN0VlZWVy/fp3AwEDq6uoAqKioAMDLywuDwUBzczMAZ8+eJSQkZEAM0dHRlJSUMHHiRNzc3AaNOSgoyHqv2tpau7929DBeeOEFPvroIwCOHTvGvHnzHul6IiIiIiJfhRErGiIjI7l9+zYJCQnk5+eza9cudu3axfLly3nmmWe4efMmxcXFhIeHk5yczG9+8xvWrl3LihUrWLJkCR0dHfj5+bF48WKqq6tJTEykra3NOhOwadMmUlNTSUxMpLe3l6ioqAEx+Pr64u7uTnR09EPFPH/+fCwWCwkJCRw+fBh/f/8H9u3r6yMxMZHNmzdz9uxZEhMTOX36NPX19WRlZQHwd3/3d5SWlrJ06VI6Ojr4i7/4i9/jmxQRERER+WoZ+h92Mf1jqqmpic8++4x58+Zx7tw5srOzycvLe6ix7e3tvP766xw8eNBm2dHjpqamxu5Pt4o8DE3jiiMoj8QRlEfiCMojx7P3zDliexocxdPTk927d7N9+3YA1q1b91DjTCYTWVlZrFmzxlowrF69mlu3btn08/DwsLvfoaioiPLy8gHtKSkp1k3TIiIiIiKj2agvGsaNGzdgc/TDiIiIICIiwqZt27ZtQ75OfHw88fHxQx4nIiIiIjJaPL5rckRERERE5LGgokFEREREROxS0SAiIiIiInapaBAREREREbtUNIiIiIiIiF0qGkaJb6R9yDfSPhzpMERERETkj9BjVTRUVVXx+eefj2gMJSUl/OIXvxjQPnv2bLvjDh8+zCuvvEJcXByZmZkAdHV1kZyczNKlS0lKSuLmzZsDxpWVlfG9732P2NhYfvaznznmQ4iIiIiIONBjVTQUFxePeNHw8ssvs2jRoiGNuX37Nu+99x67d++mqKiIU6dO0dDQwIEDBwgICOCnP/0pb7zxBllZWTbjurq62L59O7t372bv3r3k5+fT0dHhyI8jIiIiIvLIhuXlbj09PaSlpdHU1MSYMWPYvHkz6enpdHV1YbFYWL9+PWazGZPJxOXLl8nOzqauro68vDyMRiMhISGkpaVhNptJTk7GYrGwYMECDhw4wIkTJ6isrCQzMxOj0Yi/vz8ZGRmUl5dTUVHBjRs3mDx5MmFhYcTGxgIQGRlJYWEh3t7eA2LNzs7G29ubJUuWkJqaSmtrK6GhoXY/n5ubG2VlZXh4eAAwfvx4Ojo6uHr1KnPmzAFg1qxZfP/737cZd/78eUJDQ/H09ATgueeeo7a2lpdeeumRv3MREREREUcZlpmG0tJSfH192b9/P3FxcZhMJmJjY9m7dy8pKSns3LmTuXPnEhwcTEZGBl5eXuTk5LBnzx4KCgpoaWmhpqaG0tJSpkyZwr59+6wP2gAbNmwgMzOTgoICvLy8OHToEAAtLS0UFhaybNkyjhw5AkBDQwMBAQH3LRju9cknn9Db20tRURExMTGDzgB8WTBcunSJpqYmwsLCmDp1Kr/85S8BOHv2LM3NzTZj2tra8PHxsR77+PjcdwmTiIiIiMhIGpaZhosXL1r/4h4VFYXZbCY9PZ3c3Fy6u7txd3e36d/Q0EBzczNJSUkAmM1mmpubaWxsJDw8HICFCxeSm5tLR0cHBoOBSZMmAXf3HlRVVTFt2jRCQ0MxGAxMnTqVzs5O2tvbOX78ODExMYPG3NDQwIwZMwAICwtj7Nixg465evUqb731Fu+//z4uLi688sorXLp0ib/8y78kPDzcpkC4n/7+/kHvUV9fP2gfkfuxWCzKH3lkyiNxBOWROILyaHgNS9Hg7OzMnTt3rMf5+fn4+/uzdetWLly4wJYtW2z6u7i4EBISQm5urk17dXU1Tk53J0cMBoP133sftnt6eqznXFxcrO3R0dEcO3aM06dPk5OTM2jM/f391nsBNvHfT2trK6tWrWLLli0EBwcD4Orqyg9+8AMAvvjiC44fP24zxs/Pj7a2NuvxjRs3ePbZZ+3e58triwxVfX298kcemfJIHEF5JI6gPHK8mpqaB54bluVJoaGhnDlzBoCTJ0+Sk5NDYGAgACaTiZ6eHuBuAdDX10dQUBCNjY3WTdFZWVlcv36dwMBA6urqAKioqADAy8sLg8FgXfpz9uxZQkJCBsQQHR1NSUkJEydOxM3NbdCYg4KCrPeqra2lu7vbbv9169axceNGpk+fbm375S9/yY9//GPg7q8kzZs3z2ZMWFgYFy5coLOzky+++ILa2lpmzZo1aGwiIiIiIsNpWIqGyMhIbt++TUJCAvn5+ezatYtdu3axfPlynnnmGW7evElxcTHh4eEkJyfzm9/8hrVr17JixQqWLFlCR0cHfn5+LF68mOrqahITE2lra7POBGzatInU1FQSExPp7e0lKipqQAy+vr64u7sTHR39UDHPnz8fi8VCQkIChw8fxt/f/4F9r1y5QnV1NVlZWSQmJpKYmMjx48eZPXs2v/rVr4iLi+PEiROsXLkSgJ/85CecO3eOsWPHkpqaSlJSEv/jf/wPVq1aZbNXQ0RERETkcWDof5iF9I+JpqYmPvvsM+bNm8e5c+fIzs4mLy/voca2t7fz+uuvc/DgQZtlR6NBTU0NM2fOHOkwZJTTNK44gvJIHEF5JI6gPHI8e8+cw7KnwVE8PT3ZvXs327dvB+4uCXoYJpOJrKws1qxZYy0YVq9eza1bt2z6eXh42N3vUFRURHl5+YD2lJQU66ZpEREREZE/NKOqaBg3btyAzdEPIyIigoiICJu2bdu2Dfk68fHxxMfHD3mciIiIiMhoNrrW6YiIiIiIyLBT0SAiIiIiInapaBAREREREbtUNIiIiIiIiF0qGkRERERExK7HqmioqqqyvgV6pJSUlPCLX/xiQPvs2bPtjrt16xZJSUkkJyfbXGvBggXWF77d7+dcy8rK+N73vkdsbCw/+9nPHv0DiIiIiIg42GP1k6vFxcUsX76cCRMmjFgML7/88u81bsOGDcycOZNPP/3Upj0yMpK33377vmO6urrYvn07Bw8exMXFhVdeeYVFixYxfvz43ysGEREREZGvwrAUDT09PaSlpdHU1MSYMWPYvHkz6enpdHV1YbFYWL9+PWazGZPJxOXLl8nOzqauro68vDyMRiMhISGkpaVhNptJTk7GYrGwYMECDhw4wIkTJ6isrCQzMxOj0Yi/vz8ZGRmUl5dTUVHBjRs3mDx5MmFhYcTGxgJ3H+QLCwvx9vYeEGt2djbe3t4sWbKE1NRUWltbCQ0NHfQz/vCHP+TixYsDigZ7zp8/T2hoKJ6engA899xz1NbW8tJLLz30NUREREREvmrDsjyptLQUX19f9u/fT1xcHCaTidjYWPbu3UtKSgo7d+5k7ty5BAcHk5GRgZeXFzk5OezZs4eCggJaWlqoqamhtLSUKVOmsG/fPuuDNtz9K39mZiYFBQV4eXlx6NAhAFpaWigsLGTZsmUcOXIEgIaGBgICAu5bMNzrk08+obe3l6KiImJiYujo6LDb38PD477tZ8+eJSkpib/6q7/iV7/6lc25trY2fHx8rMc+Pj7cvHnT7n1ERERERIbbsMw0XLx4kTlz5gAQFRWF2WwmPT2d3Nxcuru7cXd3t+nf0NBAc3MzSUlJAJjNZpqbm2lsbCQ8PByAhQsXkpubS0dHBwaDgUmTJgF39x5UVVUxbdo0QkNDMRgMTJ06lc7OTtrb2zl+/DgxMTGDxtzQ0MCMGTMACAsLY+zYsUP+3GFhYfj4+PDtb3+bc+fO8fbbb1sLmvvp7+9/4Ln6+voh31/kXhaLRXkkj0x5JI6gPBJHUB4Nr2EpGpydnblz5471OD8/H39/f7Zu3cqFCxfYsmWLTX8XFxdCQkLIzc21aa+ursbJ6e7kiMFgsP5778N2T0+P9ZyLi4u1PTo6mmPHjnH69On7bkj+z/r7+633Amzif1hTpkxhypQpAMyYMYP29nb6+vpwdnYGwM/Pj7a2Nmv/Gzdu8Oyzz973WsHBwUO+v8i96uvrlUfyyJRH4gjKI3EE5ZHj1dTUPPDcsCxPCg0N5cyZMwCcPHmSnJwcAgMDATCZTPT09AB3C4C+vj6CgoJobGy0/pJSVlYW169fJzAwkLq6OgAqKioA8PLywmAw0NzcDNxdDhQSEjIghujoaEpKSpg4cSJubm6DxhwUFGS9V21tLd3d3UP+3Dt37qS8vByAX//61/j4+FgLBrg7E3HhwgU6Ozv54osvqK2tZdasWUO+j4iIiIjIV2lYZhoiIyM5deoUCQkJGI1Gdu3axYYNGzh69Civvvoq5eXlFBcXEx4eTnJyMjt27GDt2rWsWLECV1dXpk2bhp+fH4sXL2blypUkJibywgsvWGcCNm3aRGpqKkajkYCAAKKioigrK7OJwdfXF3d3d6Kjox8q5vnz51NcXExCQgJPP/00/v7+D+zb19fHa6+9RmdnJ9evXycxMZGVK1cSExPDP/zDP7B//356e3t55513APjJT37C888/z4wZM0hNTSUpKQmDwcCqVats9mqIiIiIiDwODP32FtI/Zpqamvjss8+YN28e586dIzs7m7y8vIca297ezuuvv87Bgwdtlh2NBjU1NcycOXOkw5BRTtO44gjKI3EE5ZE4gvLI8ew9cz5W72kYjKenJ7t372b79u0ArFu37qHGmUwmsrKyWLNmjbVgWL16Nbdu3bLp5+HhYXe/Q1FRkXW50b1SUlKsm6ZFRERERP7QjKqiYdy4cQM2Rz+MiIgIIiIibNq2bds25OvEx8cTHx8/5HEiIiIiIqPZ6FqnIyIiIiIiw05Fg4iIiIiI2KWiQURERERE7FLRICIiIiIidqloEBERERERux6roqGqqsr6FuiRUlJSwi9+8YsB7bNnz7Y77vDhw7zyyivExcWRmZkJwPXr10lKSiIxMZFXX33V+obpe33wwQe88sorxMbG8stf/tIxH0JERERExIEeq59cLS4uZvny5UyYMGHEYnj55ZeHPOb27du89957lJWV8cQTTxAXF0dMTAzFxcUsWrSIJUuWUFtbS2Zmps1Pxl67do3Dhw+zf/9+fvvb37J06VJefPFFnJ2dHfmRREREREQeybAUDT09PaSlpdHU1MSYMWPYvHkz6enpdHV1YbFYWL9+PWazGZPJxOXLl8nOzqauro68vDyMRiMhISGkpaVhNptJTk7GYrGwYMECDhw4wIkTJ6isrCQzMxOj0Yi/vz8ZGRmUl5dTUVHBjRs3mDx5MmFhYcTGxgIQGRlJYWEh3t7eA2LNzs7G29ubJUuWkJqaSmtrK6GhoXY/n5ubG2VlZXh4eAAwfvx4Ojo68Pb2pqOjA4DOzs4B96usrGTevHm4urri4+PD1772NRoaGviTP/kTR3ztIiIiIiIOMSzLk0pLS/H19WX//v3ExcVhMpmIjY1l7969pKSksHPnTubOnUtwcDAZGRl4eXmRk5PDnj17KCgooKWlhZqaGkpLS5kyZQr79u3D09PTev0NGzaQmZlJQUEBXl5eHDp0CICWlhYKCwtZtmwZR44cAaChoYGAgID7Fgz3+uSTT+jt7aWoqIiYmBjrw/+DfFkwXLp0iaamJsLCwnjttdc4fPgwf/7nf84//dM/8fd///c2Y9ra2vDx8bEe+/j4cPPmzYf/YkVEREREhsGwzDRcvHiROXPmABAVFYXZbCY9PZ3c3Fy6u7txd3e36d/Q0EBzczNJSUkAmM1mmpubaWxsJDw8HICFCxeSm5tLR0cHBoOBSZMmAXf3HlRVVTFt2jRCQ0MxGAxMnTqVzs5O2tvbOX78ODExMYPG3NDQwIwZMwAICwtj7Nixg465evUqb731Fu+//z4uLi7s2LGD73znO7zxxhucPHmSH/3oR3bfRN3f3//Ac/X19YPeX8Qei8WiPJJHpjwSR1AeiSMoj4bXsBQNzs7O3Llzx3qcn5+Pv78/W7du5cKFC2zZssWmv4uLCyEhITbr/wGqq6txcro7OWIwGKz/3vuw3dPTYz3n4uJibY+OjubYsWOcPn2anJycQWPu7++33guwif9+WltbWbVqFVu2bCE4OBiA2tpa/uf//J8AzJ07lx/84Ac2Y/z8/Lhy5Yr1+Pr16/j5+d33+l9eU+T3VV9frzySR6Y8EkdQHokjKI8cr6am5oHnhmV5UmhoKGfOnAHg5MmT5OTkEBgYCIDJZKKnpwe4WwD09fURFBREY2Oj9ZeUsrKyuH79OoGBgdZfIKqoqADAy8sLg8FAc3MzAGfPniUkJGRADNHR0ZSUlDBx4kTc3NwGjTkoKMh6r9raWrq7u+32X7duHRs3bmT69OnWtqeeeorz588D8G//9m889dRTNmO+9a1v8fHHH9Pd3c3169e5ceMG3/zmNweNTURERERkOA3LTENkZCSnTp0iISEBo9HIrl272LBhA0ePHuXVV1+lvLyc4uJiwsPDSU5OZseOHaxdu5YVK1bg6urKtGnT8PPzY/HixaxcuZLExEReeOEF60zApk2bSE1NxWg0EhAQQFRUFGVlZTYx+Pr64u7uTnR09EPFPH/+fIqLi0lISODpp5/G39//gX2vXLlCdXU1WVlZ1rbXXnuNv/mbv2HdunUcPXoUuFtYALzzzjssW7aMgIAA4uLiSEhIwGAwsHHjRpvZDRERERGRx4Gh395C+sdMU1MTn332GfPmzePcuXNkZ2eTl5f3UGPb29t5/fXXOXjw4Kh7MK+pqWHmzJkjHYaMcprGFUdQHokjKI/EEZRHjmfvmfOxek/DYDw9Pdm9ezfbt28H/v9f7gdjMpnIyspizZo11oJh9erV3Lp1y6afh4eH3f0ORUVFlJeXD2hPSUmxbpoWEREREflDM6qKhnHjxg3YHP0wIiIiiIiIsGmz9ytGDxIfH098fPyQx4mIiIiIjGaja52OiIiIiIgMu1G1p+GPlb2fvxIRERERcZQH7WlQ0SAiIiIiInZpeZKIiIiIiNilokFEREREROwaVb+e9Mdm8+bNnD9/HoPBwNq1a3nmmWdGOiQZRX7961+zcuVKXnvtNRISEmhpaeEf//Ef6evrY+LEiWzduhVXV9eRDlMec1u2bKGmpobe3l7+5m/+htDQUOWRDMnt27dJS0vj888/53e/+x0rV67k6aefVh7JkFksFqKjo1m5ciVz5sxRDg0zzTQ8ps6ePcu///u/U1RUxDvvvMM777wz0iHJKNLV1cWmTZuYM2eOtS0rK4ulS5fy05/+lKeeeoqDBw+OYIQyGpw5c4bLly9TVFTEBx98wObNm5VHMmQnT54kJCSEgoICfvzjH/Puu+8qj+T3kpOTg5eXF6D/po0EFQ2PqdOnT1vfLTFlyhRu3brFb3/72xGOSkYLV1dXdu7ciZ+fn7WtsrKShQsXAvCnf/qnnD59eqTCk1Hi+eef53/9r/8F3H1Pzu3bt5VHMmSRkZGsWLECgJaWFvz9/ZVHMmSNjY00NDTw7W9/G9B/00aCiobHVFtbG97e3tZjHx8fbt68OYIRyWhiNBoZO3asTdvt27etU7cTJkxQPsmgnJ2dcXd3B+DgwYPMnz9feSS/tyVLlvDWW2+xdu1a5ZEM2Y9+9CPS0tKsx8qh4ac9DaOEfhlXHEn5JENhMpk4ePAgeXl5/Lf/9t+s7cojGYr9+/dTX1/PP/zDP9jkjvJIBlNaWsqzzz5LQEDAfc8rh4aHiobHlJ+fH21tbdbjGzduMHHixBGMSEY7d3d3LBYLY8eO5fr16zZLl0Qe5P/8n//DP//zP/PBBx/g6empPJIhq6urY8KECUyaNIng4GD6+vp44oknlEfy0D7++GOuXbvGxx9/TGtrK66urvr/ohGg5UmPqblz5/LRRx8BcPHiRfz8/PDw8BjhqGQ0e+GFF6w5dezYMebNmzfCEcnjzmw2s2XLFv7lX/6F8ePHA8ojGbrq6mry8vKAu0tvu7q6lEcyJD/+8Y8pLi7mwIEDxMbGsnLlSuXQCNAboR9j7733HtXV1RgMBjZs2MDTTz890iHJKFFXV8ePfvQjmpqaMBqN+Pv7895775GWlsbvfvc7nnzySTIyMnBxcRnpUOUxVlRURHZ2NkFBQda2d999l3/6p39SHslDs1gsrFu3jpaWFiwWC6tXryYkJIS3335beSRDlp2dzde+9jVefPFF5dAwU9EgIiIiIiJ2aXmSiIiIiIjYpaJBRERERETsUtEgIiIiIiJ2qWgQERERERG7VDSIiIiIiIhdKhpERERERMQuFQ0iIiIiImKXigYREREREbHr/wEG0a8VIG6dzAAAAABJRU5ErkJggg==\n",
      "text/plain": [
       "<Figure size 864x432 with 1 Axes>"
      ]
     },
     "metadata": {
      "tags": []
     },
     "output_type": "display_data"
    }
   ],
   "source": [
    "clf = CatBoostRegressor(n_estimators = 3000,\n",
    "                       learning_rate = 0.01,\n",
    "                       rsm = 0.4, ## Analogous to colsample_bytree\n",
    "                       random_state=2054,\n",
    "                       )\n",
    "\n",
    "fit_params = {'verbose': 200, 'early_stopping_rounds': 200}\n",
    "\n",
    "cb_oofs, cb_preds, fi = run_gradient_boosting(clf, fit_params, train_proc, test_proc, cat_num_cols)"
   ]
  },
  {
   "cell_type": "markdown",
   "metadata": {
    "id": "t29m9CIwD2oR"
   },
   "source": [
    "**Submitting on the Leaderboard**"
   ]
  },
  {
   "cell_type": "code",
   "execution_count": null,
   "metadata": {
    "colab": {
     "base_uri": "https://localhost:8080/",
     "height": 17
    },
    "id": "EsYbc9qlD2oS",
    "outputId": "c25eba49-aef6-422c-f16f-29d5aeec499f"
   },
   "outputs": [
    {
     "data": {
      "application/javascript": [
       "\n",
       "    async function download(id, filename, size) {\n",
       "      if (!google.colab.kernel.accessAllowed) {\n",
       "        return;\n",
       "      }\n",
       "      const div = document.createElement('div');\n",
       "      const label = document.createElement('label');\n",
       "      label.textContent = `Downloading \"${filename}\": `;\n",
       "      div.appendChild(label);\n",
       "      const progress = document.createElement('progress');\n",
       "      progress.max = size;\n",
       "      div.appendChild(progress);\n",
       "      document.body.appendChild(div);\n",
       "\n",
       "      const buffers = [];\n",
       "      let downloaded = 0;\n",
       "\n",
       "      const channel = await google.colab.kernel.comms.open(id);\n",
       "      // Send a message to notify the kernel that we're ready.\n",
       "      channel.send({})\n",
       "\n",
       "      for await (const message of channel.messages) {\n",
       "        // Send a message to notify the kernel that we're ready.\n",
       "        channel.send({})\n",
       "        if (message.buffers) {\n",
       "          for (const buffer of message.buffers) {\n",
       "            buffers.push(buffer);\n",
       "            downloaded += buffer.byteLength;\n",
       "            progress.value = downloaded;\n",
       "          }\n",
       "        }\n",
       "      }\n",
       "      const blob = new Blob(buffers, {type: 'application/binary'});\n",
       "      const a = document.createElement('a');\n",
       "      a.href = window.URL.createObjectURL(blob);\n",
       "      a.download = filename;\n",
       "      div.appendChild(a);\n",
       "      a.click();\n",
       "      div.remove();\n",
       "    }\n",
       "  "
      ],
      "text/plain": [
       "<IPython.core.display.Javascript object>"
      ]
     },
     "metadata": {
      "tags": []
     },
     "output_type": "display_data"
    },
    {
     "data": {
      "application/javascript": [
       "download(\"download_73da8510-5fe1-4693-b0c8-8d93ceaf6f97\", \"hacklive_cb_folds.csv\", 270821)"
      ],
      "text/plain": [
       "<IPython.core.display.Javascript object>"
      ]
     },
     "metadata": {
      "tags": []
     },
     "output_type": "display_data"
    }
   ],
   "source": [
    "cb_preds_t = np.expm1(cb_preds)\n",
    "download_preds(cb_preds_t, file_name = 'hacklive_cb_folds.csv')"
   ]
  },
  {
   "cell_type": "code",
   "execution_count": null,
   "metadata": {
    "colab": {
     "base_uri": "https://localhost:8080/",
     "height": 415
    },
    "id": "x5EVWZtyYUJM",
    "outputId": "23da92d7-b5ac-4d58-d27c-f609de9d0d31"
   },
   "outputs": [
    {
     "data": {
      "text/html": [
       "<div>\n",
       "<style scoped>\n",
       "    .dataframe tbody tr th:only-of-type {\n",
       "        vertical-align: middle;\n",
       "    }\n",
       "\n",
       "    .dataframe tbody tr th {\n",
       "        vertical-align: top;\n",
       "    }\n",
       "\n",
       "    .dataframe thead th {\n",
       "        text-align: right;\n",
       "    }\n",
       "</style>\n",
       "<table border=\"1\" class=\"dataframe\">\n",
       "  <thead>\n",
       "    <tr style=\"text-align: right;\">\n",
       "      <th></th>\n",
       "      <th>video_id</th>\n",
       "      <th>likes</th>\n",
       "    </tr>\n",
       "  </thead>\n",
       "  <tbody>\n",
       "    <tr>\n",
       "      <th>0</th>\n",
       "      <td>87185</td>\n",
       "      <td>620.776036</td>\n",
       "    </tr>\n",
       "    <tr>\n",
       "      <th>1</th>\n",
       "      <td>9431</td>\n",
       "      <td>2224.582218</td>\n",
       "    </tr>\n",
       "    <tr>\n",
       "      <th>2</th>\n",
       "      <td>40599</td>\n",
       "      <td>66.015509</td>\n",
       "    </tr>\n",
       "    <tr>\n",
       "      <th>3</th>\n",
       "      <td>494</td>\n",
       "      <td>3590.268024</td>\n",
       "    </tr>\n",
       "    <tr>\n",
       "      <th>4</th>\n",
       "      <td>73942</td>\n",
       "      <td>1013.820616</td>\n",
       "    </tr>\n",
       "    <tr>\n",
       "      <th>...</th>\n",
       "      <td>...</td>\n",
       "      <td>...</td>\n",
       "    </tr>\n",
       "    <tr>\n",
       "      <th>11165</th>\n",
       "      <td>19415</td>\n",
       "      <td>1326.371005</td>\n",
       "    </tr>\n",
       "    <tr>\n",
       "      <th>11166</th>\n",
       "      <td>25168</td>\n",
       "      <td>5228.239236</td>\n",
       "    </tr>\n",
       "    <tr>\n",
       "      <th>11167</th>\n",
       "      <td>80293</td>\n",
       "      <td>6845.730614</td>\n",
       "    </tr>\n",
       "    <tr>\n",
       "      <th>11168</th>\n",
       "      <td>80880</td>\n",
       "      <td>7252.059914</td>\n",
       "    </tr>\n",
       "    <tr>\n",
       "      <th>11169</th>\n",
       "      <td>6514</td>\n",
       "      <td>3983.111064</td>\n",
       "    </tr>\n",
       "  </tbody>\n",
       "</table>\n",
       "<p>11170 rows × 2 columns</p>\n",
       "</div>"
      ],
      "text/plain": [
       "       video_id        likes\n",
       "0         87185   620.776036\n",
       "1          9431  2224.582218\n",
       "2         40599    66.015509\n",
       "3           494  3590.268024\n",
       "4         73942  1013.820616\n",
       "...         ...          ...\n",
       "11165     19415  1326.371005\n",
       "11166     25168  5228.239236\n",
       "11167     80293  6845.730614\n",
       "11168     80880  7252.059914\n",
       "11169      6514  3983.111064\n",
       "\n",
       "[11170 rows x 2 columns]"
      ]
     },
     "execution_count": 148,
     "metadata": {
      "tags": []
     },
     "output_type": "execute_result"
    }
   ],
   "source": [
    "pd.read_csv('hacklive_cb_folds.csv')"
   ]
  },
  {
   "cell_type": "markdown",
   "metadata": {
    "id": "YvlYPqZOEVxC"
   },
   "source": [
    "**CatBoost: gives Visible Improvement.**\n",
    "\n",
    "* Is catboost better then LightGBM ?\n",
    "* Can catboost score be further improved ?\n",
    "* Can LighGBM be tuned to give a better score than CatBoost ?"
   ]
  },
  {
   "cell_type": "markdown",
   "metadata": {
    "id": "42tlvle-rozE"
   },
   "source": [
    "## **XGBoost**\n",
    "\n",
    "XGBoost is an optimized distributed gradient boosting library designed to be highly efficient, flexible and portable. It implements machine learning algorithms under the Gradient Boosting framework. XGBoost provides a parallel tree boosting (also known as GBDT, GBM) that solve many data science problems in a fast and accurate way. The same code runs on major distributed environment (Hadoop, SGE, MPI) and can solve problems beyond billions of examples.\n",
    "\n",
    "https://xgboost.readthedocs.io/en/latest/"
   ]
  },
  {
   "cell_type": "code",
   "execution_count": null,
   "metadata": {
    "colab": {
     "base_uri": "https://localhost:8080/",
     "height": 1000
    },
    "id": "tVqJWl1dEEx2",
    "outputId": "356de63c-af09-4047-c98d-4232d17f1ecb"
   },
   "outputs": [
    {
     "name": "stdout",
     "output_type": "stream",
     "text": [
      "\n",
      "------------- Fold 1 -------------\n",
      "[07:36:44] WARNING: /workspace/src/objective/regression_obj.cu:152: reg:linear is now deprecated in favor of reg:squarederror.\n",
      "[0]\tvalidation_0-rmse:7.13914\n",
      "Will train until validation_0-rmse hasn't improved in 200 rounds.\n",
      "[200]\tvalidation_0-rmse:0.675344\n",
      "[400]\tvalidation_0-rmse:0.668702\n",
      "[600]\tvalidation_0-rmse:0.666931\n",
      "[800]\tvalidation_0-rmse:0.666898\n",
      "Stopping. Best iteration:\n",
      "[736]\tvalidation_0-rmse:0.666675\n",
      "\n",
      "\n",
      "AV metric score for validation set is 666.6752519026531\n",
      "\n",
      "------------- Fold 2 -------------\n",
      "[07:37:05] WARNING: /workspace/src/objective/regression_obj.cu:152: reg:linear is now deprecated in favor of reg:squarederror.\n",
      "[0]\tvalidation_0-rmse:7.12698\n",
      "Will train until validation_0-rmse hasn't improved in 200 rounds.\n",
      "[200]\tvalidation_0-rmse:0.687736\n",
      "[400]\tvalidation_0-rmse:0.680454\n",
      "[600]\tvalidation_0-rmse:0.679159\n",
      "[800]\tvalidation_0-rmse:0.678962\n",
      "Stopping. Best iteration:\n",
      "[790]\tvalidation_0-rmse:0.678721\n",
      "\n",
      "\n",
      "AV metric score for validation set is 678.7210554498439\n",
      "\n",
      "------------- Fold 3 -------------\n",
      "[07:37:27] WARNING: /workspace/src/objective/regression_obj.cu:152: reg:linear is now deprecated in favor of reg:squarederror.\n",
      "[0]\tvalidation_0-rmse:7.1196\n",
      "Will train until validation_0-rmse hasn't improved in 200 rounds.\n",
      "[200]\tvalidation_0-rmse:0.680665\n",
      "[400]\tvalidation_0-rmse:0.673414\n",
      "[600]\tvalidation_0-rmse:0.672737\n",
      "Stopping. Best iteration:\n",
      "[568]\tvalidation_0-rmse:0.672578\n",
      "\n",
      "\n",
      "AV metric score for validation set is 672.5774899610437\n",
      "\n",
      "------------- Fold 4 -------------\n",
      "[07:37:44] WARNING: /workspace/src/objective/regression_obj.cu:152: reg:linear is now deprecated in favor of reg:squarederror.\n",
      "[0]\tvalidation_0-rmse:7.12104\n",
      "Will train until validation_0-rmse hasn't improved in 200 rounds.\n",
      "[200]\tvalidation_0-rmse:0.672998\n",
      "[400]\tvalidation_0-rmse:0.667772\n",
      "[600]\tvalidation_0-rmse:0.667139\n",
      "Stopping. Best iteration:\n",
      "[515]\tvalidation_0-rmse:0.666906\n",
      "\n",
      "\n",
      "AV metric score for validation set is 666.9056915032018\n",
      "\n",
      "------------- Fold 5 -------------\n",
      "[07:37:59] WARNING: /workspace/src/objective/regression_obj.cu:152: reg:linear is now deprecated in favor of reg:squarederror.\n",
      "[0]\tvalidation_0-rmse:7.11941\n",
      "Will train until validation_0-rmse hasn't improved in 200 rounds.\n",
      "[200]\tvalidation_0-rmse:0.681365\n",
      "[400]\tvalidation_0-rmse:0.675628\n",
      "[600]\tvalidation_0-rmse:0.675027\n",
      "Stopping. Best iteration:\n",
      "[499]\tvalidation_0-rmse:0.674595\n",
      "\n",
      "\n",
      "AV metric score for validation set is 674.5948973476245\n",
      "\n",
      "\n",
      "AV metric for oofs is 671.9105260280289\n"
     ]
    },
    {
     "data": {
      "image/png": "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\n",
      "text/plain": [
       "<Figure size 864x432 with 1 Axes>"
      ]
     },
     "metadata": {
      "tags": []
     },
     "output_type": "display_data"
    }
   ],
   "source": [
    "clf = XGBRegressor(n_estimators = 1000,\n",
    "                    max_depth = 6,\n",
    "                    learning_rate = 0.05,\n",
    "                    colsample_bytree = 0.5,\n",
    "                    random_state=1452,\n",
    "                    )\n",
    "\n",
    "fit_params = {'verbose': 200, 'early_stopping_rounds': 200}\n",
    "\n",
    "xgb_oofs, xgb_preds, fi = run_gradient_boosting(clf, fit_params, train_proc, test_proc, cat_num_cols)"
   ]
  },
  {
   "cell_type": "markdown",
   "metadata": {
    "id": "mSAaaCTPETqt"
   },
   "source": [
    "**Submitting on the Leaderboard**"
   ]
  },
  {
   "cell_type": "code",
   "execution_count": null,
   "metadata": {
    "colab": {
     "base_uri": "https://localhost:8080/",
     "height": 17
    },
    "id": "Hq1RGFdEETqu",
    "outputId": "de1b501d-31a3-4665-c80c-c8ee7147fba2"
   },
   "outputs": [
    {
     "data": {
      "application/javascript": [
       "\n",
       "    async function download(id, filename, size) {\n",
       "      if (!google.colab.kernel.accessAllowed) {\n",
       "        return;\n",
       "      }\n",
       "      const div = document.createElement('div');\n",
       "      const label = document.createElement('label');\n",
       "      label.textContent = `Downloading \"${filename}\": `;\n",
       "      div.appendChild(label);\n",
       "      const progress = document.createElement('progress');\n",
       "      progress.max = size;\n",
       "      div.appendChild(progress);\n",
       "      document.body.appendChild(div);\n",
       "\n",
       "      const buffers = [];\n",
       "      let downloaded = 0;\n",
       "\n",
       "      const channel = await google.colab.kernel.comms.open(id);\n",
       "      // Send a message to notify the kernel that we're ready.\n",
       "      channel.send({})\n",
       "\n",
       "      for await (const message of channel.messages) {\n",
       "        // Send a message to notify the kernel that we're ready.\n",
       "        channel.send({})\n",
       "        if (message.buffers) {\n",
       "          for (const buffer of message.buffers) {\n",
       "            buffers.push(buffer);\n",
       "            downloaded += buffer.byteLength;\n",
       "            progress.value = downloaded;\n",
       "          }\n",
       "        }\n",
       "      }\n",
       "      const blob = new Blob(buffers, {type: 'application/binary'});\n",
       "      const a = document.createElement('a');\n",
       "      a.href = window.URL.createObjectURL(blob);\n",
       "      a.download = filename;\n",
       "      div.appendChild(a);\n",
       "      a.click();\n",
       "      div.remove();\n",
       "    }\n",
       "  "
      ],
      "text/plain": [
       "<IPython.core.display.Javascript object>"
      ]
     },
     "metadata": {
      "tags": []
     },
     "output_type": "display_data"
    },
    {
     "data": {
      "application/javascript": [
       "download(\"download_da1e6ccc-3dc2-4195-b75e-7b5a05557735\", \"hacklive_xgb_5_folds.csv\", 270860)"
      ],
      "text/plain": [
       "<IPython.core.display.Javascript object>"
      ]
     },
     "metadata": {
      "tags": []
     },
     "output_type": "display_data"
    }
   ],
   "source": [
    "xgb_preds_t = np.expm1(xgb_preds)\n",
    "download_preds(xgb_preds_t, file_name = 'hacklive_xgb_5_folds.csv')"
   ]
  },
  {
   "cell_type": "markdown",
   "metadata": {
    "id": "g4Glb4dnFfXW"
   },
   "source": [
    "**Questions to think about XGBoost**\n",
    "\n",
    "* Is XGBoost worse than LightGBM and CatBoost ?\n",
    "\n",
    "* Can XGBoost be tuned more ?\n",
    "\n"
   ]
  },
  {
   "cell_type": "markdown",
   "metadata": {
    "id": "8WpLrUsPE2YK"
   },
   "source": [
    "# **Feature Engineering**"
   ]
  },
  {
   "cell_type": "markdown",
   "metadata": {
    "id": "VnrlVMNmE2YL"
   },
   "source": [
    "* What does a model know about a sample ?\n",
    "\n",
    "* What the model does not know about the sample ?\n",
    "\n",
    "* How do we provide that unknown information to the model ?\n",
    "\n",
    "\n",
    "***Feature Engineering is one of the biggest difference maker in any ML competition.*** "
   ]
  },
  {
   "cell_type": "markdown",
   "metadata": {
    "id": "UNsKoe8dE2YM"
   },
   "source": [
    "<br>\n",
    "<br>\n",
    "\n",
    "**Helper Functions**"
   ]
  },
  {
   "cell_type": "code",
   "execution_count": null,
   "metadata": {
    "id": "qtEXT1g-E2YM"
   },
   "outputs": [],
   "source": [
    "def join_df(train, test):\n",
    "\n",
    "  df = pd.concat([train, test], axis=0).reset_index(drop = True)\n",
    "  features = [c for c in df.columns if c not in [ID_COL, TARGET_COL]]\n",
    "  df[num_cols + ['likes']] = df[num_cols + ['likes']].apply(lambda x: np.log1p(x))\n",
    "\n",
    "  return df, features\n",
    "\n",
    "def split_df_and_get_features(df, train_nrows):\n",
    "\n",
    "  train, test = df[:train_nrows].reset_index(drop = True), df[train_nrows:].reset_index(drop = True)\n",
    "  features = [c for c in train.columns if c not in [ID_COL, TARGET_COL]]\n",
    "  \n",
    "  return train, test, features"
   ]
  },
  {
   "cell_type": "code",
   "execution_count": null,
   "metadata": {
    "id": "k4IQMVuAG2Jg"
   },
   "outputs": [],
   "source": [
    "df, features = join_df(train, test)"
   ]
  },
  {
   "cell_type": "code",
   "execution_count": null,
   "metadata": {
    "id": "tF2tqFklaE1d"
   },
   "outputs": [],
   "source": [
    "cat_cols = ['category_id', 'country_code', 'channel_title']"
   ]
  },
  {
   "cell_type": "markdown",
   "metadata": {
    "id": "oPROiDRqav53"
   },
   "source": [
    "**Why Label Encoding ?**"
   ]
  },
  {
   "cell_type": "code",
   "execution_count": null,
   "metadata": {
    "id": "bh5kYTFlHFwo"
   },
   "outputs": [],
   "source": [
    "### Label Encoding\n",
    "df[cat_cols] = df[cat_cols].apply(lambda x: pd.factorize(x)[0])"
   ]
  },
  {
   "cell_type": "markdown",
   "metadata": {
    "id": "ZwJV5InxNrwp"
   },
   "source": [
    "**DATE TIME FEATURES**"
   ]
  },
  {
   "cell_type": "code",
   "execution_count": null,
   "metadata": {
    "id": "FJd-DNVuHlxI"
   },
   "outputs": [],
   "source": [
    "df['publish_date'] = pd.to_datetime(df['publish_date'], format='%Y-%m-%d')\n",
    "df['publish_date_days_since_start'] = (df['publish_date'] - df['publish_date'].min()).dt.days\n",
    "\n",
    "df['publish_date_day_of_week'] = df['publish_date'].dt.dayofweek\n",
    "df['publish_date_year'] = df['publish_date'].dt.year\n",
    "df['publish_date_month'] = df['publish_date'].dt.month"
   ]
  },
  {
   "cell_type": "code",
   "execution_count": null,
   "metadata": {
    "id": "GK4qKjNgIrQ4"
   },
   "outputs": [],
   "source": [
    "features = [c for c in df.columns if c not in [ID_COL, TARGET_COL]]\n",
    "cat_num_cols = [c for c in features if c not in ['title', 'tags', 'description', 'publish_date']]"
   ]
  },
  {
   "cell_type": "code",
   "execution_count": null,
   "metadata": {
    "colab": {
     "base_uri": "https://localhost:8080/",
     "height": 191
    },
    "id": "d1tvAHwGN9VJ",
    "outputId": "a001fe74-bafc-4b8f-959f-18a6c19dddd4"
   },
   "outputs": [
    {
     "data": {
      "text/plain": [
       "['channel_title',\n",
       " 'category_id',\n",
       " 'views',\n",
       " 'dislikes',\n",
       " 'comment_count',\n",
       " 'country_code',\n",
       " 'publish_date_days_since_start',\n",
       " 'publish_date_day_of_week',\n",
       " 'publish_date_year',\n",
       " 'publish_date_month']"
      ]
     },
     "execution_count": 158,
     "metadata": {
      "tags": []
     },
     "output_type": "execute_result"
    }
   ],
   "source": [
    "cat_num_cols"
   ]
  },
  {
   "cell_type": "code",
   "execution_count": null,
   "metadata": {
    "id": "kH6RJAfwJOJK"
   },
   "outputs": [],
   "source": [
    "train_proc, test_proc, features = split_df_and_get_features(df, train.shape[0])"
   ]
  },
  {
   "cell_type": "code",
   "execution_count": null,
   "metadata": {
    "colab": {
     "base_uri": "https://localhost:8080/",
     "height": 1000
    },
    "id": "WCvhH3qMI820",
    "outputId": "fa94afbc-0887-45e5-d86b-967ecc195662"
   },
   "outputs": [
    {
     "name": "stdout",
     "output_type": "stream",
     "text": [
      "\n",
      "------------- Fold 1 -------------\n",
      "Training until validation scores don't improve for 200 rounds.\n",
      "[300]\tvalid_0's rmse: 0.632226\n",
      "[600]\tvalid_0's rmse: 0.61216\n",
      "[900]\tvalid_0's rmse: 0.603608\n",
      "[1200]\tvalid_0's rmse: 0.598652\n",
      "[1500]\tvalid_0's rmse: 0.596547\n",
      "[1800]\tvalid_0's rmse: 0.594728\n",
      "[2100]\tvalid_0's rmse: 0.593298\n",
      "[2400]\tvalid_0's rmse: 0.592479\n",
      "[2700]\tvalid_0's rmse: 0.591633\n",
      "Early stopping, best iteration is:\n",
      "[2632]\tvalid_0's rmse: 0.591455\n",
      "\n",
      "AV metric score for validation set is 591.4551038851612\n",
      "\n",
      "------------- Fold 2 -------------\n",
      "Training until validation scores don't improve for 200 rounds.\n",
      "[300]\tvalid_0's rmse: 0.641797\n",
      "[600]\tvalid_0's rmse: 0.62382\n",
      "[900]\tvalid_0's rmse: 0.613848\n",
      "[1200]\tvalid_0's rmse: 0.609342\n",
      "[1500]\tvalid_0's rmse: 0.606363\n",
      "[1800]\tvalid_0's rmse: 0.604763\n",
      "[2100]\tvalid_0's rmse: 0.603543\n",
      "[2400]\tvalid_0's rmse: 0.603089\n",
      "[2700]\tvalid_0's rmse: 0.603023\n",
      "Early stopping, best iteration is:\n",
      "[2589]\tvalid_0's rmse: 0.602773\n",
      "\n",
      "AV metric score for validation set is 602.7726568732737\n",
      "\n",
      "------------- Fold 3 -------------\n",
      "Training until validation scores don't improve for 200 rounds.\n",
      "[300]\tvalid_0's rmse: 0.623409\n",
      "[600]\tvalid_0's rmse: 0.604857\n",
      "[900]\tvalid_0's rmse: 0.595979\n",
      "[1200]\tvalid_0's rmse: 0.591608\n",
      "[1500]\tvalid_0's rmse: 0.589281\n",
      "[1800]\tvalid_0's rmse: 0.588172\n",
      "[2100]\tvalid_0's rmse: 0.587217\n",
      "Early stopping, best iteration is:\n",
      "[1941]\tvalid_0's rmse: 0.586898\n",
      "\n",
      "AV metric score for validation set is 586.8978373576713\n",
      "\n",
      "------------- Fold 4 -------------\n",
      "Training until validation scores don't improve for 200 rounds.\n",
      "[300]\tvalid_0's rmse: 0.618017\n",
      "[600]\tvalid_0's rmse: 0.597556\n",
      "[900]\tvalid_0's rmse: 0.588667\n",
      "[1200]\tvalid_0's rmse: 0.58433\n",
      "[1500]\tvalid_0's rmse: 0.582682\n",
      "[1800]\tvalid_0's rmse: 0.581468\n",
      "[2100]\tvalid_0's rmse: 0.580165\n",
      "[2400]\tvalid_0's rmse: 0.57949\n",
      "[2700]\tvalid_0's rmse: 0.578613\n",
      "[3000]\tvalid_0's rmse: 0.578759\n",
      "Early stopping, best iteration is:\n",
      "[2907]\tvalid_0's rmse: 0.578436\n",
      "\n",
      "AV metric score for validation set is 578.436484908081\n",
      "\n",
      "------------- Fold 5 -------------\n",
      "Training until validation scores don't improve for 200 rounds.\n",
      "[300]\tvalid_0's rmse: 0.628899\n",
      "[600]\tvalid_0's rmse: 0.612028\n",
      "[900]\tvalid_0's rmse: 0.606425\n",
      "[1200]\tvalid_0's rmse: 0.602738\n",
      "[1500]\tvalid_0's rmse: 0.599337\n",
      "Early stopping, best iteration is:\n",
      "[1593]\tvalid_0's rmse: 0.598692\n",
      "\n",
      "AV metric score for validation set is 598.6920220381694\n",
      "\n",
      "\n",
      "AV metric for oofs is 591.7134328309735\n"
     ]
    },
    {
     "data": {
      "image/png": "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\n",
      "text/plain": [
       "<Figure size 864x432 with 1 Axes>"
      ]
     },
     "metadata": {
      "tags": []
     },
     "output_type": "display_data"
    }
   ],
   "source": [
    "clf = LGBMRegressor(n_estimators = 5000,\n",
    "                        learning_rate = 0.05,\n",
    "                        colsample_bytree = 0.65,\n",
    "                        metric = 'None',\n",
    "                        )\n",
    "fit_params = {'verbose': 300, 'early_stopping_rounds': 200, 'eval_metric': 'rmse'}\n",
    "\n",
    "lgb_oofs, lgb_preds, fi = run_gradient_boosting(clf, fit_params, train_proc, test_proc, cat_num_cols)"
   ]
  },
  {
   "cell_type": "markdown",
   "metadata": {
    "id": "6aCViRavepM4"
   },
   "source": [
    "**Submitting on the Leaderboard**"
   ]
  },
  {
   "cell_type": "code",
   "execution_count": null,
   "metadata": {
    "colab": {
     "base_uri": "https://localhost:8080/",
     "height": 17
    },
    "id": "lnBBkDgoepM5",
    "outputId": "d2d526a1-0408-4f7a-b731-75bc67f398c4"
   },
   "outputs": [
    {
     "data": {
      "application/javascript": [
       "\n",
       "    async function download(id, filename, size) {\n",
       "      if (!google.colab.kernel.accessAllowed) {\n",
       "        return;\n",
       "      }\n",
       "      const div = document.createElement('div');\n",
       "      const label = document.createElement('label');\n",
       "      label.textContent = `Downloading \"${filename}\": `;\n",
       "      div.appendChild(label);\n",
       "      const progress = document.createElement('progress');\n",
       "      progress.max = size;\n",
       "      div.appendChild(progress);\n",
       "      document.body.appendChild(div);\n",
       "\n",
       "      const buffers = [];\n",
       "      let downloaded = 0;\n",
       "\n",
       "      const channel = await google.colab.kernel.comms.open(id);\n",
       "      // Send a message to notify the kernel that we're ready.\n",
       "      channel.send({})\n",
       "\n",
       "      for await (const message of channel.messages) {\n",
       "        // Send a message to notify the kernel that we're ready.\n",
       "        channel.send({})\n",
       "        if (message.buffers) {\n",
       "          for (const buffer of message.buffers) {\n",
       "            buffers.push(buffer);\n",
       "            downloaded += buffer.byteLength;\n",
       "            progress.value = downloaded;\n",
       "          }\n",
       "        }\n",
       "      }\n",
       "      const blob = new Blob(buffers, {type: 'application/binary'});\n",
       "      const a = document.createElement('a');\n",
       "      a.href = window.URL.createObjectURL(blob);\n",
       "      a.download = filename;\n",
       "      div.appendChild(a);\n",
       "      a.click();\n",
       "      div.remove();\n",
       "    }\n",
       "  "
      ],
      "text/plain": [
       "<IPython.core.display.Javascript object>"
      ]
     },
     "metadata": {
      "tags": []
     },
     "output_type": "display_data"
    },
    {
     "data": {
      "application/javascript": [
       "download(\"download_a600daf0-d3ed-45cd-aadd-154b67b67067\", \"hacklive_lgb_fe.csv\", 270939)"
      ],
      "text/plain": [
       "<IPython.core.display.Javascript object>"
      ]
     },
     "metadata": {
      "tags": []
     },
     "output_type": "display_data"
    }
   ],
   "source": [
    "lgb_preds_t = np.expm1(lgb_preds)\n",
    "download_preds(lgb_preds_t, file_name = 'hacklive_lgb_fe.csv')"
   ]
  },
  {
   "cell_type": "code",
   "execution_count": null,
   "metadata": {
    "colab": {
     "base_uri": "https://localhost:8080/",
     "height": 415
    },
    "id": "OGXbgtDZcFGa",
    "outputId": "371dffff-749a-435f-9d45-894a34ce9706"
   },
   "outputs": [
    {
     "data": {
      "text/html": [
       "<div>\n",
       "<style scoped>\n",
       "    .dataframe tbody tr th:only-of-type {\n",
       "        vertical-align: middle;\n",
       "    }\n",
       "\n",
       "    .dataframe tbody tr th {\n",
       "        vertical-align: top;\n",
       "    }\n",
       "\n",
       "    .dataframe thead th {\n",
       "        text-align: right;\n",
       "    }\n",
       "</style>\n",
       "<table border=\"1\" class=\"dataframe\">\n",
       "  <thead>\n",
       "    <tr style=\"text-align: right;\">\n",
       "      <th></th>\n",
       "      <th>video_id</th>\n",
       "      <th>likes</th>\n",
       "    </tr>\n",
       "  </thead>\n",
       "  <tbody>\n",
       "    <tr>\n",
       "      <th>0</th>\n",
       "      <td>87185</td>\n",
       "      <td>568.235862</td>\n",
       "    </tr>\n",
       "    <tr>\n",
       "      <th>1</th>\n",
       "      <td>9431</td>\n",
       "      <td>2066.377645</td>\n",
       "    </tr>\n",
       "    <tr>\n",
       "      <th>2</th>\n",
       "      <td>40599</td>\n",
       "      <td>37.649187</td>\n",
       "    </tr>\n",
       "    <tr>\n",
       "      <th>3</th>\n",
       "      <td>494</td>\n",
       "      <td>3757.871204</td>\n",
       "    </tr>\n",
       "    <tr>\n",
       "      <th>4</th>\n",
       "      <td>73942</td>\n",
       "      <td>741.771063</td>\n",
       "    </tr>\n",
       "    <tr>\n",
       "      <th>...</th>\n",
       "      <td>...</td>\n",
       "      <td>...</td>\n",
       "    </tr>\n",
       "    <tr>\n",
       "      <th>11165</th>\n",
       "      <td>19415</td>\n",
       "      <td>1540.362329</td>\n",
       "    </tr>\n",
       "    <tr>\n",
       "      <th>11166</th>\n",
       "      <td>25168</td>\n",
       "      <td>4155.892593</td>\n",
       "    </tr>\n",
       "    <tr>\n",
       "      <th>11167</th>\n",
       "      <td>80293</td>\n",
       "      <td>7949.698768</td>\n",
       "    </tr>\n",
       "    <tr>\n",
       "      <th>11168</th>\n",
       "      <td>80880</td>\n",
       "      <td>6206.966633</td>\n",
       "    </tr>\n",
       "    <tr>\n",
       "      <th>11169</th>\n",
       "      <td>6514</td>\n",
       "      <td>3914.570473</td>\n",
       "    </tr>\n",
       "  </tbody>\n",
       "</table>\n",
       "<p>11170 rows × 2 columns</p>\n",
       "</div>"
      ],
      "text/plain": [
       "       video_id        likes\n",
       "0         87185   568.235862\n",
       "1          9431  2066.377645\n",
       "2         40599    37.649187\n",
       "3           494  3757.871204\n",
       "4         73942   741.771063\n",
       "...         ...          ...\n",
       "11165     19415  1540.362329\n",
       "11166     25168  4155.892593\n",
       "11167     80293  7949.698768\n",
       "11168     80880  6206.966633\n",
       "11169      6514  3914.570473\n",
       "\n",
       "[11170 rows x 2 columns]"
      ]
     },
     "execution_count": 162,
     "metadata": {
      "tags": []
     },
     "output_type": "execute_result"
    }
   ],
   "source": [
    "pd.read_csv('hacklive_lgb_fe.csv')"
   ]
  },
  {
   "cell_type": "markdown",
   "metadata": {
    "id": "QFWeoL7x3EZo"
   },
   "source": [
    "## **Frequency Features**"
   ]
  },
  {
   "cell_type": "markdown",
   "metadata": {
    "id": "wl0IG8fhHasR"
   },
   "source": [
    "![Frequency_encoding_2.jpg](data:image/jpeg;base64,/9j/4AAQSkZJRgABAQAAAQABAAD/2wBDAAMCAgICAgMCAgIDAwMDBAYEBAQEBAgGBgUGCQgKCgkICQkKDA8MCgsOCwkJDRENDg8QEBEQCgwSExIQEw8QEBD/2wBDAQMDAwQDBAgEBAgQCwkLEBAQEBAQEBAQEBAQEBAQEBAQEBAQEBAQEBAQEBAQEBAQEBAQEBAQEBAQEBAQEBAQEBD/wAARCAHyAq0DASIAAhEBAxEB/8QAHQABAAMBAQEBAQEAAAAAAAAAAAUGBwgEAwIJAf/EAFYQAAECBAMEBAcMBgcHAwQDAAABAgMEBQYHERQSE2FiCBchMRZRU1aSlNMVIkFSVFWRpLO00dIjMpOVoaIkQkNxlrGyCURXY4Gj1TNkZSUmOHY0NXT/xAAcAQEAAgMBAQEAAAAAAAAAAAAABQYBAgQDBwj/xABCEQACAQEEBQkHAgUDBAMBAAAAAQIDBAURExIUIVNhBhUxUVKRocHRFkFicZKx0heiIlSB4fAjMjMHNDVyJEKC8f/aAAwDAQACEQMRAD8A/qmcmSf+0Ttmsxp9bS6LfSMueRkJ+ZprqlQ7IhzsnFjQIjocRIcWHMqjsnNVPgXxoi9h1mfzq6JOMHSms/Das0PCvoedYVvwryuF8Gu9YNOpO+iOqEVXs00divbsuzbmq5LlmgB2bgjjT12USoVrqmxHsL3PmkldJe9B9y5mYzYjt5CZtv24fbltZp2oqGkHL2OfSVxSwy6LSYl3tYMnhfe9YqsCgwpGcq8CsS9HdMTO6bORI8FEhxWthIsbZy7FRGrn2mB3P0jcIsHadSsQMJenBcGIlyylRk21u369XVn5SuysSKyHMJBl1ho2UiNa5Xs3GwibOSo7NQD+jp5KtVJGh0qcrVUj7mTp8vEmpiJsq7YhQ2q5zskRVXJEVckTM5qx2maS++3VPGzpWwcMcPIlLgLQKNRbqShVOfmVzWPMTEbJsZzU961kOC/LvV3b2GZYT3YuLWHfSEwqksbbvvOzrXlYU3blyxJ6NLVZ0vFk3xnS75tGw4keGj4at21T37HKmap2gHZuH982/ibZFExCtSLGi0a4ZKFUZCJGhLDe+BEbtMcrV7W5oqLkvamfaWA/npakhWsKegvgXXLQxAvSDM3TctjPm99cEzEbBgx48FkWUgIrv0Ms5vYsBvvFRVTI6U6Vlx3DbvVR4P16o0z3RxIo8jOaOafB1Ms/ebcGJsKm3DdkmbVzRckzQA3cHIdu2lfmMXScxpt+t40X9RbRtado7qbTaDXIkkrJqJJte9dtM3JCybnum5Mc57lcjuzLOJ/pH4SYo4lX3Cxi6XVbw0pdqV2Pb1vW7b9ffSoz2yqoyLPTUWGxYkZ74qORrHO3aNZ2tXNQD+gYObehLjrHxgtq8rdmb6hXx4BXA6jyd0Q4bWLWJF0NsWXjxEYiNWKjXKx6oiIrmKuSZnSQAAAAAAAAAAAAAAAAAAAAAAAAAAAAAAAAAAAAAAAAAAAAAAAAAAAAAAAAAAAAAAAAAAAAAAAAAAAAAAAAAAKfi9ihQMFsNLhxUumTqE1Sbak3T03Bp8Nj5h8NFRMobXvY1V7U73InEuBgHT6//DfFn/8AXov+tgBUJf8A2gUCbgQ5qV6GXSmjQYzEiQ4kPDpHNe1UzRyKkzkqKnaiodI2LdXhzZ9Iu/wbrtv+60qya9y67J6SoSm0n/pzEHN27iJ8Lc1yOW7Q6QPThl7SokvIf7PbVy0KnSzIMx1sUiHvoaQmo1+ysPNuaZLkvameRO9Il2I9zdIPBTD23cQbisynXLI1t1ww6PP7uI+BCgwnqxru1iREd71sXZVzUc5WK1VzQDqQHD2NuK1rYY4nWv0Xrr6StyWHaVNoESv1q456tufXqq6LMOZLSTJ57XRGNTZiOc9qI9Wsa3a71X44P9KOyLQxgq+G9hY81DFyyI1nz9zSkapT61CoUebkUR0WWdNORIkWHFhrtN3m05qtX33bkAdzg44sPD7G3EjAqD0jJjH29qbiHcNGiXDT6VCn0S3pGG9ixIMi6QRqMezY2WOiqu92lVzXtU2Loa16uXR0WML7huasz1XqtQtuUjzc9PTL5iYmIit7XxIj1Vz3L8KqqqAbKcvXB0+bYpV73RY1vdHLHm9I9o1R9IqU/atoQ6jJNmWNa5WJFZMIqLsuauTmtXJUXLtOoT+feEGKPSMsXF3pBU7BvotdZ9LmMSZqPNVHw3kKLppjSy6bjdTDHOf71Gu207PfZd6KAdVYG9ITrvmqvLdR+LVge5EODE3l8217lMnN4r02Zdd4/eK3YzcnZkjm+M1o5svrpI4w4f8ARhvXGTFDBKWw5ueiosCmUiZuOWrEGK+IrIcGPEjyzUa1m3E7W5Z5MXxnNV19IXC3DrD2NinY/T4rd3Yn0mXZUpmjz9a39HrURuTo0iyn7tIMBrkVzWOhbL2rs5uUA/pQfiPGhy8GJMRnbMOE1XvXLPJETNVOZMYbglrqdad44h9JKVwlwsqtAhzzJaRuJtFq9UqEVrXo1ZlzUe2CyG79WC9Hq5e3syM4wIvan4h37i3gJZ+P15X3h2y05Os0mvR6vHWqyMeJFiw48CBUtlkWLD/RtVImbss3IjlXMA7Aw5xCtrFSzpC/LOmI0xRqpvHSkaLCWE6IxkR0Pb2XdqIqsVUzRFyVM0Rewsp/OqwKPVsLP9nbT72tDEG9pep1mdpWaxLhmnskmpVkhuZKt2v6O17XKj2syR2fah0n01LnuS1cH6FU7XuGp0ecjXtbEpEmJCbiS8V8CLUoLIsJXMVFVj2qrXNzyciqi5oAdBA5EqVv31i70ysS8N5rGG+rcs2hWvQaikjb1aiSUTWRt81rmREzdCbkx7nNh7O2qN29pEyKDd3SDwyu/Gq+LBxg6VNdwxtnDqagUCk0qk119Mn6vMsgsfHn5qahtWNEajnIxrEc1qq1yuR2agHfIOX+hdjtDxKqOIOHEtie3Eam2PUJZKLdK7Lo89T5mFtsZMOY1rXxoT2vYr0aiuREVe3M6gABhPQzw0vbCjCCcte/6J7l1OLdNdqTIGpgx85aYnokWC/ahPc33zHNXLPNM8lRF7DdgAZT0mMGp7HHC6La1Cq8ClXBTajJV6hTsw1XQYNRk4zY0FYiJ27Cq3Zdl25OVU7iixrs6al+NpNoSmEtKwwjsnJd1cu6NX5GrS6yzHIsZshKta6I90VEVqLHZD2Ecq9qoinSAAOTqnhxjBht0mb1xYpGBdNxYkLzl6e2mVR9ZkZKet7Twt26WVJpEVIDnfpM4O07Ny5tXsRPbhHhFjizEHHOr4sUilyjcTKXIrT5qlzrY0nKuSVjQHSabWUZ7oSKxViuhMa9XKrU+BOpAAcX07A7Hm6eh/bWDNUsKUtm88Kp6gzNFfOViXmJC4H0uKyI1zXwFc+AyIjFb+ka1yK5M0yRSYxIofSix2rWGNSqmDEvY9Is69KbWqpIzFxyc/OTbYaua+KxYLkhNgw2uV36zor1VESG3Jc+uAAYzhFh9d9r444z3hXaRpqRdlQpUejzOohP1LIMkkOIuw1yuZk9Msno1V70zTtKJQ7Ux66Nt53tBw0wpl8S7HvOtx7kkpeUr0rS5+jTswjdRCiNmtmHFgueivR7Hq9M1TZXsOoQAZ3glJ40st6fq+OdVpjq3VqhFm5WkUxrHy9ElF/9KUSOjGOmHtTtdEcnaq5J2JmuiAAAAAAAAAAAAAAAAAAAAAAAAAAAAAAAAAAAAAAAAAAAAAAAAAAAAAAAAAAAAAAAAAAAAAAAAAAAAAAAAAAAAyDpeWFdmKHRpxCw/sWle6dfrlHfKyEpv4UHfRVc1UbtxXNY3sRe1zkQ18AERaEhN0u0qJTJ+FupmUp0tAjM2kdsxGQmtcmaZouSovai5GYYhYfXfXOkthRiBS6Rv6BbVPrsCqTeohN075iFCbBTYc5Hv2la7ta1UTLtyNmABz9i5hxinbWNtJ6RuDFv0+551KI627jtqan2SEWoSe93sGNLTD0WG2LDer/exFa1yOX3yKe6zpXpBYrXFW5zF22ZSwbBnKLFpEC0tbKVKoTkaKipEmpiZgtcyEiMdsthw4js17XcdzABx9S6X0rsGME5/AKg4b0WsyVvUiap1Ev2NX4UCVhU1sN26fMSeSzKzMOH73ZY1WPc1F22oppvQZ//ABAwj/8A1aT/ANJtFYpkCtUmdo00+IyDPy0SViOhqiORr2q1VRVRUzyXszRTGKL0QbAoNq27aFNxBxWlJG2aTL0eUbT78qVNa+DBRUa+JCkokGCsRc/fPSGir2eJADczCOjNhne+H1242VO76JoJa7sQJit0Z+pgxdVJOlZdjYuUN7lZm6G9Nl6Nd2d2SoSMr0WLOk5qDNw8TMZXvgRGxGti4oV2IxVRc0RzHTStcnZ2oqKip2KbKiZIidvZ4wDP8fsJoGOGENy4YxaktOi1mV2ZSdRm1pZpjkiQYuXwo2IxqqnizMki3T046vbErhvI4QUG2LjRIMnNX+64pScpcOG1UR83AklasxEiOaiqkKJDa1Fd2uVEOnAAcoYgYWYt2l0loWOFMwmkcZadO2vJ0GHCmKjIyM9QpqDEc6JMwWzWzB2I21m/dq1yKmSIqIiLIYWYZ46u6Tl44uYo2xSabSrvsqVo8pCpVRZMw6S6BMPVsrFe7YfGiK2I6IsRkJIaKqtRVyzXp8AHGluYD4217olV3o016ypa26zbL2OtytR6tLzMhW3wp1ZmE5WwVWNAauyxrkiMRc3Lki5H+420PpbdIGyLZtyYwJkbPh0G6qFV6rCjXRJzsapNlp2E6Jpt25GMgsaj4quiuSIu7axsNVXNOygAYjY2HN50fpZ4pYm1Kjbm2rjty3pCmTuohO38eWWZ37N2jliN2d4ztc1EXPsVclyqbrKxt6P+LV93phRhrAxHtHEiehVudpMCtS9NqNLqjYTIUR7FmVbBiwYjWMVU22uaqLkinTQAMywSg47TUGvXNjjMUynxqxPJFo9s050OYh0KTaxGpCiTbWNWYjPXNzndrUzyb2GmgAAEB4f2J57UH95QfzDw/sTz2oP7yg/mPTJqdl9xpmQ60T4IDw/sTz2oP7yg/mHh/YnntQf3lB/MMmp2X3DMh1onwQHh/YnntQf3lB/MPD+xPPag/vKD+YZNTsvuGZDrRPggPD+xPPag/vKD+YeH9iee1B/eUH8wyanZfcMyHWifBAeH9iee1B/eUH8w8P7E89qD+8oP5hk1Oy+4ZkOtE+CA8P7E89qD+8oP5iTplYpNagOmqNVJSfgsesN0SVjtitRyIiq1VaqpnkqLlxQxKnOKxaZlTi9iZ7AAaGwAAAAAAAAAAAAAAAAAAAAAAAAAAAAAAAAAAAAAAAAAAAAAAAAAAAAAAAAAAAAAAAAAAAAAAAAAAAAAAAAAAIupXTbNFmElKxcVLkY7mo9IUzOQ4T1aqqiLk5UXLsXt4GYxcngkYbS2slAQHh/YnntQf3lB/MPD+xPPag/vKD+Y3yanZfca5kOtE+CA8P7E89qD+8oP5h4f2J57UH95QfzDJqdl9wzIdaJ8EB4f2J57UH95QfzDw/sTz2oP7yg/mGTU7L7hmQ60T4IDw/sTz2oP7yg/mHh/YnntQf3lB/MMmp2X3DMh1onwQHh/YnntQf3lB/MPD+xPPag/vKD+YZNTsvuGZDrRPgiJC77Sqk2yQpl0UibmYuexBgTsKJEdkiquTWuVVyRFX+5CXNZRcXhJYGykpbUAAamQAADE7VjwUtejosNmaSEv/VTybSU38DybPRQqNtzmzbtLbn3SUBP5GkjruJbpUsWyvqpsJ3fwPJs9FBv4Hk2eihBa7iNdxMZJnNJ3fwPJs9FBv4Hk2eihBa7iVev4t2La93UGxK9cUKUrtzLESlSjoURyzCsTN3v2tVjOG2qZr2Jmph01HawqjfQaLv4Hk2eig38DybPRQgtdxGu4mckZpO7+B5NnooN/A8mz0UILXcRruIyRmk7v4Hk2eihYcLHo+XuFyJknuyuXqkuUHXcS7YPP3lNrz/HWXfdZc4rfT0aDfyOmyT0qqRfwAV8lgAAAAAAAAAAAAAAAAAAAAAAAAAAAAAAAAAAAAAAAAAAAAAAAAAAAAAAAAAAAAAAAAAAAAAAAAAAAAAAAAAZhdMSGzEGo7bUXOlyOWaZ/2kyaeZBfsfc4hTnb30qS+0mCQu2OlWa4ehyWx6NPHifffwPJs9FBv4Hk2eihBa7iNdxJ3JIvNJ3fwPJs9FBv4Hk2eihBa7iNdxGSM0nd/A8mz0UG/geTZ6KGfXxinZmHFPgVK8q6yQhzcZJeVhNgxI8eZi5Z7uDBhNdEiuyRV2WNVckzPrZmJVpYhUt9ZtCtw5+WhRnS8ZN2+FFgRW5Zw4sKIjYkJ6Zp717UXtTsNctY6OO0zpvDHDYXzfwPJs9FBv4Hk2eihBa7iNdxNskxmk7v4Hk2eig38DybPRQgtdxGu4jJGaTtNisfedsNY1E/pswvYmX+5xzWDFLbmd9fdstz7pqYX6nHNrIS9I6NWK4ebJKwvSg3x8kAARp2gAAHLdDntmiU9ufdKwk/kQ92v4lTpU5s0uTbtd0vDT+VD1a7mPoeTiVDMLFr+I1/Eruu5hruYZJnMLFr+JxRiDiPh7fFQxXviYxRtOl3Lb85KyNnys5XpeXjo+lO36uRjno5EjTCxWdiLtNRO/uOobqmK/MW1VJe1YsoysRZOKyRfNxHMgsjq1UY57mtcqIi5L2NXu7ipYc4S2dZVjUW1qhb9HqU5ISjIc3ORpKHEfMzC9sWIrnNzXaerlzXxnNXss6rUI9G30PalXjBOT6TQsPcQabiHY9CvekRUdKVuQgzkPL+rttRVavFFzRf7iw6/iYxgvZFbwukbgteYm5GLQHVqYnrfZAixHRZeVjrvHQIjXNRG7MRX7KNVybKp3dxouu5j2pUpOCc1tPOdRKT0XsLFr+I1/Eruu5hruY3yTXMLFr+Jp+B0Te0Otv8dZf92lzDtdzG0dH5+8tisP8AHWYn3eARV809Cyt8Ud13T0q+HA1AAFRLAAAAAAAAAAAAAAAAAAAAAAAAAAAAAAAAAAAAAAAAAAAAAAAAAAAAAAAAAAAAAAAAAAAAAAAAAAAAAAAAAADD8U5jcYhzHb+tSpP7WYNwOfsao+5xEf25Z0mV+1jktc0dK1YcGcF4vChjxRFa/iNfxK7ruYa7mLbkkBmFi1/Ea/iV3Xcw13MMkZguGjUyZqktfEvQIFTuShyczBpO/mnwWNWKibTM/fNZtbDUV+w5UTPL4UXK8B67VX4qYksv2mtod6VF8jPR6TLOSLJtp7YawoEaDHRf06uVr0e5zIbkVEbsIiIqzd/UnESYrlJu3Dm5ZSFNU6HFl5qjVWNGbTqhBiZKiuWFmsKKxW+9iIx/YrkVMl7PJh9ZtzyF31rEzEGpU2NcNZlIFOhytL3mjkJOC5zmw2viZOiuc97nOerW59iI1EQ5pUJOqsF0P+nR0/P3HsqqUHi/8xNm1/Ea/iV3Xcw13MdOSeOYWLX8Rr+JXddzDXcwyRmF5sea32IVttz7piZX6pGN/Oa8MpjfYlW63PuizK/VIx0oVW/I6NoivhX3ZO3Y9Ki3x8kAAQxIgAAHEEjO7MlLtz7oTE/gh99dxFIsK96hSpKoS0GkJBmZeHGho+eiI7Zc1FTNN0uS5L4z19W1++Sovr8T2JelyhurD/l/bL0IZ8lr4Twyv3Q/I8mu4jXcT19W1++Sovr8T2I6tr98lRfX4nsTPtDdW9/bL0Mey98br90PyPJruI13E9fVtfvkqL6/E9iOra/fJUX1+J7Ee0N1b39svQey98br90PyPJruI13E9fVtfvkqL6/E9iOra/fJUX1+J7Ee0N1b39svQey98br90PyPJruI13E9fVtfvkqL6/E9iOra/fJUX1+J7Ee0N1b39svQey98br90PyPJruJ0B0b37yzao/x1mL9hAMK6tr98lRfX4nsTdejhIz9LtOtU2ptgNmJatxGv3ERXsXOWl3Jkqtav9bxfARd73vYbZZ8qzzxlivc190jpslx3jYZ51pp4Rw6dKL+zbNYABWCRAAAAAAAAAAAAAAAAAAAAAAAAAAAAAAAAAAAAAAAAAAAAAAAAAAAAAAAAAAAAAAAAAAAAAAAAAAAAAAAAABzb0gI+5xFb299JlvtY50kc3Y7W9cNx4mRIdFgyOUrSJRXrMzLoee3FmMskax3xV8RJXVa6FitKq2iWEcH7m/tieFpsVovCm6NmjjLp6Uvu0jONdxGu4nr6tr98lRfX4nsR1bX75Ki+vxPYlp9obq3v7ZehGey98br90PyPJruI13E9fVtfvkqL6/E9iOra/fJUX1+J7Ee0N1b39svQey98br90PyPJruI13E9fVtfvkqL6/E9iOra/fJUX1+J7Ee0N1b39svQey98br90PyPJruI13E9fVtfvkqL6/E9iOra/fJUX1+J7Ee0N1b39svQey98br90PyPJruI13E9fVtfvkqL6/E9iOra/fJUX1+J7Ee0N1b39svQey98br90PyLLg9M77FG3259z5pfqsU6oOWsKLWua3cUbZmazDpyQY8aagt080+I5HaOO7PJYbUy974/hOpSs3xbLPbrQqlmlpRSS6Gtu3rS6yRst32m7qeVao6Mnt6U9nR7m+pgAEUdIAABzPaM7s2pRW591Plk/wC20ltfxKVbM7s25Sm7XdJQE/7bSS1/MV5VNh9XnZMZNlj1/Ea/iVzX8w1/MZzDXVCx6/iNfxKzGqSw4MSI1e1rVcmf9xz/AGFf/SpxAs2Uvykz+FTJSeSLFgyEel1GHFVrIjmo10VJlzWquz+tsKnb3G0ZOSxxPGpSVOSjott9XDD1OptfxGv4mYYVYk9ZVg0m83051Oiz8NyR5VYm8SDFY9zIjUfkm03aauS5JmmRbNfzGHNp4M9IWdVIqcehlj1/Ea/iVzX8w1/MYzDbVCx6/iXnA+Jvabcr/HXnfc5UyPX8xqfR/ib2hXE/x15/3SWOmxz0qqRDX9QyrDJ8V9zUgAS5QwAAAAAAAAAAAAAAAAAAAAAAAAAAAAAAAAAAAAAAAAAAAAAAAAAAAAAAAAAAAAAAAAAAAAAAAAAAAAAAAAAYniFMbjE+odvfRqf9rNm2GA4tTG4xQm+3vo0h9rNHJbXhTx4k7ydhmWxx4PyPnr+I1/Ermv5hr+YiswvGqFj1/Ea/iVzX8w1/MMwaoWPX8Rr+JSrjvClWpQp6465NpLyNOgujx4i9uTUTuRPhVe5E+FVRClYEYsXFilaM/cVz0BlEm5etTtPZIpntwYMJ6IxIq7SosTJffZZJn8CGVJtaXuPN0YqoqXve02rX8Rr+JXNfzDX8xjMPTVCx6/iNfxK5r+Ya/mGYNULXbUzvsRLRZn3Ts0v1GYN6Ob7Fmd9iZabM/wDe5pfqMwdIEnYXpU2+PkimcpaeXaoR+FfeQAB2ldAAAOKKDPbNDpzc+6Ugp/Ih79fzFRpM9s0qSbtd0vDT+VD16/mKhmH33VMdpY9fzDX8xXNfzDX8wzDOqE9Mz/8ARovvv7N3+RzJgrgjRrvwepU/N4jYjU5ajCmduXp11zUCVhIsaImTIG0sNG8uyqL25ob46da9qscuaOTJf7jKofRrwShNWGy26kkFznOWB4RVPcLtLmqLC1Gxsqqr73LLge1O0KKaba/z5kfa7rnWqRnGCkkmsG2unDqT6ix9Gi6ZuqYYsp8yspEhW/U52hyk1KS7IEGbl5aMsOHFaxiIxqqiZLsojc0VUNW1/MU+iydItylStDoFPlqfT5KGkKXlpeGkOHCYncjWp2Ie3X8x5zrKUm0dNnsEqVKNOW1pIsev5hr+Yrmv5hr+Y1zD31Qsev5jbejdE3lrV9/jr0T7rLHN+v5jojovRN7Zdbf469F+7Sx33bPSr4cGVflfQyrtb+JGxgAsB8pAAAAAAAAAAAAAAAAAAAAAAAAAAAAAAAAAAAAAAAAAAAAAAAAAAAAAAAAAAAAAAAAAAAAAAAAAAAAAAAAABzdjlMbjFGN25Z0WS+2mTpE5c6RMxuMU17cs6LJ/bTJwXk8KGPFFo5IQzLyUfhZWtfzDX8xXNfzDX8xX8w+raoWPX8w1/MVzX8w1/MMwaoZ9i1Wrrnb9oVNjYZ3NcVo0hrarG9ydG5JyoNd+hhxEjzEL9HCy3mWS7T1Z8Vc/h0abznqtL3hJzVmV6kNW6KnN7+fSW3aufGTOB+ijPXeN/rdmz4nONI1/MRlCpdFtqFNwaJKaZk9ORqhMJvHv25iKucR/vlXLNfgTJE+BEPXWFoaOBw80zVoVZS2bcVs4YJbOj+pdtfzDX8xXNfzDX8x5Zh3aoWPX8w1/MVzX8w1/MMwaoaLhfM77FS1W590xNr9SjnUxyJgzM77Fy12555RZtfqcc67J663pUW+Pkj5fy0p5d4Qj8C+8gACRKiAAAfzqkJ3ZkZdufdCYn8EPvr+Ju1vYS4czlApk3M0Nzo0eTgxIipNxkRXKxFXsR2SdviJDqcwz+YX+uRvznC+SlZP/AJF3M+mR/wCp1hwX/wAeXejnnX8Rr+J0N1OYZ/ML/XI35x1OYZ/ML/XI35zHsrW3i7mZ/U6wfy8u9HPOv4jX8Tobqcwz+YX+uRvzjqcwz+YX+uRvzj2VrbxdzH6nWD+Xl3o551/Ea/idDdTmGfzC/wBcjfnHU5hn8wv9cjfnHsrW3i7mP1OsH8vLvRzzr+I1/E6G6nMM/mF/rkb846nMM/mF/rkb849la28Xcx+p1g/l5d6OedfxOouia/eWBWH+OvRvu0uQfU5hn8wv9cjfnNDwUolKt6kV6l0WV08pCrTlYzbc/JVlZdV7XKqr2ntQuKpYJZ0ppr5ELf3LWy37ZNUo0pReKeLa9xooAOkpgAAAAAAAAAAAAAAAAAAAAAAAAAAAAAAAAAAAAAAAAAAAAAAAAAAAAAAAAAAAAAAAAAAAAAAAAAAAAAAAAAOSulDMbjFSH299Elftpg61MUxIsi1rqxFnI1w090y+BSpJIS797NlFiTGae9VM+5O/iedWwyvCDoxeHvJe475p3FbFbKsXJJNYLicua/iNfxOhupzDP5hf65G/OOpzDP5hf65G/OcnsrW3i7mXb9TrB/Ly70c86/iNfxOhupzDP5hf65G/OOpzDP5hf65G/OPZWtvF3MfqdYP5eXejnnX8Rr+J0N1OYZ/ML/XI35x1OYZ/ML/XI35x7K1t4u5j9TrB/Ly70c86/iNfxOhupzDP5hf65G/OOpzDP5hf65G/OPZWtvF3MfqdYP5eXejnnX8Rr+J0N1OYZ/ML/XI35x1OYZ/ML/XI35x7K1t4u5j9TrB/Ly70ZtgJM77GS2W59z5xfqcY7RMHtHD+zbYxAtmoUGlLLzLpqYhq9ZiI/wB6snHzTJzlTxG8HXSu+V2xypyxx2+XkU2/79pcoLUrVRg4pJRwfDF+75gAHoQgAABgFszmzblKbn3SUBP+20ktdzFQoM7s0KnNz7pSCn8iHv1/MXZ0cWVlVNhYNdzDXcxX9fzDX8xjIM5hYNdzDXcxX9fzHJmMFWrNz4gXRjLQHRYsHA+JJQpCHD28piJmkaqtRE/Xzlnth/Dk5q/D2HlVjlLHA3ptzeGJ2nruYa7mKpSbjka3SpOs02YbGlJ6BDmYERq5o6G9qOav0Kh69fzHoqOJpmMsGu5hruYr+v5hr+YzkDMLBruYuGEMTeSFff46y77rLmX6/mNIwSibyi1x/jrL/u0uR9509CzN/I67FPSrI0UAFaJoAAAAAAAAAAAAAAAAAAAAAAAAAAAAAAAAAAAAAAAAAAAAAAAAAAAAAAAAAAAAAAAAAAAAAAAAAAAAAAAAAGSXxH3OIU7299LkvtJk1sxTE6Y3GIcz25Z0qT+0mCSuqOlXw4HFbnhSx4n513MNdzFf1/MNfzFjyCHzCwa7mGu5iv6/mGv5hkDMLBruYa7mMZxaseiXxFp9TvqrzMe0KDBmJuoUCHAixIVSibKbDoyQl2orWIj1SDsORznIuWaIhS+i/cFHn6jfsOxo0eVsiUqkCBRqTNvcyPIREgpqESXiLvZWE5+SshRGsXscqNRFQ8nHCag10nonjHSTOmtdzDXcxX9fzDX8x65B55hYNdzDXcxX9fzDX8wyBmFnoEzvr5tlufdNzC/U45sxgtmTO+xBttmfdMTK/VIxvRX73jo1orh5slrvelTb4+SAAIo7wAADkWkTmzSpJufdLw0/lQ9Wu4lYp87syEs3a7oLE/lQ++v5j6XklLzCwa7iNdxK/r+Ya/mM5IzD2XVc0e37aqlclafN1CPISkWYhSkpAfGjR3taqtYxjEVznKqImSIq9pg2HPRnlZuxJeavW98Q5CtXEyJUq7I0+6ZyTlVmplVfFYsBjkb2bWyqKnbs9ptuv5hr+Y8Z2KNSSlNY4HpG0OCwiUTo2MuS07Nn8MbkkKhC8C6nGpVNnJmWeyHO07PblokN7uyJlDcjFVqrkrMlyNb13Er+v5hr+Y2p2bLio9RrOtpyciwa7iNdxK/r+Ya/mPTJNcwsGu4mxYBP3ltVh/jrL/u8A591/Mb10c4m8tCqvz76zE+7wCHvynoWRviiRuuelXw4M1YAFLLGAAAAAAAAAAAAAAAAAAAAAAAAAAAAAACs4k4k2VhDZVTxExErXuTb1HY2JOzmmix901zkai7uC1z3e+cie9aveWY50/2g7GROiRfUOIxHNc2RRzVTNFRZ2D2KAbZYV+WlifZ1Jv8AsSsMqtArks2bkJxsJ8NIsJe5diI1r2r2Kitc1FRUyVEK/Hx6wmlsYpfAGNdzEv2Zp61SHSGycw5dNkq7axkhrBauTVXZV6Oyy7O1DJOiA+Xwzm8R8AZuJDlpSy6oyvUZjon6lGqUNZhmSf1WMjJMsRO5EaiJ4kwjC+VdcHTSwrxvnIP9MxPlrzrEB6rmvuXCSVl6e1FXubuIaPy7s4rl+FVUD+iIOYbgk+lLWJGu3rd3SDoOCsvAnJlKLQ/cimT8BJOG5UgxZ6amHOV7oiIjnNhOh7CKid6KUqp9KXG25ejThHiZYkGjLeN13lK25PQILWOp89+ljwYjkc9HuZBc6E2LmxUfsoqNd2gHaYOXq/dHSC6Ot22XW8TsWqdiDZ141yWtyqwX2/L0yLRpyazbLxZV8Fc3wFiojFZG235ORdtVPLJ3H0l8VMf8WMMLTxPlrNtO0JqmrLVdlFlJ6dhvjSbXrKQWRWbvZV21EfEipEd2ta3Z7VQDqsHJkLpV3thNYGLdMxihU2u3nhRHlJeWm5ODopevw55rdBGdD2nJBc57tmIiLsorVVpAXfizjfg3Yy43XB0nLGvf3LbBnrgsiWpsjLyzZRypv2SEeE9Znew0cqtWK6Ij9jta3MA7SBytdl/454idJmBhRhViZAtW0ahYMrc8So+4stPTEs98w5rXQEit2VdERWIu822o1i5NzXaTpqgydTp9EkJCtVhatUJeWhwpqfWAyAs1FRqI+Lu2e9ZtLmuynYmeQB7wAAAAAAAAAAAAAAAAAAAAAAAAAAAAAAAADAsZI+5xEidvfSpT7WOb6c449TG4xFTtyzpMt9rHJi446VrS4Mj7zeFnx4oruu4jXcSv6/mGv5i6ZJW8wsGu4jXcSv6/mGv5hkjMIa/sQLxsquUmoSlozdetWNDiwqotKlXzNRk4/YsKK2C12cWEqbSORjXPRdlcssys4ZwKxcWLt04vxrZqNvUmp0mSo8nL1KBp5uedBfEe6ZiQVXahom2jGo9Efki5oiZF/wBfzDX8x4uyNzUm9i24eB6KvhHBIsGu4jXcSv6/mGv5j2yTzzCwa7iNdxK/r+Ya/mGSMw0HDeZ32JFuNz7o0yv1SMdHnLmEczvsULebn3PmV+qxTqMp9/x0bSl8K+7LDdT0qLfHyQABBkmAAAcOylHuJZWCrKFUXN3bVRzZV6oqZd6KidqH19xrk836n6pE/A26gTGVCpqZ90pBT+RD36nid0eWVucU9GHdL8irahB7dJmBe41yeb9T9UifgPca5PN+p+qRPwN91PEanibe2Nu7MO6X5Dm+HaZgXuNcnm/U/VIn4D3GuTzfqfqkT8DfdTxGp4j2xt3Zh3S/Ic3w7TMC9xrk836n6pE/Ae41yeb9T9Uifgb7qeI1PEe2Nu7MO6X5Dm+HaZgXuNcnm/U/VIn4D3GuTzfqfqkT8DfdTxGp4j2xt3Zh3S/Ic3w7TMC9xrk836n6pE/A6F6N0tNytl1OFOy0WBF92IqqyKxWuRFgQMuxe08+p4lrwudtyNad46s77vAPCvyitV5JWeqo4PbsTT2fOTO2wWWNGtpJ4l1ABzE4AAAAAAAAAAAAAAAAAAAAAAAAAAAAAADB+nHbdxXb0YbxoFq0Go1mqTSSW4kqfKvmZiLszcFztmHDRXOyaiquSdiIqm8AA486Vdj4rSN0WndGEVr1efnL7t2NhvcMSQlnPWmwJhWPg1CNk1dhkD+kJtO7E20T4ULFeWGtbovSswEW0LYqC25aln3DSn1CDJRHyci5YUqyXZGitTYYrthdlHKiu2VyzyOoQAfz5wqsOj0VKxIYx9DK7cQsbotTnHxrirVCh1GlT7nRnrLx4VSmnLLS8BrFZ7xuT2I1cmOXJFhdJinhv0TsGKdFsCblb2oWL7YfuJOQVk2zMXWza7MF0VGosKIx36OJ2NVHNXuP6QGd4xYR9bPgb/8AcHuV4JXTI3L/APxN/qtPt/oP127G1t/r++yy/VUAxW+axePSsuKxbFpmDd82lblu3LI3Pc9Uuum+5rYbpJ29gykqiuVZl7oyNzfDzho1qrtLnkV61cXbkwu6VGPTo2Ft2XVa81P0ZYs1a9OWozcnOaBuTYkqxd66G9nc9jXI1ye+yRczs8zuwcI/AfEvEXETwg1vh9NyM1o9Ju9FppdIOzvNtd5tZbWey3Lu7e8A5quTo4YjdIfDnGu87ltVtt1/EiYpke2bfrSsc+BLUvZfKMnmtVzGujRGuVzM12GuRHdykVHo9gV2gydp2T/szKNI4kR3wZaZ8I8N6fBt6nv2kSNHiVBjUhx4SNR6tSC9Xu972Jmd3AA5+tm0LhpfTFna462o8vQ4eGchTIc9LSD4VOSYZOPVYEJ+Ww1WtyVIe0qo3I6BAAAAAAAAAAAAAAAAAAAAAAAAAAAAAAAAAAABzV0g5KpzmIrXU6nTU01lKl2vWDBc/ZXeRl7ck7OxTpUzC8ou7vib7e+nSn2kc3pXhVuyar0km+jbjh4NHFb6aq0dB9Zzj7jXJ5v1P1SJ+A9xrk836n6pE/A33U8RqeJ2+2Nu7MO6X5EHzfDtMwL3GuTzfqfqkT8B7jXJ5v1P1SJ+Bvup4jU8R7Y27sw7pfkOb4dpmBe41yeb9T9UifgPca5PN+p+qRPwN91PEaniPbG3dmHdL8hzfDtMwL3GuTzfqfqkT8B7jXJ5v1P1SJ+Bvup4jU8R7Y27sw7pfkOb4dpmBe41yeb9T9UifgPca5PN+p+qRPwN91PEaniPbG3dmHdL8hzfDtMzTBmm1mWxRoEaepU5LwkdMptxoDmNzWVi9maodVmTUOLvLxt9M+6Zj/dYxrJx1bzq3rN1qySa2bMUuv3t9ZM3dSVGk4p+/wAkAAeZIAAAHPtEmMqNIJn3SsL/AEIe3U8SApMfZpUmmfdLw0/lQ9Wp4lPjaMEiuKoSup4jU8SK1PEaniZ1gZhK6niZVOdI+gxZ6elbLsa9L2laVHfKz9Rt+mw4spAisXKIxsSNFh79zV7HJASIqL2ZZ9hNYn1CqSmG90zVDVyVCDRpx8qrf1kipBcrcuOeRX+jkykSWA9hQaGrFk1oEnEa5jtrbc6E1z3Kvwqrlcqr3qqqekayUdNnoppR0mXyxsQ7YxHtqVuy0alrKfNbTUV0N0OJCiNXZfCiQ3ojocRrkVrmORFRU7UJ/U8Sj2jTrGok7X4VnaGHMzdSfOVmFLTW8Vs7Ea1XLEZtLu3OajV2cm+PIsep4mkrQsdho6ix2ErqeI1PEitTxGp4mNYMZhK6niXvCR23Sqw7x1V33eAZfqeJpeDbtuiVZ3jqr/sIJ23dV07Ql8zrsUtKqi/gAsRMAAAAAAAAAAAAAAAAAAAAAFLXE+UdFjw5a1a7MsgR4susWG2WRrnQ3uY5U2oyLltNXvRB1mM8y7h+iU9uUqlze7bPMz7qpUfvcU9mu4k6rBS6vEi9aqdZaesxnmXcP0Sntx1mM8y7h+iU9uVbXcRruJnUKXV4sxrVTrLT1mM8y7h+iU9uOsxnmXcP0Sntyra7iNdxGoUurxY1qp1lp6zGeZdw/RKe3HWYzzLuH6JT25VtdxGu4jUKXV4sa1U6y09ZjPMu4folPbjrMZ5l3D9Ep7cq2u4jXcRqFLq8WNaqdZaesxnmXcP0Sntz4Q8WpKLOx6cyz7hWPLQ4cWI3Zlfeterkaue/+HYd9BXddxIOnzmV41l2ffJSKfzRzKu+i09niYdrqJraaL1mM8y7h+iU9uOsxnmXcP0Sntyra7iNdxMahS6vFmdaqdZaesxnmXcP0Sntx1mM8y7h+iU9uVbXcRruI1Cl1eLGtVOstPWYzzLuH6JT246zGeZdw/RKe3KtruI13EahS6vFjWqnWWnrMZ5l3D9Ep7cdZjPMu4folPblW13Ea7iNQpdXixrVTrLT1mM8y7h+iU9uOsxnmXcP0Sntyra7iNdxGoUurxY1qp1lxpmIcrUavJUeLbtYkok+98OFEmEl9jabDfEVF2Irnfqsd8HfkWwySlTO+vW2G5905ML9TjmtkbbaMaE1GPV5s7LNUlVi3Lr9AADjOkAAAAAAAAAAAAAAAAAAAAAGS4gRd3fMx299NlftI5rRjeJ0Td3zF402V+0jEfectCjjxOO2vCljxI7U8RqeJFaniNTxIDWCIzCV1PEaniRWp4jU8RrAzCCxCxboeHj6ZITNNq9arNbiPhU2j0eWSPOTSsbtRHIjnNYxjUy2nxHtamaJnmqH2w/xToeIcGoMkJOpUupUeOkrU6TVJdIE5JRVajmpEaiuaqOaqK17HOa5O5VP1Wae2ZV9YpUjSUuCXlYsvT56dld7uNvJVaqtVH7tXNarmtc3PZTt+ExzA2ZuGhYvYg2ziS6BOXpUIMjWYlUkPeSE1TsnQYEODBVNuAsNWuRzXviKqu2ttUXJPWNaMoNrpR6KScW/ejo3U8RqeJFaniNTxPLWDzzCV1PEaniRWp4jU8RrAzCyWtG3l7UBuf8Abx/usY2YwyyYu8vugp/zo/3aKbmTl1S06Unx8kS1geNNvj5IAAkztAAAOWabMZU6VTPugs/0oejU8SEkpjKTgJn3Qmp/A++p4nzbPwKhpkpqeI1PEi9TxGp4mNYGmSbozXtVj0RzXJkqL2oqGQU/B2+7KZM0jCfGF1At2ZjxI8KlVKhw6n7nLEcrntlIqxYbobNpVVGREitbnkiZdhpmp4jU8TeFrlDofn9zaNZx6CFwzw9o+GNEmKZT5+dqU7UZuJUapVJ96OmZ+biZbcWIrURqdiIiNaiNa1ERE7C3aniRep4jU8TErS5PFsw6jk8WSmp4jU8SL1PEania6wY0yU1PE1rBF23btUd46q/7CCYjqeJtOA7tu1qk7x1WJ9jBJi46una0uDO+7ZY1/wChpIALkWAAAAAAAAAAAAAAAAAAAAAA59gzW7makzPuqtQ+9RT667iQE1N7qqVZmfdVZ/7zEPxr+JeKdHGKZWJTwk0WLXcRruJXdfxGv4m2Sa5hYtdxMrxw6Qsrgw+iQ1tyJW31GJEmJ5sObSAshTYKs1E67NrttsPeM9773PPvTIuWv4nKdQxCddWL+IlZm8I74vGhMp/gTIR6JJykaXYxu06d99GmIa7Toj2tXJFTKEnceFoi4RSj0s9aTUni+hHZcGpwpiDDjwIrXw4jUexzVzRzVTNFQ/eu4nO/ROv6pXBhTL2zccGclrgsyYfQKjLTqNSaZustw6KjVVEc6CsNVyVUzzyVTZtfxPSnBVIKa95rOWhJxZYtdxGu4ld1/Ea/ib5JpmFi13Eh5Gcyumquz75ST/1Rjy6/iRkpO5XFUnZ98tKp/GKbKjsZh1C667iNdxK7r+I1/E1yTOYWLXcRruJXdfxGv4jJGYQuIuLNQtGrUW0bUtOLc1z19I0SUkdW2UgQoEFEWJHjx3Ndu2Irmp71j3KrkRG9+X0w3xXjXrN1u3a9bkW3rltqNCg1OnOmmzMNGxWbcKLBjNRqRIb255KrWuRUVFah+qvXJWZdFtiUuaBTK1OSkSLLIx8J8zDYnvVjshPzRyNcqdqtVueSL4jHsFfdaxsYL6w8uGrLclSnZSTuN1xx02JyZhxFfBbAmIbV3bd3u/ebprGK1V96i5qvhKnKNRbdj9O/E9VJOL6zpfXcRruJXdfxGv4nvknlmFi13Ea7iV3X8Rr+IyRmFvtaY31+W03Pumphfqcc3A56sGZ32Itttz7o8yv1SMdClcvmOjXivh82TN3PGk3x8kAARBIAAAAAAAAAAAAAAAAAAAAAAxDFuLu76d299NlvtIxt5g2NMXd32nGmS/2kYiL7lo2THijgvJ4UMeKK1qeI1PEi9TxGp4lM1gr+mSmp4jU8SL1PEaniNYGmVbEHDqfumu0e9bTu+NbNz0SHGloE5pGzcvHlouSvgTEBzm7xmbWuRWvY5qp2O7VQ/wBw9w4j2nW6velz3RFuS6q7Dgy85UXSrJWFDl4We7l4EFqu3cNFc52Suc5Vcqq5fgtGp4jU8T01yWjo47P895tnPDRJTU8RqeJF6niNTxPPWDXTJTU8RqeJF6niNTxGsDTLnh5F3l/0JM/7SY+7RTfznPDCLvMRKGnPMfdop0YW+4Jadmk/if2RPXW8aL+fkgACbJEAAA5gpmH8/NU2Umm12XYkaBDiI1ZRVVqK1Fyz2+09PVxUfOGW9Td7QsFBmMqHTkz7pSD/AKEPdqeJUo2GxuKbh4v1K6qFFroKj1cVHzhlvU3e0HVxUfOGW9Td7Qt2p4jU8TbULF2PF+pnIo9kqPVxUfOGW9Td7QdXFR84Zb1N3tC3aniNTxGoWLseL9RkUeyVHq4qPnDLepu9oOrio+cMt6m72hbtTxGp4jULF2PF+oyKPZKj1cVHzhlvU3e0HVxUfOGW9Td7Qt2p4jU8RqFi7Hi/UZFHslR6uKj5wy3qbvaGqYK02JSaBVafFmWx3Qqq/wDSNZsIucCCvdmvj8ZWdTxLjhU7bp9Zd46q77vAOywWaz0a6lSjg9vWdVjpU4VU4ou4AJ8lwAAAAAAAAAAAAAAAAAAAADkqsTW7r9aZn3Vae+8xDya7mPDc81u7qrrM+6rTv3h5G65fjH0yhSxpRfBfYpdWphN/MsGu5hruYr+uX4w1y/GPXJPPMJ6LNLFhPhNjPhq9qtR7Mtpuad6Z5pn/AHoV7Dy0KLhpakraNBjzUaWlnxYro825ro8eLEiLEiRIita1quc5yqqo1E4H71y/GGuX4xjV03pe8zmvDA81Gsii0G/K9iBTZ6fhzdyQJaDPye8ZpXPgIqMjI3Z2kiK1dlV2slRE7M0zLTruYr+uX4w1y/GMRs6jsQdZvpLBruYa7mK/rl+MNcvxjbJMZhYNdzHglpzKtzzs++BLp/GIR2uX4x5IE4qVOadn3woKfxeMkzmFr13MNdzFf1y/GGuX4wyTGYWDXcw13MV/XL8Ya5fjDJGYeG+8P6HfkxTarHqdWo1ZoznrT6vSJlIE3Lo9ESIzNzXMexyImbHtc1ckXLNEU/ViWFQrCfUJ6Un6nVavV3sfUatVZnfzc0rEyYjnIjWtY1FVEYxrWpmuSdqns1y/GGuX4xpqsNLTw2m+fLDRx2Fg13MNdzFf1y/GGuX4xvkmmYWDXcw13MV/XL8Ya5fjDJGYaPhbM77Ey3W590WZX6rGOmTlHBmY32Kdvtz/AK00v1WKdXFL5Qx0bUl8K+7LJdD0qDfHyQABBEoAAAAAAAAAAAAAAAAAAAAADE8VbamrgvuI6DUYUqkCmyyZOgrE2s4kbmTLuU2wyy94u7via402U+0jkfeVOFWioVFisfU5LbGM6WEujEzzq4qPnDLepu9oOrio+cMt6m72hbtTxGp4kJqFi7Hi/Uicij2So9XFR84Zb1N3tB1cVHzhlvU3e0LdqeI1PEahYux4v1GRR7JUerio+cMt6m72g6uKj5wy3qbvaFu1PEaniNQsXY8X6jIo9kqPVxUfOGW9Td7QdXFR84Zb1N3tC3aniNTxGoWLseL9RkUeyVHq4qPnDLepu9oOrio+cMt6m72hbtTxGp4jULF2PF+oyKPZIywbTmqFftBm49VhTKPizEPYZLqxU/o0Vc89tfF4jezIrei7y87fT/3Ef7rGNdJm7KVOjSlGksFj5IlLDGMKbUejHyQABJHaAAAc70aYypEiniloSfyoezUkBS5jKmSiZ90CH/pQ9Op4lKVfBFZUyW1I1JE6niNTxM6wNM9dVrknRaXN1ioxUhSsjAiTMd/xYbGq5y/QimK2bN434z21LYkS2Jy2DTaw3V0OjyFElZt6Sju2C+diTTXOe97cnKyFutlFRNpVRVNCvyjvu2yK/a0KKkN9XpkzJMcq/quiQnNRfpUznADFe0n4UUmhV6vU6jVy0JGFSa/Tp2abAjSExLsSG/bbEVFRi7O016psuaqKintCt/A5R2vE9Yz/AIW10mg4SXXflct+alMSqA2nV+jT8anTEeBAfDlKi1ipsTcuj1VUhxGqi5Zrsu2kzXLMvGpMzwsxXl8VZGrV6j0iLAoUtUYklSqi6LtMq0JiIjpmEmymUNX7TWrmqO2c0XJS7aniaVKzjJp7DWc8JbdhLakakidTxGp4mmsGmmS2pNAwhdt0iru/+Vd93gGU6niajgu7boNVd46q/wCwgnfdlXTtCXBnZYZY1jQQAWUmgAAAAAAAAAAAAAAAAAAAADlCNhxJV+p1erTdx1SDFj1ioo5kFICMTZm4rUy2oar3NTvU/wA6oKT511r6Jf2ROyk5uo9UZtd1Zqf32MejX8xxc7W2OxVp/U/UvUbksUknkQ+iPoVrqgpPnXWvol/ZDqgpPnXWvol/ZFl1/MNfzDni3b+f1S9TPMdi3EPoj6Fa6oKT511r6Jf2Q6oKT511r6Jf2RZdfzDX8w54t2/n9UvUcx2LcQ+iPoVrqgpPnXWvol/ZDqgpPnXWvol/ZFl1/MNfzDni3b+f1S9RzHYtxD6I+hWuqCk+dda+iX9kOqCk+dda+iX9kWXX8w1/MOeLdv5/VL1HMdi3EPoj6Fa6oKT511r6Jf2REyWGNOjXRVaYty1dsOVlJOK16JL7TliOjIqL+iyyTYTLs+Ff+l71/MQNOncr1rjtrvkZD/VMGHe9uxX+vP6pepvC4rDhLGhDo7EetcD4dUFJ86619Ev7IdUFJ86619Ev7Isuv5hr+Yzzxbt/P6peppzHYtxD6I+hWuqCk+dda+iX9kOqCk+dda+iX9kWXX8w1/MOeLdv5/VL1HMdi3EPoj6Fa6oKT511r6Jf2Q6oKT511r6Jf2RZdfzDX8w54t2/n9UvUcx2LcQ+iPoVrqgpPnXWvol/ZDqgpPnXWvol/ZFl1/MNfzDni3b+f1S9RzHYtxD6I+hWuqCk+dda+iX9kOqCk+dda+iX9kWXX8w1/MOeLdv5/VL1HMdi3EPoj6Hmw9seTtXE21pyUrlRm3RpmaguZMJB2dnRTC/1GNXPNqfCdKGAWrNb7Ea0W5905NL9RmDfz3o2mrak51pOT6MW2/uVy+rJSsdaMKMFFOOOCSSxxe3BAAHsQ4AAAAAAAAAAAAAAAAAAAAAMhxFi7u+Y/Gmyv2kc14xfFOLu75idvfTZb7SMRt6S0aGPFHHbnhSx4kXqRqSJ1PEaniV3WCF0yW1I1JE6niNTxGsDTKxiP1r1mrUW3cPqpBt6lzKRo1YuHcQJmYlWsRN3BgQIqq1XvVVXbcx7WoxezNUIfBi/bnq9w3rYdyXBLXMtnz0vLQa9Al4cFZlIsJIiwYzIX6NI0Nex2wjUVHN961T03ziHY1MrtNw2vqFuZe7pWZhQI84jGyEw5iIj5V0Rzk/Sua5VRmXvmo7JezIzjA2FQbcxjvmz8K5lvV9T5CSirJysbeyEhWXviLGhS65qjM4aQ3Pht961youSKqnRGrjTeK92Pj1+B7KWMHiv8x6zpPUjUkTqeI1PE59YPHTJbUjUkTqeI1PEawNMtFoxt5fFAT/nx/u0U2owixI28v2gp/zZj7tFN3J+6JadGT4+SJi73jTfz8kAASp3AAAHKVPmFSQlkz7oLP8ASh99SvjIaUmMpSAmfdDb/kh9dTxPmGfgU51CU1K+MalfGRep4jU8RrBjMJTUr4yuXDh9h3d0/Bql12FblanZfLczNRpUCZiw8u7ZfEaqplwU9+p4jU8TKtLi8UzKqtdDJKC+FAhMgQIbYcOG1GsYxMmtRO5ERO5D9alfGRep4jU8TGsGMwlNSvjGpXxkXqeI1PEawMwlNSvjNgwNdt21U3eOqv8AsIJhep4m34CO2rUqLvHVYn2MEmbhq6drw4MkLsnpV/6GlgAuxYgAAACJu24INpWrWbqmJaJMwqNT5ioPgw1RHxGwYbnq1qr2Iqo3JM+ztKfJ3ti9OycCdhYOyCMmIbYrUW6IeeTkzT+w4gGjAz/wtxh/4PU//FEP2A8LcYf+D1P/AMUQ/YAGgFNxExOpmG0ahJVaPVJ2BWp2JKviyEBIyycOHAiRnx3sRdtzGthrmjGuciZrl2Hh8LcYf+D1P/xRD9gRrpXE6678s6q1yxKfRKbb85NzcxGbW2zT37ySjQGtaxsJvbtRWqqqvcigGkUuqU2t06Wq9GqEvPSM5DbGl5mXiJEhRYbkzRzXJ2Ki+ND1Ga1SzK9h7OTN0YSSEKPKzUZ0zVrVdESFAm3OXN8eTcvvZeZXNVVq5Qoq/rbDl3hb7SvChXrS/dShzL13cR0Calo0NYUzJx2/rwY8J3vocRvwtcniVM0VFUCbAAAAAByjEm91U6wzPurNS++RRr+JCVSc3VerjM+6tVL73FPPr+JV51MJM+02ey6VKD4L7Fj1/Ea/iVzX8Rr+JrmHtqZY9fxOR6FV8M65cN7R8Tek3cVs1WUumoy0vT0xHi0xsCWY9N1sSyxkRG9+XvclyOldfxOX7CxTwAtaqX1ScSa1bEvV3XfU4iwqjLsiRlhOemz3tVcl7ckOijNtPDH+hF3hZoxlTU2knj/u6Oj5o3Po73Rcdasebi1yuTlckparTctRKxOsRseo01jkSDHeqI1H5++RImSbaNR3bnmahr+Jzp0b3Mhxr4qtuUyZpdk1OtpMW3KRZZ0szd7liRosGC5GrDhPio5Wpsoi9qp2KbRr+J51Z4TaR02GzOdni3/m3p+T6VwLHr+I1/Ermv4jX8TzzDr1Msev4kLITuV21d2ffJySfzRzza/iRUnO5XLU3Z98rKJ/GKMwyrJgmXjX8Rr+JXNfxGv4jMMamWPX8Rr+JXNfxGv4jMGpn4xDxDhWNbj6nDllnajMxWSVLkWL7+cnIi7MKEnDPtcv9VqOVexCl9Gmt3nN2ZW4d/3G+tVqUueqS0eZVzthNiKmUOE1VXZht7mtTuRCHvqz8S61iHTL1ta67ZgS1IknwJKRrNImJtsCYiL+lmGrCmISbasRrEVUXZTay/WUhejXGvqXgXetzVagzUotz1NEZIU+NAiarfJvH7T4z03a/wBVuW0nwuce+nHLeD2kY6FR2yKlFpbUujD3ben/AD+rOjNfxGv4lc1/Ea/ieGYSeplj1/Ea/iVzX8Rr+IzBqZfMP5nfYnWm3PumppfqUwdKnKmFUzvsVrVbn3R5tfqUc6rJq7npUm+Pkj51yup5dthH4F95AAEgVUAAAAzucxGvSZu2v21aOHEKrQbejS8vMTcxWmSm3Fiy8OPk1iw3LkjYrUzVU7c+z4V+nhbjD/wep/8AiiH7AA0AGf8AhbjD/wAHqf8A4oh+wHhbjD/wep/+KIfsAC8z02yQkZifiMe9ktCfGc1mW05GoqqiZqiZ9nwqhUcL8WLcxSokCoU2DM02orKwJubpE+1GTcqyMxHw3K1FVHw3IubYjFVjkzyXNFRIup3FjHPU2bkWYQ05rpiBEhI5boh5Irmqmf8A6HE/NPwihzFiWdJz0ytHvC1aLKyMpWqeqOiysVkFjYjM3IiRoDnM99Cemy9ERckcjXIBpYKJaV/1RKsyyMSadL0e5V21lIsFy6Csw29qxZR7u1HIna+A5d4ztX37Moi3sAAAAAAAGGYwRN3fa8aZL/aRjczAcbou7vtvb30yX+0jENfstGxt8UcF5PCg3xRV9SvjGpXxkXqeI1PEpOsFczCU1K+MalfGRep4jU8RrAzD6V2jUC6abEo1zUOn1enxst5KT8syYgvy7s2PRWr9B+qJSqJbVNg0a3KPI0qQl0yhSslLsgQYaeJrGIjU/wCiHx1PEaniZ1l4YY7DObswJTUr4xqV8ZF6niNTxMawYzCU1K+MalfGRep4jU8RrAzC7Ybxd5iDQk/5kx92inQhzdhXF3mI1DTPudMfdoh0iXLk9LTsrfxP7IsF1vGi3x8kAATpJAAAGAW1atnR7cpUeYtilRIsSSgPe98oxXOcsNqqqrl2qqkj4IWR5p0j1OH+BFW3O7Nu0pufdJQE/wC20kdfxLdKm8WV5Sjh0H08ELI806R6nD/AeCFkeadI9Th/gfPX8Rr+JjLkZ0o9R9PBCyPNOkepw/wHghZHmnSPU4f4Hz1/Ejp287dplWkKDUrgpspU6rt6CSjzUOHHm9hM37qGqo6Jsp2rsouSd4y2uljGPUSvghZHmnSPU4f4DwQsjzTpHqcP8D56/iNfxGXIaUeo+nghZHmnSPU4f4DwQsjzTpHqcP8AA+ev4jX8RlyGlHqPp4IWR5p0j1OH+BccIpSRkZCvytOlIMrLsrK7MKCxGMb/AEWX7kTsKVr+JdMH4m9p9ff46y77rLnFeEHGg2+B02Rp1VgX4AFfJcAAAgr8oE1ddj3Fa8lHhQZisUmbkIMSLnsMfFguY1zsu3JFcirkVSmzOP0hTpWRWysP3rLwWQlcl1TvbstRM/8A+v4GkAAz/wB1MffMfD//ABVO/wDjh7qY++Y+H/8Aiqd/8caAADP/AHUx98x8P/8AFU7/AOOPPL3vidS7xtu3bzs+15WTuKYmZVkzS67MTUWFEhS0SOmcOJKQkVqpCVM9rNM07FNIKDijYV03rULWmbXumHb76NPzEeanUgJFmGwIspFgOSXa5FYkX9L2Ofmje/ZdlsqB9buxCnpetJYtgUqHW7oe1r46RHK2SpEJyZtjzkRO1uadrILf0kT4Ea3N7fdYuH0lZjqlVI9RmKvcFeiQ49Yq0zk2JNxGN2WNaxPewoTEVUZDb2NRVzVzlc5ZG0rQoNkUWHQrdk1gy7XuixYkSI6LGmIzu18aNEcquixHL2ue5VVSaAAAAAAAOG7knN3dVwsz7q3UfvUQj9fx/ifC8nzDL0uNGwomS1qfVF2V7UWZiKikPvpnyMX0FKTVqJVJfNn6CsVWyatTxqR/2r/7LqXEn9fx/iNfx/iQG+mfIxfQUb6Z8jF9BTTNOnNsm9j9S9Sf1/H+I1/H+JAb6Z8jF9BRvpnyMX0FGaM2yb2P1L1J/X8f4jX8f4kBvpnyMX0FG+mfIxfQUZozbJvY/UvUn9fx/iNfx/iQG+mfIxfQUb6Z8jF9BRmjNsm9j9S9Sf1/H+JHSs7lXZ92ffAl0/jEPDvpnyMX0FPLBWcbU5qMsvGRr4UJqO2FyVUV+f8AmgzEYdayJr/Vj9S9S06/j/Ea/j/EgN9M+Ri+go30z5GL6CjNM5tk3sfqXqT+v4/xGv4/xIDfTPkYvoKN9M+Ri+gozRm2Tex+pepP6/j/ABGv4/xIDfTPkYvoKN9M+Ri+gozRm2Tex+pepP6/j/Ea/j/EgN9M+Ri+go30z5GL6CjNGbZN7H6l6k/r+P8AEa/j/EgN9M+Ri+go30z5GL6CjNGbZN7H6l6mpYKTO+xetduf9rNr9TjnYJxZgAseJjJbSuhREa104qqrVyT+iRjtMsl0S0qDfHyR8m5cypyvKOVJNaC6Hj75AAEqU0AAAzJ9CxYty+LrrdpUW0qpTbjmZWbYtRrUzJx4LocpCgOYrIcpFaqZwtpHbX9bLJMs19vupj75j4f/AOKp3/xxoAAM/wDdTH3zHw//AMVTv/jh7qY++Y+H/wDiqd/8caAADOJ6vY9SMlMT0SxLBc2XhPiual1Tuao1FXJP/p/AlIGJ9ElcNqJiLcecjDrNPk5qFJwUdHjRY8xCa9ktBY1NqNEVVya1rc1yzyRM8rTVZWJPUuckoStR8xLxITVcvYiuaqJnw7TO8JcHY1lU+j1G9a4lx3NS6XApkvMbCslKbAZCbDWFJwl/URyN9/FX9JE+FUbssaB+6VaNfxEqlMvXE6RfTZalzLJ+h2w2MjklIzUXYmZx7FVIswma7LGqsKEvcsRyI9NLAAAAAAAABkd70WhVTEKedWKRJzqspclsLMQWxNnOJMZ5Zp2Z5J9BrhkV9zG4xCne3vpcl9pMkhdq0q2HA5Lbgqe3rI7wQsjzTpHqcP8AAeCFkeadI9Th/gfPX8Rr+JO5ciK0o9R9PBCyPNOkepw/wHghZHmnSPU4f4Hz1/Ea/iMuQ0o9R9PBCyPNOkepw/wHghZHmnSPU4f4EXXrxt+1aZFrVz16nUenwMt7Nz80yXgsz+M96o1P+qn7ot10W46bBrNvVmRqlPmE2oM1JTDI8GInja9iq1f+imNB44YmcV04Ej4IWR5p0j1OH+A8ELI806R6nD/A+ev4jX8TOXIxpR6j6eCFkeadI9Th/gPBCyPNOkepw/wPnr+I1/EZchpR6j2UChW7TL5tmNSaHIScV03MNWJAl2McrdHH7M0TPI2Yxa3ZnfX1bLc+6bmF+pxzaSEvSOjVin1ebJOwtOm8OvyQABGnaAAAcv0Kd2aHTm7XdKQU/kQ92vTxlUpM5s0qSbn3S8NP5UPXruJ9CySpZhYNenjGvTxlf13Ea7iYyRmlg16eM5OxIhVjEavYh4zUCG+NN4WTMnK2ujURd7GkXaiobCr5TbdAXu/U/wCpvl1VetyVtVSbtqmuqNWhSkV0jKNiMhrGj7K7Ddp7mtTN2Xaqohi9h9ErBqBZ9LTEPDii1m6I0BI9Zn5hiviR5yIu3Fcqo7JffuciZfAhzWizzqNQiuPV8vc/n/Q9qVaME5SZ0Tat40y77apV1UeYbFkavJwpyXe1c0VkRqOT/MlNenjMN6P9t3Vhxb1Yw9rcg+HR6JV5htuTSzEKIkemRF3kNqNa5XM3audDyeiLk1Ms07TUtdxPalTcoJyWDPOc1GTSewsGvTxjXp4yv67iNdxN8k1zSwa9PGaZghE3tErb/HWX/dpcxPXcTZMAX7y2aw/x1mJ93gEXfFPQsrfFHdd09Kv/AEZpwAKkT4AAAAAAAAAAAAAAAAAAAABjEqsJr51u7Z2VGdT9X/3MQ++3C+Iz0SKSPsTVQbn3VKd+8xD96niV5VsNhCOeDJLbhfEZ6I24XxGeiRup4jU8RnmMwktuF8RnojbhfEZ6JG6niUa88dsMbBqyUC4rlctW3SR3U6nSEzUZuHCXuiPgSsOJEYxfjOaidi9plVnJ4Iypt7EaXtwviM9EbcL4jPRKlZ1/WniBQ4VyWZX5Or02K50NI8s/NGvauTmOTvY9q9itciKi96ITep4h18HgzDnhsZJbcL4jPRG3C+Iz0SN1PEaniYzxmEltwviM9EiZN8PwmqebW5aWUyTLu99GPpqeJGSkfK4qkuffLSv+cU0lX2x+fkzDntRZduF8RnojbhfEZ6JG6niNTxN88zmEltwviM9EbcL4jPRI3U8RqeIzxmEltwviM9EbcL4jPRKTfOJ9l4bU+XqV511khDm4yS8rCbCiR5iai5Z7uDAhNdFiuyRV2WNVckzPrZeIto4h0p9Zs+tQ6hLQozpeMm7fCiwIrctqHFhRGtiQnpmmbXtRe1Ow2znhjhsM6Twx9xcduF8RnojbhfEZ6JG6niNTxNc8xmEltwviM9EbcL4jPRI3U8RqeIzxmEzQ3MW8beRrWp/SY69if+1jGsmN2vF271oDc/7eOv1WKbISVglpwk+PkiRsbxg3x8kAAd51gAAAAAAAAAAAAAAAAAAAAAxHFGY3GIcx25Z0qT+0mDbjAMZo+5xEf299KlPtY5K3NHStOHBnBeL0aOPEjNenjGvTxlf13Ea7iWzJIHNLBr08Y16eMr+u4jXcRkjNIq+7Ptq4KvSr5r9Ln67GtODMx6fSIaQokGLHe1E3iQomTXRkRFaxyvajdt3dnmmddHGuy07fWJsw2jPtKPNVGUjutKYh7qYkm7nZ1cRjU3WcdUVc4LnsXY7XK7NEsF/VXFOj1yk3DYshBuCkQYcWBVqBv4MtMRldksOYgRoqI3bZkqLDc9jXI7PNFQh8OqDd89iPX8Xb2o0GgTFUpsrRpCkNmmTMWBLQXviLEjxIfvFiOe9fesc5rURPfKqqc0qONVaKfTt2cOnHw8j2VX/TeL/zHqNy16eMa9PGV/XcRruJ05J45pYNenjGvTxlf13Ea7iMkZpdbJmd9iDbbc+6YmV+qRjfTm7DWY32JNuNz7o0yv1SMdIlXvyOjaIr4fNk5dj0qTfHyQABDEiAAAcSSE7syMu3PuhMT+CH313Ejqbb15zdPlZuUtOeiQI0FkSE9I0uiOYrUVFyWJn3eM9HgtffmfPft5b2p9AV8Xbh/wAyK87gvRPDJfh6np13Ea7iebwWvvzPnv28t7UeC19+Z89+3lvameeLt3yMcwXpuX4ep6ddxGu4nm8Fr78z579vLe1HgtffmfPft5b2o54u3fIcwXpuX4ep6ddxGu4nm8Fr78z579vLe1HgtffmfPft5b2o54u3fIcwXpuX4ep6ddxGu4nm8Fr78z579vLe1HgtffmfPft5b2o54u3fIcwXpuX4ep6ddxN96OMTeWdVX+OsxPsIBzz4LX35nz37eW9qdBdGqDOytnViUqUlElJmBW4jYkKI5jlTOWl3J2sVU7lT4SKvm8LHabNl0KilLFbDssV1W6yVc2vTcY4dOw1sAFTJYAAAAAAAAAAAAAAAAAAAAA56mI+xUak3PuqU794iH51PE8NSj7NYqrc+6pTn27z4aniUedfCTRWZzwkyV1PEaniRWp4jU8TTWDXTJOLNuZCe9qZq1qqieNTFeiQ2FNYXx74nESLXbsrNRqNXmnom9iRUmYkNjHL35Q2MaxqfAjTV9TxMbkbCxXwwq1ZTCCdtWpW3Wp6LU20WvRI8otNmoztqMsCPAhxNqE96q/duhoqOV2Tsl7PanaFKLjjg9hvConFxxNRtuwretO7Lku+iLMwJi6okCPUJZHtSWWPCZsb5rERMojm5I5yqueyniLRqeJk2GVg3Hb1drt+3/cUtVrpuNIMKMkjCfCkZGVhIu7l4DHuVyoiucrnu7XKvciIiGianiaVLR/F04mJT29OJK6niNTxIrU8RqeJprBrpkrqeJHSsxlXZ9c/7CX/ziHz1PE8MvMf/AFicXPvgwP8AOIYdfFoxplj1PEaniRWp4jU8TOsGdMldTxGp4kVqeI1PEawNM8NxW/TZmqS18y1vQanctDk5mDSd/NvgsasVE22Z++azaVjUV+w5UTPL4UXKcBKzVomK2JcK/wCmNoV7VB8hPTFIlnJFk209sN0KBGgTCLnMK5WvR7nMhuRURuwiIirZ8QaFiRMV2j3fhrc0nCm6bCjS03RKtGjNptRgxMlRXLC2lhRmK33sRGP7FcipkvZ5MO7GumQvGt4n4iVOmR7jrUpL02HKUreLJ0+Sguc5sJj4mT4r3Pe5zoitZn2IjURDojaIqm8X0r+vT0eZ6qolB4v/ADE13U8RqeJFaniNTxOfWDy0yV1PEaniRWp4jU8RrA0y12XF3l9UFufdGmF+rRTcTAcPou8v+hJn/aTH3aKb8WS5padCT4+SJm7njSb4+SAAJc7wAAAAAAAAAAAAAAAAAAAAAc34+x9xiKnb30mW+1jnSBzP0gafXariWsKiUSZntPSJVYqw3wmo3aix9n9d7c+5e7xEpc9oo2a1KdeWjHB7Wctsste2UnTs8dKXUih67iNdxPN4LX35nz37eW9qPBa+/M+e/by3tS288XbvkQ/MF6bl+HqenXcRruJ5vBa+/M+e/by3tR4LX35nz37eW9qOeLt3yHMF6bl+HqenXcRruJ5vBa+/M+e/by3tR4LX35nz37eW9qOeLt3yHMF6bl+HqenXcRruJ5vBa+/M+e/by3tR4LX35nz37eW9qOeLt3yHMF6bl+HqenXcRruJ5vBa+/M+e/by3tR4LX35nz37eW9qOeLt3yHMF6bl+HqXfCCZ32KFvNz7nzS/VYp1Mco4PUm5KXipbcSs0CakoMWJNQ2xIkWC5FdpIy5ZMeq9zV+A6uKrfVpoWq0KdCSksEtnXiyWsVjtFipZdpi4tvHb1f4gACIOwAAA5rtGe2bTordrup0sn/aaS2v5ilWzO7Nt0lu13SMBP+20ktfzFfVTYfVZ2TGTZY9fzDX8xXNfzDX8xnMNdU4Fj1/MNfzFai1LdQnxO/Yarsv7jCbV6QOOV5W7AvGgdHqmTVGmd4+C5l6sbMxIbHuaqpCfKtTaXZXJqvROJtGTltR41KcKTUZY4vqTfRh1JnTev5hr+YzvD/EalYjWfTbzo0OYgStShK9IMwxGxYL2uVr4b0RVTaa5rmrkqp2Fh1/Mauo08GekbNGcVKPQyx6/mGv5iua/mGv5hmG2qcCx6/mLtgjE3tPuZ/jrzvucqZNr+Y1DAGJvaHcb/HXn/dJY6bJPSqoh79oZVik+K+5qIAJYogAAAAAAAAAAAAAAAAAAAABy3W4+xX6u3Puqc59u88ep4l6q+C97ztYqE9LRaTuZqcjzENHzL0cjXxHORFRIaoi5L41PL1HX95WjetxPZFArXfbnUk403hiysVLLaHNtQZT9TxGp4lw6jr+8rRvW4nsh1HX95WjetxPZHnzdb92zTVLT2GU/U8RqeJcOo6/vK0b1uJ7IdR1/eVo3rcT2Q5ut+7Y1S09hlP1PEaniXDqOv7ytG9bieyHUdf3laN63E9kObrfu2NUtPYZT9TxGp4lw6jr+8rRvW4nsh1HX95WjetxPZDm637tjVLT2GU/U8TyQI+VUmlz74UFP4vL31HX95WjetxPZHxh4E3+2aixt7RsntY1P6XE+DP8A5fEc3W7dsapaewyq6niNTxLh1HX95WjetxPZDqOv7ytG9bieyHN1v3bGqWnsMp+p4jU8S4dR1/eVo3rcT2Q6jr+8rRvW4nshzdb92xqlp7DKfqeI1PEuHUdf3laN63E9kOo6/vK0b1uJ7Ic3W/dsapaewyn6niNTxLh1HX95WjetxPZDqOv7ytG9bieyHN1v3bGqWnsMp+p4jU8S4dR1/eVo3rcT2Q6jr+8rRvW4nshzdb92xqlp7DPJhjF28RKGmf8AXmPu0U6LMdsPCe7rdu+nVyqRaYstKLFV6QZh73rtQnsTJFYid7k+E2ItdyUatCzuNaODxf2RN3dTnSpNVFg8fQAAmDvAAAAAAAAAAAAAAAAAAAAABiuIExuMT6j299Gp/wBrNm1GB4rzG4xQnO3Lao0h9rNHJbHhTx4k7yehmWtx4P7o/Ov5hr+Yrmv5hr+Yi8wu2qcCx6/mGv5iua/mGv5hmDVOBY9fzDX8xVKjcEjSKfM1WpzcOWlJOE6PHjRHZNhw2pm5yr4kRCl4NYzSmMdqzV2yFFmqXLQqpN0+DCmlXexGQX7LYrmq1FZtJkuyueXjM6baxNHQgpqm+l+Rr+v5hr+Yrmv5hr+YxmG+qcCx6/mGv5iua/mGv5hmDVOBardmd9iHaLM+6dml+ozBu5zlY8zvsS7Tbn3Tc0v1GYOjSTsL0qbfHyRTeUlPLtMI/CvvIAA7CvAAAHFtAntmhU1u13SkFP5EPdr+ZCo0ie2aTJNzTsl4afyoevX8UKjmH3vVMduBY9fzINfzIVzX8UGv4oYzBqfAn5mf/o0X339R3+RzHgnYOK9dwcpUa3ukLWbfk5uFMpLyEKhU6NDlkWNETJIjoW9VM+3PbR3b2Khvb51IjHQ1dkjkVFyMhpOAEKhU9lGo+NWJknTIav2JKBU5SHDY1zlcrWq2WR7UzVe1HIvE96ddKLTeHR7sSPtl2zqVIyUW0k1slo9OHFdTLh0a7jhzeGEGitpcrIRbaqE5Qphsq974MaNLxla+Mxz3Oeu2vvl2nOVFVUVVNT1/MhQrOt23rCt6Vte15LSyEptK1qvc973uVXPe97lVz3ucqqrlVVVVUmtfxQ86lZSk2jqs1glSoxhPpSRY9fzINfzIVzX8UGv4oaZh7anwLHr+ZDaujhE3tsV9/jr0T7rLHOWv4odC9GCJvbMrj/HXov3aWO+7p6VfDgVjldQyrtb+JGxAAsB8rAAAAAAAAAAAAAAAAAAAAAAAAAAAAAAAAAAAAAAAAAAAAAAAAAAAAAAAAAAAAAAAAAAAAAAAAAAAAAAAAABzjjfMbjFGP25Z0WS+2mTo45e6Q0xuMUnJn+tRZP7aZOC8XhQx4os/JGGZeSj8LK5r+ZBr+ZCua/ig1/FCv5h9U1PgWPX8yDX8yFc1/FBr+KDMGp8DNsbMQqVGu+j4d3NK12FbLYbKtWY8lQp+eZPbL/0Mkiy0F6I1XN24map71rW9u2o6M2INv1+Wu+m0lai2Kl0VOfRJmkzUqzcxIybOTosNrdrxsz22/CiGk6/ihB2pQKbZ8Coy9MmJmI2p1KZqsZY7muVsWM7aejdlqZNRe5FzXip7Z8dDRODmusrSquKa2+7bwWOPl1l/1/Mg1/MhXNfxQa/ih45h36nwLHr+ZBr+ZCua/ig1/FBmDU+BomGUzvsU7UbnnlMTa/Uo51GcjYOTO+xctdufdGm1+pxzrknrselRb4+SPmXLOnl2+EfgX3kAASJUQAAD+d1PnVbIyzdrugsT+CH316/GNcpOB9nzVKkpp85UmOjS8OIrWxW5IqtRckzb3Hr6iLN+X1T9qz8pTlZa0tqXifV4/wDUi5sF/p1Ppj+ZjGvX4w16/GNn6iLN+X1T9qz8o6iLN+X1T9qz8o1Sv1eJt+pFy7up9MfzMY16/GGvX4xs/URZvy+qftWflHURZvy+qftWflGqV+rxH6kXLu6n0x/MxjXr8Ya9fjGz9RFm/L6p+1Z+UdRFm/L6p+1Z+UapX6vEfqRcu7qfTH8zGNevxhr1+MbP1EWb8vqn7Vn5R1EWb8vqn7Vn5Rqlfq8R+pFy7up9MfzMY16/GOn+ifE3lg1h/jr0b7tLlH6iLN+X1T9qz8prWBVt0+1berFIpjozoDKw9+1FcjnKqy8DPuRDvu2hUpV059TIHlFyxu6+7HqllhNSxT/iUUsF8pP7GkgAsRRAAAAAAAAAAAAAAAAAAAAAAAAAAAAAAAAAAAAAAAAAAAAAAAAAAAAAAAAAAAAAAAAAAAAAAAAAAAAAAAAAAcmdJ6PuMVGduWdElPtpg6zMJxcw6od54gxpurTE1DfApcqxm4ejferEj9i5ovw5/SR95xlOhox6W0TfJ+97PcluVrtKbik1/Dg3t+bX3Oa9evxhr1+MbP1EWb8vqn7Vn5R1EWb8vqn7Vn5SvapX6vEv36kXLu6n0x/MxjXr8Ya9fjGz9RFm/L6p+1Z+UdRFm/L6p+1Z+UapX6vEfqRcu7qfTH8zGNevxhr1+MbP1EWb8vqn7Vn5R1EWb8vqn7Vn5Rqlfq8R+pFy7up9MfzMY16/GGvX4xs/URZvy+qftWflHURZvy+qftWflGqV+rxH6kXLu6n0x/MxjXr8Ya9fjGz9RFm/L6p+1Z+UdRFm/L6p+1Z+UapX6vEfqRcu7qfTH8yqYDTO+xjthufc+cX6nGOzjnnD3C+3LSxDt6rU2YnYsdI0xDRI0RqtRFlY2fYiIdDE/dUJU6LjLpx8kUXlJfdmv62K02WMlFRUf4kk8U2/c3s29YABJEAAAAYNQpjKiU9M+6VhJ/Ih7tTzFfo8xlSJFM+6Whf6UPZqeJVY18Ior6nsJTU8w1PMRep4jU8TbWDOYSmp5hqeYrVx3LJ2xb9SuOoOVJWlykacjZd+xDYrl/ghimH9lXZjHZ1PxLxFxLvSl1C4oDalIUu36zEpkrSJeIm1BhbEHLUPRitVzoyxGq7PJqJkhvGritJvYbKWKxbOkNTzDU8xmeEi4l0635qh4oTEOfnqXPxpWSq6LCa+qSSKiwZiIyH2Q4iouy5Mm5q3NETPIvGp4mrr4PDE1c8HgSmp5hqeYi9TxGp4mNYGYSmp5i6YUu26dWXeOqu+7wDN9TxNCwfdt0eru/8AlXfd4B12Grp10vn9jpsktKqi+gAnSWAAAAAAAAAAAAAAAAAAAAAAAAAAAAAAAAAAAAAAAAAAAAAAAAAAAAAAAAAAAAAAAAAAAAAAAAAAAAAAAAABld8xd3fEz25Z02U+0jmqGQYjxd3fMbjTZX7SOcF4S0KSfH1OS2PCnjxPHqeYanmIvU8RqeJDawReYSmp5hqeYi9TxGp4jWBmEpqeYanmMnxVoNyXLM0xsTECLadlSEKYm7gmJGoOkZ6PstTdsSZRP0MFPfue9r2O961EXLMrfR1u6crk5eMhR7tn7tsilz8GDbtdno6zMSYzhZzEJsyqZzMOG/JEiqrl7VRXO2TdVMY6SZsnjHSxN81PMNTzEXqeI1PE01g1zCU1PMNTzEXqeI1PEawMwsFuRt5elvpn/vEdfqsY18xOz4u8vmgJn/bx/usU2wl7tlp05Pj5Ik7C8abfHyQABInYAAAcxUuYypsonigQ/wDSh6dTxIOQmNmRlkz7oTP8kPRqeJ88z8Cp6ZKaniNTxIvU8RqeIzzGmfm7qRBuy1axa8xE2IdXkI8i53xUiQ1Zn/0zMVwux8szDWw6Vh5jHVUtK6LXlYdJmJWfl4kNs8kFqMZHk1RFSYZEa1HIkNXOTNUVEVDbNTxGp4npC1JR0ZLFfP8A/p6RqpLRkVrCe+rtv2mVO5bgtp1DpcxPvbQIEzAiQZyNINREbHmIb1zhue7aVrcmqjdnNM1LzqeJF6niNTxNZWlSeK2GsqibxRKaniNTxIvU8RqeJrnmumSmp4mp4LO26BVXf/Kv+wgmManibDgY7btqpu/+VifYQSVuarp2pLgzvu6WNb+ho4ALcTwAAAAAAAAAAAAAAAAAAAAAAAAAAAAAAAAAAAAAAAAAAAAAAAAAAAAAAAAAAAAAAAAAAAAAAAAAAAAAAAAAMWxUi7u+n8abLfaRjaTC8Yom7vteNNl/tIxE3zLRsuPFHDeLwo48Sv6niNTxIvU8RqeJUs8gNMlNTxGp4kXqeI1PEZ40yqYj4uUrDqsUqUvSjPhWnVoMaHNV9+1ElZGYblsQphiMXYZEarsornI1FbkvehRsFYtHreM18X5hvJLLWLU6dIy+ogwHQJOp1RjoixZmAxURHokNWMdFb2OVO9dnM2TU8RqeJ6q1xjBxS2vj5HoqyUcESmp4jU8SL1PEanieWeeemSmp4jU8SL1PEaniM8aZb7Djbd+0Fv8AzZj7tFN5OecNo23iFQ25/wBpML9WinQxarjlp2eT+LyROXY8aL+fkgACZJEAAA4tlbpoDJaCx1dp6K1jUVFmWdnZ/efXwrt/5+p/rTPxL9Z8aClpURFhMVUp0t3tTyTSX38DyUP0UKTzNF7czwJOXImgpNZkvAyrwrt/5+p/rTPxHhXb/wA/U/1pn4mq7+B5KH6KDfwPJQ/RQcyx3nh/c19iqG8l4ehlXhXb/wA/U/1pn4jwrt/5+p/rTPxNV38DyUP0UG/geSh+ig5ljvPD+49iqG8l4ehlXhXb/wA/U/1pn4jwrt/5+p/rTPxNV38DyUP0UG/geSh+ig5ljvPD+49iqG8l4ehlXhXb/wA/U/1pn4jwrt/5+p/rTPxNV38DyUP0UG/geSh+ig5ljvPD+49iqG8l4ehlXhXb/wA/U/1pn4m99HmelKhZ9RmJKagzEP3WiN2oT0eme5g9maFZ38DyUP0ULlgo9HyNzORERPd53d//AI5Ukbru5WW0KaljsfuNKvJmldkHaITba2bcPeaMACynCAAAAAAAAAAAAAAAAAAAAAAAAAAAAAAAAAAAAAAAAAAAAAAAAAAAAAAAAAAAAAAAAAAAAAAAAAAAAAAAAADnbHqtUum3+yFO1OVl3upcuqNixmsXLeRvgVTokxe/Hw4eJ9S22NXOj05e1M/7WbI69KCtNny28NqPez3bG9ZOhNtLDHYY14V2/wDP1P8AWmfiPCu3/n6n+tM/E1XfwPJQ/RQb+B5KH6KFa5ljvPD+51exVDeS8PQyrwrt/wCfqf60z8R4V2/8/U/1pn4mq7+B5KH6KDfwPJQ/RQcyx3nh/cexVDeS8PQyrwrt/wCfqf60z8R4V2/8/U/1pn4mq7+B5KH6KDfwPJQ/RQcyx3nh/cexVDeS8PQyrwrt/wCfqf60z8R4V2/8/U/1pn4mq7+B5KH6KDfwPJQ/RQcyx3nh/cexVDeS8PQyrwrt/wCfqf60z8R4V2/8/U/1pn4mq7+B5KH6KDfwPJQ/RQcyx3nh/cexVDeS8PQrOENepE/iZQpeUqsnHiq6ZVGQ47XOX+jRe5EU6eMMoEWG/EG0WsY1v9OmV7Ey/wBxmTcyxXRZlZaDpp47fJHNabqhdDVGEm01jt+bXkAAShzgAAHKlrTuzbNIbtd0hLp/22knr+YplvT2zQKY3Puk4KfyISGv4laVQ+xysmLLHr+Ya/mK5r+I1/EZhjU+BYnVFrGq9z8kamarwMfh9MbASI1YrbuqaQGuc10y62aq2XbsrkqrGWW3aNRUX321lxLzMz/9Gi9v9m7/ACOYcFL7x3puC9LkLSwUotbkIUGabKTca7GwHzCLGidqy7pfJO3NNlYnb8ZD1ptSTb+6X3OG1QnRnGEfem/9rl0Ye5fM67pVyUyu02VrNGqMvPSM7CbGl5mBER8OLDcmaOa5OxUVD16/mMK6M1RorMG6JT6NNzMX3OfMSk7DmJdIESXnGxnrHgrDRzkZsPVzURHOTJE7VNS1/E0nPRk0dNCz51KNTDpSZY9fzDX8xXNfxGv4muYeup8Cx6/mNJwFib2jXG/x15/3SVMT1/E2To6RN7bdwP8AHXon3SWOuwz0q2BA8o6GVYG+KNXABNHzsAAAAAAAAAAAAAAAAAAAAAAAAAAAAAAAAAAAAAAAAAAAAAAAAAAAAAAAAAAAAAAAAAAAAAAAAAAAAAAAAAGD4ozG4xQne3LOjSH2s0bwc640zG4xRmO3vosj9tMnHbnhSx4lh5MwzLdo8H5Hh1/MNfzFc1/Ea/iQ2YfQdT4Fj1/MNfzFc1/Ea/iMwanwLHr0+Mn0kLaeIVr3zIzNTtOswalKSc7Hp8aNCRyMSYgu2YjEVUTayXszTNF+BVMxxRuip1ickcKLUnYkvVrgY6JPzcL9am0tqokaNn8ER+e7h8zld3MUh+jPI0u2LSuS36JKMlJCQu6rQJeDDTJsOG2KiIifQemP8Gkzly266pRWzbi+OzZ6nQGv5hr+Yrmv4jX8TzzDq1PgWPX8w1/MVzX8Rr+IzBqfAulmzO+xJtJufdNzS/UZg6HOYsN5rfYo2ozPumZtfqUwdOkvd70qbfHyRQ+VVPLtkI/AvvIAA7isgAAHCtGndmjyLc+6WhJ/Kh7NfzFUps9s0+Vbtd0FifyoejX8xS3UP0SrJisSx6/mGv5iua/mGv5hmGdULBFnFiQnw0d2uaqJn/cYdYdD6StgWpJ2XSpPDOLKSG9ZBm49Tn3RNl0Rzkc6Gku1FVNruRyd3f8ACajr+Ya/mN42jRWGGJz1rrVaSni01itnHD0PBhPZr8N7UWjTlXWqVKdnZmqVKdSFu2xpqO9XxFazNdliKqI1M1yRE7S5a/mK5r+Ya/mNZVnJ4s9aV3xowVOC2Isev5hr+Yrmv5hr+YxmG+qFj1/Mb90ZIm9s+uP8dei/dZY5e1/MdMdFOJvbErL/AB16L92lyRuuelXw4MqXLShlXW38SNpABYz5EAAAAAAAAAAAAAAAAAAAAAAAAAAAAAAAAAAAAAAAAAAAAAAAAAAAAAAAAAAAAAAAAAAAAAAAAAAAAAAAAADmPpATG4xSf25bVFk/tpk6cOUekxMbjFRvblnRJT7aYI+83hZ2+KLXyMhmXqo/Cyn6/mGv5iua/mGv5it5h9f1Qsev5hr+Yrmv5hr+YZg1Q8N2YWYV33VErd52BQq1PthNgJMzskyLESG1VVG7TkzyRXL2cVIPBnCO3cJlrszT6BRJKcqlTmosKNT4WyqSLom1BguXZb+on9VM0T4FUtWv5hr+Y31iWjo47Dn5pouqq2gtJe/DrLHr+Ya/mK5r+Ya/mNMw6NULHr+Ya/mK5r+Ya/mGYNUNOwhmd9izazc+6NNr9SjnWZxtgZM77GG2G555RJxfqcY7JLDdT0qDfHyR8n5c08u8Yx+BfeQABJlNAAAOEKPhJfM/SJGelolHSDMy0KND25uIjtlzUVM0SEuS5L4z19TOIHlaJ65E9kaZaM7s2pRW591Plk/7bSW1/ErSstB7Wj7JK+7xi9FSWC4Ix3qZxA8rRPXInsh1M4geVonrkT2RsWv4jX8RqlDqMc+3l2l3Ix3qZxA8rRPXInsh1M4geVonrkT2RsWv4jX8RqlDqHPt5dpdyMd6mcQPK0T1yJ7IdTOIHlaJ65E9kbFr+I1/EapQ6hz7eXaXcjHepnEDytE9cieyHUziB5WieuRPZGxa/iNfxGqUOoc+3l2l3Ix3qZxA8rRPXInsjoPow0aoW/Z1cpFUWAszAr0TbWA9Xs7ZWWVMlVrV+HxFe1/EvOB8Te025X+OvO+5yp12KhTp1sYEDykvK12ywOFdprFPoS2mkgAmj50AAAAAAAAAAAAAAAAAAAAAAAAAAAAAAAAAAAAAAAAAAAAAAAAAAAAAAAAAAAAAAAAAAAAAAAAAAAAAAAAADl/pB2Xcd34pxHUTQtbKUaTR6zMdzM9qLMZKmyx3iXxHUBieIUxuMT6h299Gp/2s2cduhGpS0ZdGJYeTNoq2a3ZtH/covyMH6mcQPK0T1yJ7IdTOIHlaJ65E9kbFr+I1/EhtUodR9C59vLtLuRjvUziB5WieuRPZDqZxA8rRPXInsjYtfxGv4jVKHUOfby7S7kY71M4geVonrkT2Q6mcQPK0T1yJ7I2LX8Rr+I1Sh1Dn28u0u5GO9TOIHlaJ65E9kOpnEDytE9cieyNi1/Ea/iNUodQ59vLtLuRjvUziB5WieuRPZDqZxA8rRPXInsjYtfxGv4jVKHUOfby7S7kUrB7D+6LVxataoVp9NWDEjTcJEl5h73bSyUdc8lhtTLs8Z1uYLbUzvsRLRZn3Ts0v1GYN6Je74Rp03GHRj5IoXKq01rXbIVK7xloLh75AAHcVkAAA5Itmd2bcpTdrukoCf9tpJa/mKbQZ7ZodObn3SkFP5EPfr+Yq+YfanZMXiWPX8w1/MVzX8w1/MMwxqZYI1SWHBiRGr2tarkz/ALjn+wr/AOlTiBZspflJn8KmSk8kWLBkI9LqMOKrWRHNRroqTLmtVdn9bYVO3uNbmZ/+jRfff2bv8jmTBXBGjXfg9Sp+bxGxGpy1GFM7cvTrrmoErCRY0RMmQNpYaN5dlUXtzQ9qdSOi2+BwWqy1HVhCmvc304dGj6nS+FWJPWVYNJvN9OdTos/DckeVWJvEgxWPcyI1H5JtN2mrkuSZpkWzX8xg3RoumbqmGLKfMrKRIVv1OdocpNSkuyBBm5eWjLDhxWsYiMaqomS7KI3NFVDVtfzGlSejJo6LLZ3WoQm9uKRY9fzDX8xXNfzDX8xpmHvqZY9fzGp9H+JvaFcT/HXn/dJYwnX8xtvRuiby1q+/x16J91ljtsE9KtgV/lNQyrvb4o1sAE2fNgAAAAAAAAAAAAAAAAAAAAAAAAAAAAAAAAAAAAAAAAAAAAAAAAAAAAAAAAAAAAAAAAAAAAAAAAAAAAAAAAAYDi1MbjFCb7e+jSH2s0b8c3Y5TG4xRjduWdFkvtpk4re8KOPEsfJeGZb9H4X5EXr+Ya/mK5r+Ya/mITMPo2plj1/MNfzFc1/MNfzDMGpkjcd4Uq1KFPXHXJtJeRp0F0ePEXtyaidyJ8Kr3InwqqIUrAjFi4sUrRn7iuegMok3L1qdp7JFM9uDBhPRGJFXaVFiZL77LJM/gQz/ABarV1zt+0KmxsM7muK0aQ1tVje5Ojck5UGu/Qw4iR5iF+jhZbzLJdp6s+Kufw6NN5z1Wl7wk5qzK9SGrdFTm9/PpLbtXPjJnA/RRnrvG/1uzZ8TnHtilT0iO0XK1qntS2roe17NuOHR/fgdHa/mGv5iua/mGv5jxzCR1Msev5hr+Yrmv5hr+YZg1MvFizO+xMtNmf8Avc0v1GYOkDlnC+Z32Klqtz7pibX6lHOpiZu56VJvj5I+fcrKeXbYR+BfeQAB3lXAAAOCaTPbNKkm7XdLw0/lQ9ev5iqyE7syMu3PuhMT+CH31/EpLqbT9IRsmKTLHr+Ya/mK5r+I1/ExmG2plidOte1WOXNHJkv9xlUPo14JQmrDZbdSSC5znLA8IqnuF2lzVFhajY2VVV97llwLnr+I1/E3jXlD/a8Dxq3XRr4ZsFLDrSf3JaiydItylStDoFPlqfT5KGkKXlpeGkOHCYncjWp2Ie3X8xXNfxGv4mubieqsSisEthY9fzDX8xXNfxGv4mMwzqZY9fzHRHReib2y62/x16L92ljlTX8TqLomv3lgVh/jr0b7tLkldU9K0YcGU/lvQyrq0viXmbYACynx0AAAAAAAAAAAAAAAAAAAAAAAAAAAAAAAAAAAAAAAAAAAAAAAAAAAAAAAAAAAAAAAAAAAAAAAAAAAAAAAAAHLnSJmNximvblnRZP7aZOozkrpQzG4xUh9vfRJX7aYI69HhZ2+KLbyKhmXtGPwyKTr+Ya/mK5r+I1/ErOYfZdTLHr+Ya/mK5r+I1/EZg1Msev5iMoVLottQpuDRJTTMnpyNUJhN49+3MRVziP98q5Zr8CZInwIhH6/iNfxM5r6DXUU2m1tLHr+Ya/mK5r+I1/ExmG2plj1/MNfzFc1/Ea/iMwamangzM77Fy12555RZtfqcc67OLsBJnfYyWy3PufOL9TjHaJY7pelQb4+SPkXLunl3nGPwL7yAAJQpQAAB/LtJmYaiNbMREROxER69h/uqmvlMX01AKOz9Ix6ENVNfKYvpqNVNfKYvpqADYaqa+UxfTUaqa+UxfTUAAaqa+UxfTUaqa+UxfTUAAaqa+UxfTUaqa+UxfTUAAaqa+UxfTU7L6GznPwuqLnuVyrXY+aqua/+hAAJK6v+4/oyn8uP/Ff/AKj5m8AAsx8cAAAAAAAAAAAAAAAAAAAAAAAAAAAAAAAAAAAAAAAAAAAAAAAAAAAAAAAAAAAAAAAAAAAAAAAAAAAAAAAAABxf0xYsWFipJ7uI5mdEl89lcs/00cAjr1/7d/NFt5E/+Wj/AOsvsYZqpr5TF9NRqpr5TF9NQCsH2Yaqa+UxfTUaqa+UxfTUAAaqa+UxfTUaqa+UxfTUAAaqa+UxfTUaqa+UxfTUAAaqa+UxfTUaqa+UxfTUAA1LoxRo0TG+3UiRXuREnOxzlX/dIp3iAWS6P+B/P0PkPLz/AMnH/wBF95AAEoUoAAA//9k=)"
   ]
  },
  {
   "cell_type": "markdown",
   "metadata": {
    "id": "ZXzv-vM_PjUY"
   },
   "source": [
    "**Encoding Channel Title**"
   ]
  },
  {
   "cell_type": "code",
   "execution_count": null,
   "metadata": {
    "colab": {
     "base_uri": "https://localhost:8080/",
     "height": 34
    },
    "id": "GEiudrfcOnPX",
    "outputId": "b1d7f1f0-764f-402d-e870-7b5893b0b029"
   },
   "outputs": [
    {
     "data": {
      "text/plain": [
       "6979"
      ]
     },
     "execution_count": 163,
     "metadata": {
      "tags": []
     },
     "output_type": "execute_result"
    }
   ],
   "source": [
    "df['channel_title'].nunique()"
   ]
  },
  {
   "cell_type": "code",
   "execution_count": null,
   "metadata": {
    "colab": {
     "base_uri": "https://localhost:8080/",
     "height": 220
    },
    "id": "fxASHsq8Pnfm",
    "outputId": "ba04334c-ded2-475e-a73f-f7222f825882"
   },
   "outputs": [
    {
     "data": {
      "text/plain": [
       "116     233\n",
       "299     180\n",
       "15      179\n",
       "92      169\n",
       "406     152\n",
       "       ... \n",
       "3832      1\n",
       "5883      1\n",
       "5551      1\n",
       "1453      1\n",
       "4078      1\n",
       "Name: channel_title, Length: 6979, dtype: int64"
      ]
     },
     "execution_count": 164,
     "metadata": {
      "tags": []
     },
     "output_type": "execute_result"
    }
   ],
   "source": [
    "df['channel_title'].value_counts()"
   ]
  },
  {
   "cell_type": "code",
   "execution_count": null,
   "metadata": {
    "colab": {
     "base_uri": "https://localhost:8080/",
     "height": 220
    },
    "id": "TXI-abikddAX",
    "outputId": "4995a067-641b-4ff3-a42a-9d78e2bd7654"
   },
   "outputs": [
    {
     "data": {
      "text/plain": [
       "2018-01-29    282\n",
       "2017-12-13    258\n",
       "2018-01-19    257\n",
       "2017-12-20    255\n",
       "2018-01-12    255\n",
       "             ... \n",
       "2017-10-27      1\n",
       "2013-10-27      1\n",
       "2015-03-29      1\n",
       "2011-02-03      1\n",
       "2013-03-20      1\n",
       "Name: publish_date, Length: 399, dtype: int64"
      ]
     },
     "execution_count": 165,
     "metadata": {
      "tags": []
     },
     "output_type": "execute_result"
    }
   ],
   "source": [
    "\n",
    "df['publish_date'].value_counts()"
   ]
  },
  {
   "cell_type": "code",
   "execution_count": null,
   "metadata": {
    "id": "pcc0dOrGOexO"
   },
   "outputs": [],
   "source": [
    "df['channel_title_num_videos'] = df['channel_title'].map(df['channel_title'].value_counts())\n",
    "df['publish_date_num_videos'] = df['publish_date'].map(df['publish_date'].value_counts())"
   ]
  },
  {
   "cell_type": "code",
   "execution_count": null,
   "metadata": {
    "id": "Qn5vk_MJPFUh"
   },
   "outputs": [],
   "source": [
    "train_proc, test_proc, features = split_df_and_get_features(df, train.shape[0])\n",
    "features = [c for c in df.columns if c not in [ID_COL, TARGET_COL]]\n",
    "cat_num_cols = [c for c in features if c not in ['title', 'tags', 'description', 'publish_date']]"
   ]
  },
  {
   "cell_type": "code",
   "execution_count": null,
   "metadata": {
    "colab": {
     "base_uri": "https://localhost:8080/",
     "height": 220
    },
    "id": "B3Vj0yBdeW1G",
    "outputId": "3155165a-12f7-42c7-fc80-4e412c2901bf"
   },
   "outputs": [
    {
     "data": {
      "text/plain": [
       "['channel_title',\n",
       " 'category_id',\n",
       " 'views',\n",
       " 'dislikes',\n",
       " 'comment_count',\n",
       " 'country_code',\n",
       " 'publish_date_days_since_start',\n",
       " 'publish_date_day_of_week',\n",
       " 'publish_date_year',\n",
       " 'publish_date_month',\n",
       " 'channel_title_num_videos',\n",
       " 'publish_date_num_videos']"
      ]
     },
     "execution_count": 168,
     "metadata": {
      "tags": []
     },
     "output_type": "execute_result"
    }
   ],
   "source": [
    "cat_num_cols"
   ]
  },
  {
   "cell_type": "code",
   "execution_count": null,
   "metadata": {
    "colab": {
     "base_uri": "https://localhost:8080/",
     "height": 1000
    },
    "id": "N2rzCTkpPFVG",
    "outputId": "a3efc355-b401-4203-b5be-e45f2b4b1b55"
   },
   "outputs": [
    {
     "name": "stdout",
     "output_type": "stream",
     "text": [
      "\n",
      "------------- Fold 1 -------------\n",
      "Training until validation scores don't improve for 200 rounds.\n",
      "[300]\tvalid_0's rmse: 0.606433\n",
      "[600]\tvalid_0's rmse: 0.582532\n",
      "[900]\tvalid_0's rmse: 0.570429\n",
      "[1200]\tvalid_0's rmse: 0.564703\n",
      "[1500]\tvalid_0's rmse: 0.560397\n",
      "[1800]\tvalid_0's rmse: 0.558502\n",
      "[2100]\tvalid_0's rmse: 0.557166\n",
      "[2400]\tvalid_0's rmse: 0.556729\n",
      "[2700]\tvalid_0's rmse: 0.555346\n",
      "[3000]\tvalid_0's rmse: 0.554132\n",
      "Early stopping, best iteration is:\n",
      "[3076]\tvalid_0's rmse: 0.553943\n",
      "\n",
      "AV metric score for validation set is 553.9432465904889\n",
      "\n",
      "------------- Fold 2 -------------\n",
      "Training until validation scores don't improve for 200 rounds.\n",
      "[300]\tvalid_0's rmse: 0.613426\n",
      "[600]\tvalid_0's rmse: 0.589525\n",
      "[900]\tvalid_0's rmse: 0.578287\n",
      "[1200]\tvalid_0's rmse: 0.572217\n",
      "[1500]\tvalid_0's rmse: 0.568607\n",
      "[1800]\tvalid_0's rmse: 0.566672\n",
      "[2100]\tvalid_0's rmse: 0.564948\n",
      "[2400]\tvalid_0's rmse: 0.563426\n",
      "[2700]\tvalid_0's rmse: 0.561754\n",
      "Early stopping, best iteration is:\n",
      "[2782]\tvalid_0's rmse: 0.561517\n",
      "\n",
      "AV metric score for validation set is 561.5169492968635\n",
      "\n",
      "------------- Fold 3 -------------\n",
      "Training until validation scores don't improve for 200 rounds.\n",
      "[300]\tvalid_0's rmse: 0.599215\n",
      "[600]\tvalid_0's rmse: 0.578156\n",
      "[900]\tvalid_0's rmse: 0.569867\n",
      "[1200]\tvalid_0's rmse: 0.565043\n",
      "[1500]\tvalid_0's rmse: 0.561228\n",
      "[1800]\tvalid_0's rmse: 0.559161\n",
      "[2100]\tvalid_0's rmse: 0.557574\n",
      "[2400]\tvalid_0's rmse: 0.557554\n",
      "Early stopping, best iteration is:\n",
      "[2290]\tvalid_0's rmse: 0.557213\n",
      "\n",
      "AV metric score for validation set is 557.212687835156\n",
      "\n",
      "------------- Fold 4 -------------\n",
      "Training until validation scores don't improve for 200 rounds.\n",
      "[300]\tvalid_0's rmse: 0.597402\n",
      "[600]\tvalid_0's rmse: 0.572212\n",
      "[900]\tvalid_0's rmse: 0.562833\n",
      "[1200]\tvalid_0's rmse: 0.559364\n",
      "[1500]\tvalid_0's rmse: 0.557419\n",
      "[1800]\tvalid_0's rmse: 0.55411\n",
      "[2100]\tvalid_0's rmse: 0.552804\n",
      "[2400]\tvalid_0's rmse: 0.551717\n",
      "[2700]\tvalid_0's rmse: 0.550785\n",
      "[3000]\tvalid_0's rmse: 0.550086\n",
      "[3300]\tvalid_0's rmse: 0.549913\n",
      "Early stopping, best iteration is:\n",
      "[3202]\tvalid_0's rmse: 0.549714\n",
      "\n",
      "AV metric score for validation set is 549.7141800180075\n",
      "\n",
      "------------- Fold 5 -------------\n",
      "Training until validation scores don't improve for 200 rounds.\n",
      "[300]\tvalid_0's rmse: 0.605007\n",
      "[600]\tvalid_0's rmse: 0.58466\n",
      "[900]\tvalid_0's rmse: 0.575502\n",
      "[1200]\tvalid_0's rmse: 0.572115\n",
      "[1500]\tvalid_0's rmse: 0.568472\n",
      "[1800]\tvalid_0's rmse: 0.566611\n",
      "[2100]\tvalid_0's rmse: 0.565328\n",
      "Early stopping, best iteration is:\n",
      "[2081]\tvalid_0's rmse: 0.564936\n",
      "\n",
      "AV metric score for validation set is 564.9358434793584\n",
      "\n",
      "\n",
      "AV metric for oofs is 557.4904151318665\n"
     ]
    },
    {
     "data": {
      "image/png": "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\n",
      "text/plain": [
       "<Figure size 864x432 with 1 Axes>"
      ]
     },
     "metadata": {
      "tags": []
     },
     "output_type": "display_data"
    }
   ],
   "source": [
    "clf = LGBMRegressor(n_estimators = 5000,\n",
    "                        learning_rate = 0.05,\n",
    "                        colsample_bytree = 0.65,\n",
    "                        metric = 'None',\n",
    "                        )\n",
    "fit_params = {'verbose': 300, 'early_stopping_rounds': 200, 'eval_metric': 'rmse'}\n",
    "\n",
    "lgb_oofs, lgb_preds, fi = run_gradient_boosting(clf, fit_params, train_proc, test_proc, cat_num_cols)"
   ]
  },
  {
   "cell_type": "markdown",
   "metadata": {
    "id": "bW8frRJVP1rO"
   },
   "source": [
    "**Submitting on the Leaderboard**"
   ]
  },
  {
   "cell_type": "code",
   "execution_count": null,
   "metadata": {
    "colab": {
     "base_uri": "https://localhost:8080/",
     "height": 17
    },
    "id": "GQgn3U3SP1rP",
    "outputId": "9746794c-197f-4ff8-b5f9-9ec081be562a"
   },
   "outputs": [
    {
     "data": {
      "application/javascript": [
       "\n",
       "    async function download(id, filename, size) {\n",
       "      if (!google.colab.kernel.accessAllowed) {\n",
       "        return;\n",
       "      }\n",
       "      const div = document.createElement('div');\n",
       "      const label = document.createElement('label');\n",
       "      label.textContent = `Downloading \"${filename}\": `;\n",
       "      div.appendChild(label);\n",
       "      const progress = document.createElement('progress');\n",
       "      progress.max = size;\n",
       "      div.appendChild(progress);\n",
       "      document.body.appendChild(div);\n",
       "\n",
       "      const buffers = [];\n",
       "      let downloaded = 0;\n",
       "\n",
       "      const channel = await google.colab.kernel.comms.open(id);\n",
       "      // Send a message to notify the kernel that we're ready.\n",
       "      channel.send({})\n",
       "\n",
       "      for await (const message of channel.messages) {\n",
       "        // Send a message to notify the kernel that we're ready.\n",
       "        channel.send({})\n",
       "        if (message.buffers) {\n",
       "          for (const buffer of message.buffers) {\n",
       "            buffers.push(buffer);\n",
       "            downloaded += buffer.byteLength;\n",
       "            progress.value = downloaded;\n",
       "          }\n",
       "        }\n",
       "      }\n",
       "      const blob = new Blob(buffers, {type: 'application/binary'});\n",
       "      const a = document.createElement('a');\n",
       "      a.href = window.URL.createObjectURL(blob);\n",
       "      a.download = filename;\n",
       "      div.appendChild(a);\n",
       "      a.click();\n",
       "      div.remove();\n",
       "    }\n",
       "  "
      ],
      "text/plain": [
       "<IPython.core.display.Javascript object>"
      ]
     },
     "metadata": {
      "tags": []
     },
     "output_type": "display_data"
    },
    {
     "data": {
      "application/javascript": [
       "download(\"download_3d7ad384-4724-4540-9f96-aaf312c56a22\", \"hacklive_lgb_fe_num_videos.csv\", 270856)"
      ],
      "text/plain": [
       "<IPython.core.display.Javascript object>"
      ]
     },
     "metadata": {
      "tags": []
     },
     "output_type": "display_data"
    }
   ],
   "source": [
    "lgb_preds_t = np.expm1(lgb_preds)\n",
    "download_preds(lgb_preds_t, file_name = 'hacklive_lgb_fe_num_videos.csv')"
   ]
  },
  {
   "cell_type": "code",
   "execution_count": null,
   "metadata": {
    "id": "bam9kDLfPcXP"
   },
   "outputs": [],
   "source": [
    "df['channel_in_n_countries'] = df.groupby('channel_title')['country_code'].transform('nunique')"
   ]
  },
  {
   "cell_type": "code",
   "execution_count": null,
   "metadata": {
    "colab": {
     "base_uri": "https://localhost:8080/",
     "height": 34
    },
    "id": "UXFWbJp_fItE",
    "outputId": "05243942-353d-4d61-f924-5e6580e5fd15"
   },
   "outputs": [
    {
     "data": {
      "text/plain": [
       "array([2, 1, 3, 4])"
      ]
     },
     "execution_count": 176,
     "metadata": {
      "tags": []
     },
     "output_type": "execute_result"
    }
   ],
   "source": [
    "df['channel_in_n_countries'].unique()"
   ]
  },
  {
   "cell_type": "code",
   "execution_count": null,
   "metadata": {
    "id": "JxgfcqnWfRvc"
   },
   "outputs": [],
   "source": [
    "train_proc, test_proc, features = split_df_and_get_features(df, train.shape[0])\n",
    "features = [c for c in df.columns if c not in [ID_COL, TARGET_COL]]\n",
    "cat_num_cols = [c for c in features if c not in ['title', 'tags', 'description', 'publish_date']]"
   ]
  },
  {
   "cell_type": "code",
   "execution_count": null,
   "metadata": {
    "colab": {
     "base_uri": "https://localhost:8080/",
     "height": 1000
    },
    "id": "xTYSpL8KY9-5",
    "outputId": "50c86781-e2b1-49ff-fa17-7ff1746b36a0"
   },
   "outputs": [
    {
     "name": "stdout",
     "output_type": "stream",
     "text": [
      "\n",
      "------------- Fold 1 -------------\n",
      "Training until validation scores don't improve for 200 rounds.\n",
      "[300]\tvalid_0's rmse: 0.602211\n",
      "[600]\tvalid_0's rmse: 0.576537\n",
      "[900]\tvalid_0's rmse: 0.564352\n",
      "[1200]\tvalid_0's rmse: 0.557464\n",
      "[1500]\tvalid_0's rmse: 0.553461\n",
      "[1800]\tvalid_0's rmse: 0.550827\n",
      "[2100]\tvalid_0's rmse: 0.549391\n",
      "[2400]\tvalid_0's rmse: 0.548714\n",
      "[2700]\tvalid_0's rmse: 0.547864\n",
      "[3000]\tvalid_0's rmse: 0.547396\n",
      "[3300]\tvalid_0's rmse: 0.547002\n",
      "Early stopping, best iteration is:\n",
      "[3238]\tvalid_0's rmse: 0.546874\n",
      "\n",
      "AV metric score for validation set is 546.8742825264334\n",
      "\n",
      "------------- Fold 2 -------------\n",
      "Training until validation scores don't improve for 200 rounds.\n",
      "[300]\tvalid_0's rmse: 0.606165\n",
      "[600]\tvalid_0's rmse: 0.584343\n",
      "[900]\tvalid_0's rmse: 0.574279\n",
      "[1200]\tvalid_0's rmse: 0.567945\n",
      "[1500]\tvalid_0's rmse: 0.563975\n",
      "[1800]\tvalid_0's rmse: 0.561168\n",
      "[2100]\tvalid_0's rmse: 0.559567\n",
      "[2400]\tvalid_0's rmse: 0.557947\n",
      "[2700]\tvalid_0's rmse: 0.557585\n",
      "Early stopping, best iteration is:\n",
      "[2535]\tvalid_0's rmse: 0.557508\n",
      "\n",
      "AV metric score for validation set is 557.5075569139269\n",
      "\n",
      "------------- Fold 3 -------------\n",
      "Training until validation scores don't improve for 200 rounds.\n",
      "[300]\tvalid_0's rmse: 0.591757\n",
      "[600]\tvalid_0's rmse: 0.571833\n",
      "[900]\tvalid_0's rmse: 0.561916\n",
      "[1200]\tvalid_0's rmse: 0.557027\n",
      "[1500]\tvalid_0's rmse: 0.553541\n",
      "[1800]\tvalid_0's rmse: 0.551678\n",
      "[2100]\tvalid_0's rmse: 0.550735\n",
      "[2400]\tvalid_0's rmse: 0.550273\n",
      "Early stopping, best iteration is:\n",
      "[2347]\tvalid_0's rmse: 0.550018\n",
      "\n",
      "AV metric score for validation set is 550.018305048368\n",
      "\n",
      "------------- Fold 4 -------------\n",
      "Training until validation scores don't improve for 200 rounds.\n",
      "[300]\tvalid_0's rmse: 0.589078\n",
      "[600]\tvalid_0's rmse: 0.568665\n",
      "[900]\tvalid_0's rmse: 0.559078\n",
      "[1200]\tvalid_0's rmse: 0.553848\n",
      "[1500]\tvalid_0's rmse: 0.551038\n",
      "[1800]\tvalid_0's rmse: 0.549487\n",
      "[2100]\tvalid_0's rmse: 0.547488\n",
      "[2400]\tvalid_0's rmse: 0.546282\n",
      "[2700]\tvalid_0's rmse: 0.545476\n",
      "[3000]\tvalid_0's rmse: 0.544651\n",
      "[3300]\tvalid_0's rmse: 0.544096\n",
      "Early stopping, best iteration is:\n",
      "[3356]\tvalid_0's rmse: 0.543965\n",
      "\n",
      "AV metric score for validation set is 543.9645161925822\n",
      "\n",
      "------------- Fold 5 -------------\n",
      "Training until validation scores don't improve for 200 rounds.\n",
      "[300]\tvalid_0's rmse: 0.599094\n",
      "[600]\tvalid_0's rmse: 0.577441\n",
      "[900]\tvalid_0's rmse: 0.568483\n",
      "[1200]\tvalid_0's rmse: 0.564531\n",
      "[1500]\tvalid_0's rmse: 0.562303\n",
      "[1800]\tvalid_0's rmse: 0.55897\n",
      "[2100]\tvalid_0's rmse: 0.557268\n",
      "[2400]\tvalid_0's rmse: 0.556161\n",
      "Early stopping, best iteration is:\n",
      "[2365]\tvalid_0's rmse: 0.555968\n",
      "\n",
      "AV metric score for validation set is 555.9680858778348\n",
      "\n",
      "\n",
      "AV metric for oofs is 550.8907975661966\n"
     ]
    },
    {
     "data": {
      "image/png": "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
